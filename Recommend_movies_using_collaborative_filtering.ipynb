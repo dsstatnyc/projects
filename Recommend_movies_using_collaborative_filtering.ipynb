{
 "cells": [
  {
   "cell_type": "markdown",
   "metadata": {},
   "source": [
    "# Recommended Movies Using Item-Item Collaborative Filtering"
   ]
  },
  {
   "cell_type": "markdown",
   "metadata": {},
   "source": [
    "## Project Goals\n",
    "The goal of this project is to recommend new movies to users based on their existing movie review records. I used item-item collaborative filtering and cosine similarity to predict the ratings of the unseen movies, and recommended movies with top predicted ratings to users."
   ]
  },
  {
   "cell_type": "markdown",
   "metadata": {},
   "source": [
    "# 1. Load movie rating data"
   ]
  },
  {
   "cell_type": "markdown",
   "metadata": {},
   "source": [
    "First, we loaded data into pandas data frame. There are 100,000 ratings for 1,682 movies rated by 943 users."
   ]
  },
  {
   "cell_type": "code",
   "execution_count": 2,
   "metadata": {},
   "outputs": [],
   "source": [
    "import numpy as np\n",
    "import pandas as pd\n",
    "#from scipy import sparse\n",
    "#from time import time"
   ]
  },
  {
   "cell_type": "code",
   "execution_count": 27,
   "metadata": {},
   "outputs": [],
   "source": [
    "## Load data to pandas\n",
    "df_ratings_contents = pd.read_table(\"movierating.data\", names=[\"user_name\", \"movie_name\", \"rating\", \"timestamp\"])"
   ]
  },
  {
   "cell_type": "code",
   "execution_count": 28,
   "metadata": {},
   "outputs": [
    {
     "data": {
      "text/plain": [
       "(100000, 4)"
      ]
     },
     "execution_count": 28,
     "metadata": {},
     "output_type": "execute_result"
    }
   ],
   "source": [
    "# data dimension\n",
    "df_ratings_contents.shape"
   ]
  },
  {
   "cell_type": "code",
   "execution_count": 29,
   "metadata": {},
   "outputs": [
    {
     "data": {
      "text/plain": [
       "943"
      ]
     },
     "execution_count": 29,
     "metadata": {},
     "output_type": "execute_result"
    }
   ],
   "source": [
    "# 943 users\n",
    "df_ratings_contents.user_name.nunique()"
   ]
  },
  {
   "cell_type": "code",
   "execution_count": 30,
   "metadata": {},
   "outputs": [
    {
     "data": {
      "text/plain": [
       "1682"
      ]
     },
     "execution_count": 30,
     "metadata": {},
     "output_type": "execute_result"
    }
   ],
   "source": [
    "# 1682 movies\n",
    "df_ratings_contents.movie_name.nunique()"
   ]
  },
  {
   "cell_type": "code",
   "execution_count": 31,
   "metadata": {},
   "outputs": [
    {
     "data": {
      "text/html": [
       "<div>\n",
       "<style scoped>\n",
       "    .dataframe tbody tr th:only-of-type {\n",
       "        vertical-align: middle;\n",
       "    }\n",
       "\n",
       "    .dataframe tbody tr th {\n",
       "        vertical-align: top;\n",
       "    }\n",
       "\n",
       "    .dataframe thead th {\n",
       "        text-align: right;\n",
       "    }\n",
       "</style>\n",
       "<table border=\"1\" class=\"dataframe\">\n",
       "  <thead>\n",
       "    <tr style=\"text-align: right;\">\n",
       "      <th></th>\n",
       "      <th>user_name</th>\n",
       "      <th>movie_name</th>\n",
       "      <th>rating</th>\n",
       "      <th>timestamp</th>\n",
       "    </tr>\n",
       "  </thead>\n",
       "  <tbody>\n",
       "    <tr>\n",
       "      <th>0</th>\n",
       "      <td>196</td>\n",
       "      <td>242</td>\n",
       "      <td>3</td>\n",
       "      <td>881250949</td>\n",
       "    </tr>\n",
       "    <tr>\n",
       "      <th>1</th>\n",
       "      <td>186</td>\n",
       "      <td>302</td>\n",
       "      <td>3</td>\n",
       "      <td>891717742</td>\n",
       "    </tr>\n",
       "    <tr>\n",
       "      <th>2</th>\n",
       "      <td>22</td>\n",
       "      <td>377</td>\n",
       "      <td>1</td>\n",
       "      <td>878887116</td>\n",
       "    </tr>\n",
       "  </tbody>\n",
       "</table>\n",
       "</div>"
      ],
      "text/plain": [
       "   user_name  movie_name  rating  timestamp\n",
       "0        196         242       3  881250949\n",
       "1        186         302       3  891717742\n",
       "2         22         377       1  878887116"
      ]
     },
     "execution_count": 31,
     "metadata": {},
     "output_type": "execute_result"
    }
   ],
   "source": [
    "df_ratings_contents.head(3)"
   ]
  },
  {
   "cell_type": "code",
   "execution_count": 32,
   "metadata": {},
   "outputs": [
    {
     "name": "stdout",
     "output_type": "stream",
     "text": [
      "<class 'pandas.core.frame.DataFrame'>\n",
      "RangeIndex: 100000 entries, 0 to 99999\n",
      "Data columns (total 4 columns):\n",
      "user_name     100000 non-null int64\n",
      "movie_name    100000 non-null int64\n",
      "rating        100000 non-null int64\n",
      "timestamp     100000 non-null int64\n",
      "dtypes: int64(4)\n",
      "memory usage: 3.1 MB\n"
     ]
    }
   ],
   "source": [
    "df_ratings_contents.info()"
   ]
  },
  {
   "cell_type": "code",
   "execution_count": 33,
   "metadata": {},
   "outputs": [
    {
     "data": {
      "text/html": [
       "<div>\n",
       "<style scoped>\n",
       "    .dataframe tbody tr th:only-of-type {\n",
       "        vertical-align: middle;\n",
       "    }\n",
       "\n",
       "    .dataframe tbody tr th {\n",
       "        vertical-align: top;\n",
       "    }\n",
       "\n",
       "    .dataframe thead th {\n",
       "        text-align: right;\n",
       "    }\n",
       "</style>\n",
       "<table border=\"1\" class=\"dataframe\">\n",
       "  <thead>\n",
       "    <tr style=\"text-align: right;\">\n",
       "      <th></th>\n",
       "      <th>user_name</th>\n",
       "      <th>movie_name</th>\n",
       "      <th>rating</th>\n",
       "      <th>timestamp</th>\n",
       "    </tr>\n",
       "  </thead>\n",
       "  <tbody>\n",
       "    <tr>\n",
       "      <th>count</th>\n",
       "      <td>100000.00000</td>\n",
       "      <td>100000.000000</td>\n",
       "      <td>100000.000000</td>\n",
       "      <td>1.000000e+05</td>\n",
       "    </tr>\n",
       "    <tr>\n",
       "      <th>mean</th>\n",
       "      <td>462.48475</td>\n",
       "      <td>425.530130</td>\n",
       "      <td>3.529860</td>\n",
       "      <td>8.835289e+08</td>\n",
       "    </tr>\n",
       "    <tr>\n",
       "      <th>std</th>\n",
       "      <td>266.61442</td>\n",
       "      <td>330.798356</td>\n",
       "      <td>1.125674</td>\n",
       "      <td>5.343856e+06</td>\n",
       "    </tr>\n",
       "    <tr>\n",
       "      <th>min</th>\n",
       "      <td>1.00000</td>\n",
       "      <td>1.000000</td>\n",
       "      <td>1.000000</td>\n",
       "      <td>8.747247e+08</td>\n",
       "    </tr>\n",
       "    <tr>\n",
       "      <th>25%</th>\n",
       "      <td>254.00000</td>\n",
       "      <td>175.000000</td>\n",
       "      <td>3.000000</td>\n",
       "      <td>8.794487e+08</td>\n",
       "    </tr>\n",
       "    <tr>\n",
       "      <th>50%</th>\n",
       "      <td>447.00000</td>\n",
       "      <td>322.000000</td>\n",
       "      <td>4.000000</td>\n",
       "      <td>8.828269e+08</td>\n",
       "    </tr>\n",
       "    <tr>\n",
       "      <th>75%</th>\n",
       "      <td>682.00000</td>\n",
       "      <td>631.000000</td>\n",
       "      <td>4.000000</td>\n",
       "      <td>8.882600e+08</td>\n",
       "    </tr>\n",
       "    <tr>\n",
       "      <th>max</th>\n",
       "      <td>943.00000</td>\n",
       "      <td>1682.000000</td>\n",
       "      <td>5.000000</td>\n",
       "      <td>8.932866e+08</td>\n",
       "    </tr>\n",
       "  </tbody>\n",
       "</table>\n",
       "</div>"
      ],
      "text/plain": [
       "          user_name     movie_name         rating     timestamp\n",
       "count  100000.00000  100000.000000  100000.000000  1.000000e+05\n",
       "mean      462.48475     425.530130       3.529860  8.835289e+08\n",
       "std       266.61442     330.798356       1.125674  5.343856e+06\n",
       "min         1.00000       1.000000       1.000000  8.747247e+08\n",
       "25%       254.00000     175.000000       3.000000  8.794487e+08\n",
       "50%       447.00000     322.000000       4.000000  8.828269e+08\n",
       "75%       682.00000     631.000000       4.000000  8.882600e+08\n",
       "max       943.00000    1682.000000       5.000000  8.932866e+08"
      ]
     },
     "execution_count": 33,
     "metadata": {},
     "output_type": "execute_result"
    }
   ],
   "source": [
    " # user_name and movie_name start from 1. end in 943 and 1682. \n",
    "df_ratings_contents.describe() "
   ]
  },
  {
   "cell_type": "markdown",
   "metadata": {},
   "source": [
    "# 2. Convert movie rating data into user-item rating matrix"
   ]
  },
  {
   "cell_type": "markdown",
   "metadata": {},
   "source": [
    "Use pivot_table to convert long-form rating data into user-item utility matrix. The unseen movies are filled with 0. The result is an 943 x 1682 rating matrix."
   ]
  },
  {
   "cell_type": "code",
   "execution_count": 42,
   "metadata": {},
   "outputs": [],
   "source": [
    "# transform long-form to wide-form matrix, fill 0 when cell is NaN\n",
    "rating_mat = pd.pivot_table(data=df_ratings_contents, values='rating', \n",
    "                            index='user_name', columns='movie_name', fill_value=0)     "
   ]
  },
  {
   "cell_type": "code",
   "execution_count": 45,
   "metadata": {},
   "outputs": [
    {
     "data": {
      "text/plain": [
       "(943, 1682)"
      ]
     },
     "execution_count": 45,
     "metadata": {},
     "output_type": "execute_result"
    }
   ],
   "source": [
    "rating_mat.shape"
   ]
  },
  {
   "cell_type": "code",
   "execution_count": 43,
   "metadata": {
    "scrolled": false
   },
   "outputs": [
    {
     "data": {
      "text/html": [
       "<div>\n",
       "<style scoped>\n",
       "    .dataframe tbody tr th:only-of-type {\n",
       "        vertical-align: middle;\n",
       "    }\n",
       "\n",
       "    .dataframe tbody tr th {\n",
       "        vertical-align: top;\n",
       "    }\n",
       "\n",
       "    .dataframe thead th {\n",
       "        text-align: right;\n",
       "    }\n",
       "</style>\n",
       "<table border=\"1\" class=\"dataframe\">\n",
       "  <thead>\n",
       "    <tr style=\"text-align: right;\">\n",
       "      <th>movie_name</th>\n",
       "      <th>1</th>\n",
       "      <th>2</th>\n",
       "      <th>3</th>\n",
       "      <th>4</th>\n",
       "      <th>5</th>\n",
       "      <th>6</th>\n",
       "      <th>7</th>\n",
       "      <th>8</th>\n",
       "      <th>9</th>\n",
       "      <th>10</th>\n",
       "      <th>...</th>\n",
       "      <th>1673</th>\n",
       "      <th>1674</th>\n",
       "      <th>1675</th>\n",
       "      <th>1676</th>\n",
       "      <th>1677</th>\n",
       "      <th>1678</th>\n",
       "      <th>1679</th>\n",
       "      <th>1680</th>\n",
       "      <th>1681</th>\n",
       "      <th>1682</th>\n",
       "    </tr>\n",
       "    <tr>\n",
       "      <th>user_name</th>\n",
       "      <th></th>\n",
       "      <th></th>\n",
       "      <th></th>\n",
       "      <th></th>\n",
       "      <th></th>\n",
       "      <th></th>\n",
       "      <th></th>\n",
       "      <th></th>\n",
       "      <th></th>\n",
       "      <th></th>\n",
       "      <th></th>\n",
       "      <th></th>\n",
       "      <th></th>\n",
       "      <th></th>\n",
       "      <th></th>\n",
       "      <th></th>\n",
       "      <th></th>\n",
       "      <th></th>\n",
       "      <th></th>\n",
       "      <th></th>\n",
       "      <th></th>\n",
       "    </tr>\n",
       "  </thead>\n",
       "  <tbody>\n",
       "    <tr>\n",
       "      <th>1</th>\n",
       "      <td>5</td>\n",
       "      <td>3</td>\n",
       "      <td>4</td>\n",
       "      <td>3</td>\n",
       "      <td>3</td>\n",
       "      <td>5</td>\n",
       "      <td>4</td>\n",
       "      <td>1</td>\n",
       "      <td>5</td>\n",
       "      <td>3</td>\n",
       "      <td>...</td>\n",
       "      <td>0</td>\n",
       "      <td>0</td>\n",
       "      <td>0</td>\n",
       "      <td>0</td>\n",
       "      <td>0</td>\n",
       "      <td>0</td>\n",
       "      <td>0</td>\n",
       "      <td>0</td>\n",
       "      <td>0</td>\n",
       "      <td>0</td>\n",
       "    </tr>\n",
       "    <tr>\n",
       "      <th>2</th>\n",
       "      <td>4</td>\n",
       "      <td>0</td>\n",
       "      <td>0</td>\n",
       "      <td>0</td>\n",
       "      <td>0</td>\n",
       "      <td>0</td>\n",
       "      <td>0</td>\n",
       "      <td>0</td>\n",
       "      <td>0</td>\n",
       "      <td>2</td>\n",
       "      <td>...</td>\n",
       "      <td>0</td>\n",
       "      <td>0</td>\n",
       "      <td>0</td>\n",
       "      <td>0</td>\n",
       "      <td>0</td>\n",
       "      <td>0</td>\n",
       "      <td>0</td>\n",
       "      <td>0</td>\n",
       "      <td>0</td>\n",
       "      <td>0</td>\n",
       "    </tr>\n",
       "    <tr>\n",
       "      <th>3</th>\n",
       "      <td>0</td>\n",
       "      <td>0</td>\n",
       "      <td>0</td>\n",
       "      <td>0</td>\n",
       "      <td>0</td>\n",
       "      <td>0</td>\n",
       "      <td>0</td>\n",
       "      <td>0</td>\n",
       "      <td>0</td>\n",
       "      <td>0</td>\n",
       "      <td>...</td>\n",
       "      <td>0</td>\n",
       "      <td>0</td>\n",
       "      <td>0</td>\n",
       "      <td>0</td>\n",
       "      <td>0</td>\n",
       "      <td>0</td>\n",
       "      <td>0</td>\n",
       "      <td>0</td>\n",
       "      <td>0</td>\n",
       "      <td>0</td>\n",
       "    </tr>\n",
       "  </tbody>\n",
       "</table>\n",
       "<p>3 rows × 1682 columns</p>\n",
       "</div>"
      ],
      "text/plain": [
       "movie_name  1     2     3     4     5     6     7     8     9     10    ...   \\\n",
       "user_name                                                               ...    \n",
       "1              5     3     4     3     3     5     4     1     5     3  ...    \n",
       "2              4     0     0     0     0     0     0     0     0     2  ...    \n",
       "3              0     0     0     0     0     0     0     0     0     0  ...    \n",
       "\n",
       "movie_name  1673  1674  1675  1676  1677  1678  1679  1680  1681  1682  \n",
       "user_name                                                               \n",
       "1              0     0     0     0     0     0     0     0     0     0  \n",
       "2              0     0     0     0     0     0     0     0     0     0  \n",
       "3              0     0     0     0     0     0     0     0     0     0  \n",
       "\n",
       "[3 rows x 1682 columns]"
      ]
     },
     "execution_count": 43,
     "metadata": {},
     "output_type": "execute_result"
    }
   ],
   "source": [
    "rating_mat.head(3)"
   ]
  },
  {
   "cell_type": "markdown",
   "metadata": {},
   "source": [
    "# 3. Calculate item-item cosine similarity score\n",
    "\n",
    "We calculated the cosine similarity score matrix using the user-item rating data. The result is a 1682x1682 item-item similarity score matrix."
   ]
  },
  {
   "cell_type": "code",
   "execution_count": 48,
   "metadata": {},
   "outputs": [],
   "source": [
    "from sklearn.metrics.pairwise import cosine_similarity\n",
    "\n",
    "# Item-Item similarity matrix using cosine similarity on ratings\n",
    "# need to transpose utilimary matrix to item * user\n",
    "item_sim_mat = cosine_similarity(rating_mat.T)   "
   ]
  },
  {
   "cell_type": "code",
   "execution_count": 49,
   "metadata": {},
   "outputs": [
    {
     "data": {
      "text/plain": [
       "(1682, 1682)"
      ]
     },
     "execution_count": 49,
     "metadata": {},
     "output_type": "execute_result"
    }
   ],
   "source": [
    "item_sim_mat.shape  "
   ]
  },
  {
   "cell_type": "code",
   "execution_count": 60,
   "metadata": {},
   "outputs": [
    {
     "data": {
      "text/plain": [
       "array([[1.        , 0.40238218, 0.33024479, 0.45493792, 0.28671351],\n",
       "       [0.40238218, 1.        , 0.27306918, 0.50257077, 0.31883618],\n",
       "       [0.33024479, 0.27306918, 1.        , 0.32486639, 0.21295656],\n",
       "       [0.45493792, 0.50257077, 0.32486639, 1.        , 0.33423948],\n",
       "       [0.28671351, 0.31883618, 0.21295656, 0.33423948, 1.        ]])"
      ]
     },
     "execution_count": 60,
     "metadata": {},
     "output_type": "execute_result"
    }
   ],
   "source": [
    "# peak the similarity matrix\n",
    "item_sim_mat[0:5,0:5]    "
   ]
  },
  {
   "cell_type": "markdown",
   "metadata": {},
   "source": [
    "# 4. Find the top-75 most similar movies for each movie based on similarity scores\n",
    "\n",
    "I sorted the similarity score are sorted and identified the 75 most similar movies to each movie. These closest neightbors will be used to calculate the item-based weighted ratings in Step 5. "
   ]
  },
  {
   "cell_type": "code",
   "execution_count": 84,
   "metadata": {},
   "outputs": [],
   "source": [
    "#sort matrix within each row (column-wise), return the INDICES for the sorted values from small to large\n",
    "least_to_most_sim_indexes = np.argsort(item_sim_mat, axis=1) \n",
    "\n",
    "# find 75 neighborhoods' indices with highest similarity (76 ~ 2 positions to the right, as -1 is itself)\n",
    "neighborhood_size = 75   \n",
    "\n",
    "neighborhoods_loc = least_to_most_sim_indexes[:, -(neighborhood_size+1):-1:1]"
   ]
  },
  {
   "cell_type": "code",
   "execution_count": 85,
   "metadata": {},
   "outputs": [
    {
     "data": {
      "text/plain": [
       "array([[  98,  844,  273,   87,    7,  185,   69,  190,  283,  596,  160,\n",
       "         495,  257,    8,  392,  142,  233,  275,  131,  567,  152,  264,\n",
       "          88,   96,  281,  215,  195,  317,  175,  545,  143,  182,   21,\n",
       "         470,  293,  234,   63,  201,   55,  227,  126,   70,   95,   81,\n",
       "         587,  110,  422,  194,  167,  124,  172,   24,  209,   97,   14,\n",
       "         741,   78,   94,   68,  203,  256,   27,  171,  117,    6,  173,\n",
       "         236,   99,  221,  150,  404,  116,  120,  180,   49],\n",
       "       [ 422,  684,   63,  195,   87,   70,  390,  392,  185,   11,   79,\n",
       "         719,  754,   30,  187,  469,  180,  182,  801,   55,  366,   10,\n",
       "         167,  731,   68,   32,  398,   27,   21,   88,  172,  201,  203,\n",
       "          53,    3,  175,  183,   93,  678,  231,  745, 1227,  264,  171,\n",
       "          94,  143,  173,  430,  209,  229,   78,  553,  227,  226,  683,\n",
       "         238,  228,  194,   81,   67,   37,  565,  577,   28,  567,   95,\n",
       "         549,  230,  225,  575,   61,  402,  384,  160,  232]],\n",
       "      dtype=int64)"
      ]
     },
     "execution_count": 85,
     "metadata": {},
     "output_type": "execute_result"
    }
   ],
   "source": [
    "neighborhoods_loc[0:2,:]"
   ]
  },
  {
   "cell_type": "code",
   "execution_count": 86,
   "metadata": {},
   "outputs": [
    {
     "data": {
      "text/plain": [
       "((1682, 75), numpy.ndarray)"
      ]
     },
     "execution_count": 86,
     "metadata": {},
     "output_type": "execute_result"
    }
   ],
   "source": [
    "neighborhoods_loc.shape, type(neighborhoods_loc)"
   ]
  },
  {
   "cell_type": "markdown",
   "metadata": {},
   "source": [
    "# 5. Predict ratings of unseen moviesfor a user"
   ]
  },
  {
   "cell_type": "markdown",
   "metadata": {},
   "source": [
    "In this section, I predicted the unseen movies' ratings for user_id=100"
   ]
  },
  {
   "cell_type": "code",
   "execution_count": 105,
   "metadata": {},
   "outputs": [],
   "source": [
    "user_id = 100"
   ]
  },
  {
   "cell_type": "code",
   "execution_count": 106,
   "metadata": {},
   "outputs": [
    {
     "data": {
      "text/plain": [
       "99"
      ]
     },
     "execution_count": 106,
     "metadata": {},
     "output_type": "execute_result"
    }
   ],
   "source": [
    "# find the index location for user_id=100\n",
    "user_id_list = list(rating_mat.index)\n",
    "user_id_loc = user_id_list.index(user_id)\n",
    "user_id_loc"
   ]
  },
  {
   "cell_type": "code",
   "execution_count": 107,
   "metadata": {},
   "outputs": [
    {
     "data": {
      "text/plain": [
       "(array([ 257,  265,  267,  268,  269,  270,  271,  285,  287,  288,  291,\n",
       "         293,  299,  301,  309,  312,  314,  315,  320,  322,  325,  327,\n",
       "         332,  339,  341,  343,  345,  346,  347,  348,  353,  354,  677,\n",
       "         688,  689,  690,  749,  750,  751,  873,  878,  879,  880,  884,\n",
       "         885,  886,  891,  894,  897,  899,  904,  907,  989, 1232, 1233,\n",
       "        1234, 1235, 1236, 1237], dtype=int64), 59)"
      ]
     },
     "execution_count": 107,
     "metadata": {},
     "output_type": "execute_result"
    }
   ],
   "source": [
    "# ratings_mat[user_id] return a row with user_id row index from the numpy array\n",
    "# .nonzero() return INDICES of the elements that are non-zero (movies that have been rated)\n",
    "# return a list of column index positions of the movies rated by user_id=100\n",
    "# if not using [0], nonzero() will return a tuple of 1 element with all numbers inside the element\n",
    "# user_id=100 has rated 59 movies\n",
    "itemloc_rated_by_this_user=rating_mat.loc[user_id].nonzero()[0] \n",
    "\n",
    "# these are column INDEX position, NOT item name !!!\n",
    "itemloc_rated_by_this_user, len(itemloc_rated_by_this_user) "
   ]
  },
  {
   "cell_type": "code",
   "execution_count": 109,
   "metadata": {},
   "outputs": [
    {
     "data": {
      "text/plain": [
       "movie_name\n",
       "250    0\n",
       "251    0\n",
       "252    0\n",
       "253    0\n",
       "254    0\n",
       "255    0\n",
       "256    0\n",
       "257    0\n",
       "258    4\n",
       "259    0\n",
       "260    0\n",
       "Name: 100, dtype: int64"
      ]
     },
     "execution_count": 109,
     "metadata": {},
     "output_type": "execute_result"
    }
   ],
   "source": [
    "# confirm that movie_name 258 (row index 257) is rated by user_id=100\n",
    "rating_mat.loc[100, 250:260]"
   ]
  },
  {
   "cell_type": "code",
   "execution_count": 111,
   "metadata": {},
   "outputs": [
    {
     "data": {
      "text/plain": [
       "(Int64Index([ 258,  266,  268,  269,  270,  271,  272,  286,  288,  289,  292,\n",
       "              294,  300,  302,  310,  313,  315,  316,  321,  323,  326,  328,\n",
       "              333,  340,  342,  344,  346,  347,  348,  349,  354,  355,  678,\n",
       "              689,  690,  691,  750,  751,  752,  874,  879,  880,  881,  885,\n",
       "              886,  887,  892,  895,  898,  900,  905,  908,  990, 1233, 1234,\n",
       "             1235, 1236, 1237, 1238],\n",
       "            dtype='int64', name='movie_name'), 59)"
      ]
     },
     "execution_count": 111,
     "metadata": {},
     "output_type": "execute_result"
    }
   ],
   "source": [
    "# movie_name's that are rated by user 100\n",
    "itemname_rated_by_this_user = rating_mat.columns[itemloc_rated_by_this_user]    \n",
    "itemname_rated_by_this_user, len(itemname_rated_by_this_user) "
   ]
  },
  {
   "cell_type": "code",
   "execution_count": 114,
   "metadata": {},
   "outputs": [
    {
     "data": {
      "text/plain": [
       "Int64Index([ 258,  266,  268,  269,  270,  271,  272,  286,  288,  289,  292,\n",
       "             294,  300,  302,  310,  313,  315,  316,  321,  323,  326,  328,\n",
       "             333,  340,  342,  344,  346,  347,  348,  349,  354,  355,  678,\n",
       "             689,  690,  691,  750,  751,  752,  874,  879,  880,  881,  885,\n",
       "             886,  887,  892,  895,  898,  900,  905,  908,  990, 1233, 1234,\n",
       "            1235, 1236, 1237, 1238],\n",
       "           dtype='int64', name='movie_name')"
      ]
     },
     "execution_count": 114,
     "metadata": {},
     "output_type": "execute_result"
    }
   ],
   "source": [
    "#the movie names rated by user id 100, same as above. check good!\n",
    "rating_mat.columns[rating_mat.loc[user_id]>0]   "
   ]
  },
  {
   "cell_type": "code",
   "execution_count": 116,
   "metadata": {},
   "outputs": [
    {
     "data": {
      "text/plain": [
       "(943, 1682)"
      ]
     },
     "execution_count": 116,
     "metadata": {},
     "output_type": "execute_result"
    }
   ],
   "source": [
    "# Initialize prediction matrix dimension\n",
    "n_users = rating_mat.shape[0]    \n",
    "n_items = rating_mat.shape[1]\n",
    "print(n_users, n_items)"
   ]
  },
  {
   "cell_type": "code",
   "execution_count": 117,
   "metadata": {},
   "outputs": [
    {
     "data": {
      "text/plain": [
       "1682"
      ]
     },
     "execution_count": 117,
     "metadata": {},
     "output_type": "execute_result"
    }
   ],
   "source": [
    "# create empty array to save predicted ratings\n",
    "out = np.zeros(n_items)\n",
    "len(out)"
   ]
  },
  {
   "cell_type": "markdown",
   "metadata": {},
   "source": [
    "Apply item-item collaborative filtering equation to predict the ratings of unseen movies"
   ]
  },
  {
   "cell_type": "code",
   "execution_count": 151,
   "metadata": {},
   "outputs": [
    {
     "name": "stderr",
     "output_type": "stream",
     "text": [
      "C:\\Anaconda3\\lib\\site-packages\\ipykernel\\__main__.py:11: RuntimeWarning: invalid value encountered in double_scalars\n"
     ]
    },
    {
     "name": "stdout",
     "output_type": "stream",
     "text": [
      "[4.         0.         0.         0.         2.         3.\n",
      " 3.3075684  0.         3.48191162 0.         2.         0.\n",
      " 3.         3.45513014 4.         3.         0.         4.\n",
      " 3.60698455 3.        ]\n"
     ]
    }
   ],
   "source": [
    "# loop through all movies not rated by user 100\n",
    "for x in range(n_items):    \n",
    "    \n",
    "    relevant_items_loc = np.intersect1d(neighborhoods_loc[x,:], itemloc_rated_by_this_user, assume_unique=True)  \n",
    "    \n",
    "    # make prediction for (u, i)\n",
    "    out[x] = np.sum(rating_mat.iloc[user_id_loc, relevant_items_loc] * item_sim_mat[x, relevant_items_loc]) /  \\\n",
    "    (item_sim_mat[x, relevant_items_loc].sum())\n",
    "\n",
    "# replace NaN by 0\n",
    "pred_ratings = np.nan_to_num(out) \n",
    "\n",
    "#check result\n",
    "print(pred_ratings[:20])"
   ]
  },
  {
   "cell_type": "markdown",
   "metadata": {},
   "source": [
    "# 6. Recommend new movies to user based on highest predicted ratings\n",
    "\n",
    "Recommend top-100 new movies for user_id=100 based on the highest predicted ratings."
   ]
  },
  {
   "cell_type": "code",
   "execution_count": 152,
   "metadata": {},
   "outputs": [
    {
     "name": "stdout",
     "output_type": "stream",
     "text": [
      "[4.0128994 4.        4.        ... 0.        0.        0.       ]\n",
      "(1682,)\n"
     ]
    }
   ],
   "source": [
    "# sort the predicted ratings in decreasing order, return item INDICES\n",
    "itemloc_sorted_by_pred_rating = list(np.argsort(pred_ratings))[::-1]\n",
    "\n",
    "# check the predicted ratings (including predict the movies already seen by user_id=100)\n",
    "print(pred_ratings[itemloc_sorted_by_pred_rating])\n",
    "print(pred_ratings[itemloc_sorted_by_pred_rating].shape)"
   ]
  },
  {
   "cell_type": "markdown",
   "metadata": {},
   "source": [
    "### MAKE A FINAL RECOMMENDATION"
   ]
  },
  {
   "cell_type": "code",
   "execution_count": 153,
   "metadata": {
    "scrolled": true
   },
   "outputs": [
    {
     "name": "stdout",
     "output_type": "stream",
     "text": [
      "Top-100 new movie recommendation for user_id=100: \n",
      " [912, 911, 409, 181, 1152, 50, 845, 811, 799, 596, 220, 756, 533, 1602, 1197, 1317, 1314, 1621, 256, 1627, 1628, 25, 1416, 864, 1281, 146, 109, 926, 934, 121, 122, 1482, 125, 1462, 993, 1443, 865, 456, 1023, 1028, 1033, 1047, 1051, 1056, 1060, 866, 713, 1, 274, 267, 291, 1214, 1245, 284, 669, 281, 280, 1255, 225, 18, 15, 1279, 1661, 1483, 1656, 1464, 345, 916, 250, 871, 252, 297, 236, 906, 116, 298, 311, 275, 744, 126, 19, 255, 362, 312, 245, 754, 1313, 1618, 257, 894, 1596, 1595, 896, 1061, 904, 471, 676, 306, 237, 902]\n"
     ]
    }
   ],
   "source": [
    "# number of movies to recommend\n",
    "n = 100\n",
    "\n",
    "# extract the movie_names corresponding to the order of the predicted rating\n",
    "#need to exclude the movies that have already been rated by user_id=100\n",
    "itemname_recommend_excludeseen = [rating_mat.columns[i] for i in itemloc_sorted_by_pred_rating \n",
    "                                      if rating_mat.columns[i] not in itemname_rated_by_this_user]\n",
    "\n",
    "print('Top-100 new movie recommendation for user_id=100:','\\n', itemname_recommend_excludeseen[:n])"
   ]
  },
  {
   "cell_type": "markdown",
   "metadata": {},
   "source": [
    "# 7. Check prediction performance\n",
    "\n",
    "During prediction, I already predicted the ratings for those movies that user_id=100 have rated. Here I compared the true ratings (rated by user_id=100) and the predicted ratings, can calculated the MAE and MSE."
   ]
  },
  {
   "cell_type": "code",
   "execution_count": 154,
   "metadata": {},
   "outputs": [
    {
     "name": "stdout",
     "output_type": "stream",
     "text": [
      "[(4, 3.5468646513368975), (2, 2.962536455874424), (3, 3.401921624724125), (4, 3.5666630685180025), (3, 3.5099163641159863), (3, 3.5548628579705066), (4, 3.609749850957933), (3, 3.5294282809148756), (2, 3.477526852312378), (3, 3.4882560994076277), (2, 3.2034047164739223), (4, 3.350995270945521), (4, 3.5032582049344105), (4, 3.5827822648537713), (3, 3.4663421405345094), (5, 3.4812572429409854), (5, 3.458844884992249), (5, 3.5322998697089107), (1, 3.537638791279426), (3, 3.4632683887987477), (3, 3.3912796507695298), (4, 3.428473563448733), (3, 3.5138802341121385), (3, 3.4599994730404005), (3, 3.4700421665530485), (4, 3.4880892316710463), (3, 3.543307540075546), (4, 3.560884154166691), (3, 3.5148395097422753), (3, 3.212814683011735), (2, 3.6624373488994157), (4, 3.3748907859711106), (3, 3.3796380263097747), (3, 3.5259327233309836), (4, 3.3399419844783793), (4, 3.564995857590156), (4, 3.5379402996125306), (4, 3.5287043022808495), (4, 3.329584760967123), (1, 2.6649515920723115), (4, 3.328171831987737), (1, 3.0230701665711486), (1, 2.9961575348211094), (2, 2.981513064147254), (3, 3.4107319419735784), (2, 3.3762465649308777), (2, 3.6055775075664465), (2, 3.321595852910496), (4, 3.434784892857414), (4, 3.713657869378822), (3, 3.696933142330019), (1, 2.7876507684800416), (3, 3.0785673278456644), (3, 3.5), (1, 3.4385697427916906), (4, 3.272667614918091), (3, 3.272667614918091), (3, 3.2326313385450964), (2, 2.691454447171271)]\n"
     ]
    }
   ],
   "source": [
    "# true ratings by user_id=100\n",
    "ratings_true = rating_mat.iloc[user_id_loc, itemloc_rated_by_this_user] \n",
    "\n",
    "# prediction\n",
    "ratings_pred = pred_ratings[itemloc_rated_by_this_user]\n",
    "\n",
    "#print(list(zip(np.array(ratings_true).squeeze(),ratings_pred)))\n",
    "print(list(zip(ratings_true,ratings_pred)))"
   ]
  },
  {
   "cell_type": "markdown",
   "metadata": {},
   "source": [
    "### Evaluate rating prediction accuracy using MAE and MSE"
   ]
  },
  {
   "cell_type": "code",
   "execution_count": 155,
   "metadata": {},
   "outputs": [
    {
     "name": "stdout",
     "output_type": "stream",
     "text": [
      "0.8103744080815104\n"
     ]
    }
   ],
   "source": [
    "# Mean Absolute Error (MAE)\n",
    "print(abs(ratings_true-ratings_pred).mean())"
   ]
  },
  {
   "cell_type": "code",
   "execution_count": 156,
   "metadata": {},
   "outputs": [
    {
     "data": {
      "text/plain": [
       "0.9880603990967685"
      ]
     },
     "execution_count": 156,
     "metadata": {},
     "output_type": "execute_result"
    }
   ],
   "source": [
    "# Mean Squared Error (MSE)\n",
    "(np.array(ratings_true-ratings_pred)**2).mean()"
   ]
  },
  {
   "cell_type": "markdown",
   "metadata": {},
   "source": [
    "* MSE and MAE show that the recommendated movies have ratings similar to true user ratings"
   ]
  },
  {
   "cell_type": "markdown",
   "metadata": {},
   "source": [
    "# 8. Summary\n",
    "\n",
    "* The item-item collaborative filtering using cosine-similarity and 75 neighbors achieve high recommendation/prediction accuracy"
   ]
  }
 ],
 "metadata": {
  "anaconda-cloud": {},
  "kernelspec": {
   "display_name": "Python [default]",
   "language": "python",
   "name": "python3"
  },
  "language_info": {
   "codemirror_mode": {
    "name": "ipython",
    "version": 3
   },
   "file_extension": ".py",
   "mimetype": "text/x-python",
   "name": "python",
   "nbconvert_exporter": "python",
   "pygments_lexer": "ipython3",
   "version": "3.6.6"
  },
  "varInspector": {
   "cols": {
    "lenName": 16,
    "lenType": 16,
    "lenVar": 40
   },
   "kernels_config": {
    "python": {
     "delete_cmd_postfix": "",
     "delete_cmd_prefix": "del ",
     "library": "var_list.py",
     "varRefreshCmd": "print(var_dic_list())"
    },
    "r": {
     "delete_cmd_postfix": ") ",
     "delete_cmd_prefix": "rm(",
     "library": "var_list.r",
     "varRefreshCmd": "cat(var_dic_list()) "
    }
   },
   "types_to_exclude": [
    "module",
    "function",
    "builtin_function_or_method",
    "instance",
    "_Feature"
   ],
   "window_display": false
  }
 },
 "nbformat": 4,
 "nbformat_minor": 1
}
