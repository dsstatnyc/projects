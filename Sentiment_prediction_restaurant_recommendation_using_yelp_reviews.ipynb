{
 "cells": [
  {
   "cell_type": "markdown",
   "metadata": {},
   "source": [
    "# Sentiment Prediction and Restaurant Recommendation using Yelp reviews\n",
    "\n",
    "## Project Goals: \n",
    "* Sentement analysis: predict perfect sentiment (rating 5 vs. 1-4) using review texts and logistic regression\n",
    "* Recommendation: recommend restaurants based on review ratings and texts using latent-factor collaborative filtering (matrix factorization)"
   ]
  },
  {
   "cell_type": "markdown",
   "metadata": {},
   "source": [
    "# PART 0. DATA PRE-PROCESSING"
   ]
  },
  {
   "cell_type": "code",
   "execution_count": 64,
   "metadata": {},
   "outputs": [],
   "source": [
    "import numpy as np\n",
    "import pandas as pd \n",
    "import seaborn as sns \n",
    "import matplotlib.pyplot as plt\n",
    "\n",
    "pd.set_option('display.max_columns', 500,'display.max_rows', 1000)\n",
    "\n",
    "%matplotlib inline"
   ]
  },
  {
   "cell_type": "code",
   "execution_count": 65,
   "metadata": {},
   "outputs": [],
   "source": [
    "import json\n",
    "import pandas as pd"
   ]
  },
  {
   "cell_type": "code",
   "execution_count": 68,
   "metadata": {},
   "outputs": [],
   "source": [
    "# store the full data in a list\n",
    "file_business, file_checkin, file_review, file_tip, file_user = [\n",
    "    'dataset\\\\business.json',\n",
    "    'dataset\\\\checkin.json',\n",
    "    'dataset\\\\review.json',\n",
    "    'dataset\\\\tip.json',\n",
    "    'dataset\\\\user.json']"
   ]
  },
  {
   "cell_type": "markdown",
   "metadata": {},
   "source": [
    "## Process user data"
   ]
  },
  {
   "cell_type": "code",
   "execution_count": 5,
   "metadata": {},
   "outputs": [],
   "source": [
    "with open(file_user, 'rb') as f:      \n",
    "    df_user = pd.DataFrame(json.loads(line) for line in f)"
   ]
  },
  {
   "cell_type": "code",
   "execution_count": 11,
   "metadata": {},
   "outputs": [
    {
     "name": "stdout",
     "output_type": "stream",
     "text": [
      "<class 'pandas.core.frame.DataFrame'>\n",
      "RangeIndex: 1637138 entries, 0 to 1637137\n",
      "Data columns (total 22 columns):\n",
      "average_stars         1637138 non-null float64\n",
      "compliment_cool       1637138 non-null int64\n",
      "compliment_cute       1637138 non-null int64\n",
      "compliment_funny      1637138 non-null int64\n",
      "compliment_hot        1637138 non-null int64\n",
      "compliment_list       1637138 non-null int64\n",
      "compliment_more       1637138 non-null int64\n",
      "compliment_note       1637138 non-null int64\n",
      "compliment_photos     1637138 non-null int64\n",
      "compliment_plain      1637138 non-null int64\n",
      "compliment_profile    1637138 non-null int64\n",
      "compliment_writer     1637138 non-null int64\n",
      "cool                  1637138 non-null int64\n",
      "elite                 1637138 non-null object\n",
      "fans                  1637138 non-null int64\n",
      "friends               1637138 non-null object\n",
      "funny                 1637138 non-null int64\n",
      "name                  1637138 non-null object\n",
      "review_count          1637138 non-null int64\n",
      "useful                1637138 non-null int64\n",
      "user_id               1637138 non-null object\n",
      "yelping_since         1637138 non-null object\n",
      "dtypes: float64(1), int64(16), object(5)\n",
      "memory usage: 274.8+ MB\n"
     ]
    }
   ],
   "source": [
    "df_user.info()"
   ]
  },
  {
   "cell_type": "code",
   "execution_count": 15,
   "metadata": {},
   "outputs": [
    {
     "data": {
      "text/html": [
       "<div>\n",
       "<style scoped>\n",
       "    .dataframe tbody tr th:only-of-type {\n",
       "        vertical-align: middle;\n",
       "    }\n",
       "\n",
       "    .dataframe tbody tr th {\n",
       "        vertical-align: top;\n",
       "    }\n",
       "\n",
       "    .dataframe thead th {\n",
       "        text-align: right;\n",
       "    }\n",
       "</style>\n",
       "<table border=\"1\" class=\"dataframe\">\n",
       "  <thead>\n",
       "    <tr style=\"text-align: right;\">\n",
       "      <th></th>\n",
       "      <th>average_stars</th>\n",
       "      <th>compliment_cool</th>\n",
       "      <th>compliment_cute</th>\n",
       "      <th>compliment_funny</th>\n",
       "      <th>compliment_hot</th>\n",
       "      <th>compliment_list</th>\n",
       "      <th>compliment_more</th>\n",
       "      <th>compliment_note</th>\n",
       "      <th>compliment_photos</th>\n",
       "      <th>compliment_plain</th>\n",
       "      <th>...</th>\n",
       "      <th>cool</th>\n",
       "      <th>elite</th>\n",
       "      <th>fans</th>\n",
       "      <th>friends</th>\n",
       "      <th>funny</th>\n",
       "      <th>name</th>\n",
       "      <th>review_count</th>\n",
       "      <th>useful</th>\n",
       "      <th>user_id</th>\n",
       "      <th>yelping_since</th>\n",
       "    </tr>\n",
       "  </thead>\n",
       "  <tbody>\n",
       "    <tr>\n",
       "      <th>0</th>\n",
       "      <td>4.03</td>\n",
       "      <td>1</td>\n",
       "      <td>0</td>\n",
       "      <td>1</td>\n",
       "      <td>2</td>\n",
       "      <td>0</td>\n",
       "      <td>0</td>\n",
       "      <td>1</td>\n",
       "      <td>0</td>\n",
       "      <td>1</td>\n",
       "      <td>...</td>\n",
       "      <td>25</td>\n",
       "      <td>2015,2016,2017</td>\n",
       "      <td>5</td>\n",
       "      <td>c78V-rj8NQcQjOI8KP3UEA, alRMgPcngYSCJ5naFRBz5g...</td>\n",
       "      <td>17</td>\n",
       "      <td>Rashmi</td>\n",
       "      <td>95</td>\n",
       "      <td>84</td>\n",
       "      <td>l6BmjZMeQD3rDxWUbiAiow</td>\n",
       "      <td>2013-10-08 23:11:33</td>\n",
       "    </tr>\n",
       "    <tr>\n",
       "      <th>1</th>\n",
       "      <td>3.63</td>\n",
       "      <td>1</td>\n",
       "      <td>0</td>\n",
       "      <td>1</td>\n",
       "      <td>1</td>\n",
       "      <td>0</td>\n",
       "      <td>0</td>\n",
       "      <td>0</td>\n",
       "      <td>0</td>\n",
       "      <td>0</td>\n",
       "      <td>...</td>\n",
       "      <td>16</td>\n",
       "      <td></td>\n",
       "      <td>4</td>\n",
       "      <td>kEBTgDvFX754S68FllfCaA, aB2DynOxNOJK9st2ZeGTPg...</td>\n",
       "      <td>22</td>\n",
       "      <td>Jenna</td>\n",
       "      <td>33</td>\n",
       "      <td>48</td>\n",
       "      <td>4XChL029mKr5hydo79Ljxg</td>\n",
       "      <td>2013-02-21 22:29:06</td>\n",
       "    </tr>\n",
       "  </tbody>\n",
       "</table>\n",
       "<p>2 rows × 22 columns</p>\n",
       "</div>"
      ],
      "text/plain": [
       "   average_stars  compliment_cool  compliment_cute  compliment_funny  \\\n",
       "0           4.03                1                0                 1   \n",
       "1           3.63                1                0                 1   \n",
       "\n",
       "   compliment_hot  compliment_list  compliment_more  compliment_note  \\\n",
       "0               2                0                0                1   \n",
       "1               1                0                0                0   \n",
       "\n",
       "   compliment_photos  compliment_plain         ...           cool  \\\n",
       "0                  0                 1         ...             25   \n",
       "1                  0                 0         ...             16   \n",
       "\n",
       "            elite  fans                                            friends  \\\n",
       "0  2015,2016,2017     5  c78V-rj8NQcQjOI8KP3UEA, alRMgPcngYSCJ5naFRBz5g...   \n",
       "1                     4  kEBTgDvFX754S68FllfCaA, aB2DynOxNOJK9st2ZeGTPg...   \n",
       "\n",
       "   funny    name  review_count useful                 user_id  \\\n",
       "0     17  Rashmi            95     84  l6BmjZMeQD3rDxWUbiAiow   \n",
       "1     22   Jenna            33     48  4XChL029mKr5hydo79Ljxg   \n",
       "\n",
       "         yelping_since  \n",
       "0  2013-10-08 23:11:33  \n",
       "1  2013-02-21 22:29:06  \n",
       "\n",
       "[2 rows x 22 columns]"
      ]
     },
     "execution_count": 15,
     "metadata": {},
     "output_type": "execute_result"
    }
   ],
   "source": [
    "df_user.head(2)"
   ]
  },
  {
   "cell_type": "markdown",
   "metadata": {},
   "source": [
    "* User data did not give much useful info for this project's purpose. Not digging more."
   ]
  },
  {
   "cell_type": "markdown",
   "metadata": {},
   "source": [
    "## Process business data"
   ]
  },
  {
   "cell_type": "markdown",
   "metadata": {},
   "source": [
    "### Load business data"
   ]
  },
  {
   "cell_type": "code",
   "execution_count": 3,
   "metadata": {},
   "outputs": [
    {
     "name": "stdout",
     "output_type": "stream",
     "text": [
      "{'business_id': '1SWheh84yJXfytovILXOAQ', 'name': 'Arizona Biltmore Golf Club', 'address': '2818 E Camino Acequia Drive', 'city': 'Phoenix', 'state': 'AZ', 'postal_code': '85016', 'latitude': 33.5221425, 'longitude': -112.0184807, 'stars': 3.0, 'review_count': 5, 'is_open': 0, 'attributes': {'GoodForKids': 'False'}, 'categories': 'Golf, Active Life', 'hours': None}\n"
     ]
    }
   ],
   "source": [
    "# open and load JSON file\n",
    "f = open(file_business)\n",
    "first_line = f.readline()\n",
    "first_line_json = json.loads(first_line)\n",
    "\n",
    "print(first_line_json)"
   ]
  },
  {
   "cell_type": "code",
   "execution_count": 69,
   "metadata": {},
   "outputs": [],
   "source": [
    "# Load JSON file into Pandas DF\n",
    "# note: 'need 'rb' to read binary data \n",
    "with open(file_business, 'rb') as f:      \n",
    "    df_business = pd.DataFrame(json.loads(line) for line in f)"
   ]
  },
  {
   "cell_type": "code",
   "execution_count": 70,
   "metadata": {},
   "outputs": [
    {
     "data": {
      "text/html": [
       "<div>\n",
       "<style scoped>\n",
       "    .dataframe tbody tr th:only-of-type {\n",
       "        vertical-align: middle;\n",
       "    }\n",
       "\n",
       "    .dataframe tbody tr th {\n",
       "        vertical-align: top;\n",
       "    }\n",
       "\n",
       "    .dataframe thead th {\n",
       "        text-align: right;\n",
       "    }\n",
       "</style>\n",
       "<table border=\"1\" class=\"dataframe\">\n",
       "  <thead>\n",
       "    <tr style=\"text-align: right;\">\n",
       "      <th></th>\n",
       "      <th>address</th>\n",
       "      <th>attributes</th>\n",
       "      <th>business_id</th>\n",
       "      <th>categories</th>\n",
       "      <th>city</th>\n",
       "      <th>hours</th>\n",
       "      <th>is_open</th>\n",
       "      <th>latitude</th>\n",
       "      <th>longitude</th>\n",
       "      <th>name</th>\n",
       "      <th>postal_code</th>\n",
       "      <th>review_count</th>\n",
       "      <th>stars</th>\n",
       "      <th>state</th>\n",
       "    </tr>\n",
       "  </thead>\n",
       "  <tbody>\n",
       "    <tr>\n",
       "      <th>0</th>\n",
       "      <td>2818 E Camino Acequia Drive</td>\n",
       "      <td>{'GoodForKids': 'False'}</td>\n",
       "      <td>1SWheh84yJXfytovILXOAQ</td>\n",
       "      <td>Golf, Active Life</td>\n",
       "      <td>Phoenix</td>\n",
       "      <td>None</td>\n",
       "      <td>0</td>\n",
       "      <td>33.522143</td>\n",
       "      <td>-112.018481</td>\n",
       "      <td>Arizona Biltmore Golf Club</td>\n",
       "      <td>85016</td>\n",
       "      <td>5</td>\n",
       "      <td>3.0</td>\n",
       "      <td>AZ</td>\n",
       "    </tr>\n",
       "    <tr>\n",
       "      <th>1</th>\n",
       "      <td>30 Eglinton Avenue W</td>\n",
       "      <td>{'RestaurantsReservations': 'True', 'GoodForMe...</td>\n",
       "      <td>QXAEGFB4oINsVuTFxEYKFQ</td>\n",
       "      <td>Specialty Food, Restaurants, Dim Sum, Imported...</td>\n",
       "      <td>Mississauga</td>\n",
       "      <td>{'Monday': '9:0-0:0', 'Tuesday': '9:0-0:0', 'W...</td>\n",
       "      <td>1</td>\n",
       "      <td>43.605499</td>\n",
       "      <td>-79.652289</td>\n",
       "      <td>Emerald Chinese Restaurant</td>\n",
       "      <td>L5R 3E7</td>\n",
       "      <td>128</td>\n",
       "      <td>2.5</td>\n",
       "      <td>ON</td>\n",
       "    </tr>\n",
       "    <tr>\n",
       "      <th>2</th>\n",
       "      <td>10110 Johnston Rd, Ste 15</td>\n",
       "      <td>{'GoodForKids': 'True', 'NoiseLevel': 'u'avera...</td>\n",
       "      <td>gnKjwL_1w79qoiV3IC_xQQ</td>\n",
       "      <td>Sushi Bars, Restaurants, Japanese</td>\n",
       "      <td>Charlotte</td>\n",
       "      <td>{'Monday': '17:30-21:30', 'Wednesday': '17:30-...</td>\n",
       "      <td>1</td>\n",
       "      <td>35.092564</td>\n",
       "      <td>-80.859132</td>\n",
       "      <td>Musashi Japanese Restaurant</td>\n",
       "      <td>28210</td>\n",
       "      <td>170</td>\n",
       "      <td>4.0</td>\n",
       "      <td>NC</td>\n",
       "    </tr>\n",
       "  </tbody>\n",
       "</table>\n",
       "</div>"
      ],
      "text/plain": [
       "                       address  \\\n",
       "0  2818 E Camino Acequia Drive   \n",
       "1         30 Eglinton Avenue W   \n",
       "2    10110 Johnston Rd, Ste 15   \n",
       "\n",
       "                                          attributes             business_id  \\\n",
       "0                           {'GoodForKids': 'False'}  1SWheh84yJXfytovILXOAQ   \n",
       "1  {'RestaurantsReservations': 'True', 'GoodForMe...  QXAEGFB4oINsVuTFxEYKFQ   \n",
       "2  {'GoodForKids': 'True', 'NoiseLevel': 'u'avera...  gnKjwL_1w79qoiV3IC_xQQ   \n",
       "\n",
       "                                          categories         city  \\\n",
       "0                                  Golf, Active Life      Phoenix   \n",
       "1  Specialty Food, Restaurants, Dim Sum, Imported...  Mississauga   \n",
       "2                  Sushi Bars, Restaurants, Japanese    Charlotte   \n",
       "\n",
       "                                               hours  is_open   latitude  \\\n",
       "0                                               None        0  33.522143   \n",
       "1  {'Monday': '9:0-0:0', 'Tuesday': '9:0-0:0', 'W...        1  43.605499   \n",
       "2  {'Monday': '17:30-21:30', 'Wednesday': '17:30-...        1  35.092564   \n",
       "\n",
       "    longitude                         name postal_code  review_count  stars  \\\n",
       "0 -112.018481   Arizona Biltmore Golf Club       85016             5    3.0   \n",
       "1  -79.652289   Emerald Chinese Restaurant     L5R 3E7           128    2.5   \n",
       "2  -80.859132  Musashi Japanese Restaurant       28210           170    4.0   \n",
       "\n",
       "  state  \n",
       "0    AZ  \n",
       "1    ON  \n",
       "2    NC  "
      ]
     },
     "execution_count": 70,
     "metadata": {},
     "output_type": "execute_result"
    }
   ],
   "source": [
    "df_business.head(3)"
   ]
  },
  {
   "cell_type": "code",
   "execution_count": 6,
   "metadata": {},
   "outputs": [
    {
     "name": "stdout",
     "output_type": "stream",
     "text": [
      "<class 'pandas.core.frame.DataFrame'>\n",
      "RangeIndex: 192609 entries, 0 to 192608\n",
      "Data columns (total 14 columns):\n",
      "address         192609 non-null object\n",
      "attributes      163773 non-null object\n",
      "business_id     192609 non-null object\n",
      "categories      192127 non-null object\n",
      "city            192609 non-null object\n",
      "hours           147779 non-null object\n",
      "is_open         192609 non-null int64\n",
      "latitude        192609 non-null float64\n",
      "longitude       192609 non-null float64\n",
      "name            192609 non-null object\n",
      "postal_code     192609 non-null object\n",
      "review_count    192609 non-null int64\n",
      "stars           192609 non-null float64\n",
      "state           192609 non-null object\n",
      "dtypes: float64(3), int64(2), object(9)\n",
      "memory usage: 20.6+ MB\n"
     ]
    }
   ],
   "source": [
    "df_business.info()"
   ]
  },
  {
   "cell_type": "markdown",
   "metadata": {},
   "source": [
    "### EDA\n",
    "Las Vegas has over 29,000 (15%) restaurants. This project will only focus on Las Vegas restaurants."
   ]
  },
  {
   "cell_type": "code",
   "execution_count": 8,
   "metadata": {},
   "outputs": [
    {
     "name": "stdout",
     "output_type": "stream",
     "text": [
      "Las Vegas     29370\n",
      "Toronto       18906\n",
      "Phoenix       18766\n",
      "Charlotte      9509\n",
      "Scottsdale     8837\n",
      "Name: city, dtype: int64\n"
     ]
    }
   ],
   "source": [
    "print(df_business.city.value_counts()[:5])"
   ]
  },
  {
   "cell_type": "code",
   "execution_count": 10,
   "metadata": {},
   "outputs": [
    {
     "data": {
      "text/plain": [
       "Las Vegas     0.152485\n",
       "Toronto       0.098157\n",
       "Phoenix       0.097431\n",
       "Charlotte     0.049369\n",
       "Scottsdale    0.045881\n",
       "Name: city, dtype: float64"
      ]
     },
     "execution_count": 10,
     "metadata": {},
     "output_type": "execute_result"
    }
   ],
   "source": [
    "(df_business.city.value_counts()/len(df_business))[:5]"
   ]
  },
  {
   "cell_type": "markdown",
   "metadata": {},
   "source": [
    "### Focused on restaurants in Las Vegas"
   ]
  },
  {
   "cell_type": "code",
   "execution_count": 23,
   "metadata": {
    "scrolled": true
   },
   "outputs": [
    {
     "name": "stdout",
     "output_type": "stream",
     "text": [
      "(6450, 14)\n"
     ]
    },
    {
     "data": {
      "text/html": [
       "<div>\n",
       "<style scoped>\n",
       "    .dataframe tbody tr th:only-of-type {\n",
       "        vertical-align: middle;\n",
       "    }\n",
       "\n",
       "    .dataframe tbody tr th {\n",
       "        vertical-align: top;\n",
       "    }\n",
       "\n",
       "    .dataframe thead th {\n",
       "        text-align: right;\n",
       "    }\n",
       "</style>\n",
       "<table border=\"1\" class=\"dataframe\">\n",
       "  <thead>\n",
       "    <tr style=\"text-align: right;\">\n",
       "      <th></th>\n",
       "      <th>address</th>\n",
       "      <th>attributes</th>\n",
       "      <th>business_id</th>\n",
       "      <th>categories</th>\n",
       "      <th>city</th>\n",
       "      <th>hours</th>\n",
       "      <th>is_open</th>\n",
       "      <th>latitude</th>\n",
       "      <th>longitude</th>\n",
       "      <th>name</th>\n",
       "      <th>postal_code</th>\n",
       "      <th>review_count</th>\n",
       "      <th>stars</th>\n",
       "      <th>state</th>\n",
       "    </tr>\n",
       "  </thead>\n",
       "  <tbody>\n",
       "    <tr>\n",
       "      <th>17</th>\n",
       "      <td>1775 E Tropicana Ave, Ste 29</td>\n",
       "      <td>{'OutdoorSeating': 'False', 'BusinessAcceptsCr...</td>\n",
       "      <td>PZ-LZzSlhSe9utkQYU8pFg</td>\n",
       "      <td>Restaurants, Italian</td>\n",
       "      <td>Las Vegas</td>\n",
       "      <td>None</td>\n",
       "      <td>0</td>\n",
       "      <td>36.100016</td>\n",
       "      <td>-115.128529</td>\n",
       "      <td>Carluccio's Tivoli Gardens</td>\n",
       "      <td>89119</td>\n",
       "      <td>40</td>\n",
       "      <td>4.0</td>\n",
       "      <td>NV</td>\n",
       "    </tr>\n",
       "    <tr>\n",
       "      <th>25</th>\n",
       "      <td>6055 E Lake Mead Blvd</td>\n",
       "      <td>{'BikeParking': 'True', 'BusinessParking': '{'...</td>\n",
       "      <td>tstimHoMcYbkSC4eBA1wEg</td>\n",
       "      <td>Mexican, Restaurants, Patisserie/Cake Shop, Fo...</td>\n",
       "      <td>Las Vegas</td>\n",
       "      <td>{'Monday': '11:0-21:0', 'Tuesday': '10:0-21:0'...</td>\n",
       "      <td>1</td>\n",
       "      <td>36.195615</td>\n",
       "      <td>-115.040529</td>\n",
       "      <td>Maria's Mexican Restaurant &amp; Bakery</td>\n",
       "      <td>89156</td>\n",
       "      <td>184</td>\n",
       "      <td>4.5</td>\n",
       "      <td>NV</td>\n",
       "    </tr>\n",
       "    <tr>\n",
       "      <th>75</th>\n",
       "      <td>6125 Spring Mountain Rd</td>\n",
       "      <td>{'RestaurantsPriceRange2': '1', 'Ambience': '{...</td>\n",
       "      <td>kANF0dbeoW34s2vwh6Umfw</td>\n",
       "      <td>Fast Food, Food, Restaurants, Ice Cream &amp; Froz...</td>\n",
       "      <td>Las Vegas</td>\n",
       "      <td>None</td>\n",
       "      <td>0</td>\n",
       "      <td>36.125031</td>\n",
       "      <td>-115.225620</td>\n",
       "      <td>Dairy Queen</td>\n",
       "      <td>89146</td>\n",
       "      <td>33</td>\n",
       "      <td>2.0</td>\n",
       "      <td>NV</td>\n",
       "    </tr>\n",
       "  </tbody>\n",
       "</table>\n",
       "</div>"
      ],
      "text/plain": [
       "                         address  \\\n",
       "17  1775 E Tropicana Ave, Ste 29   \n",
       "25         6055 E Lake Mead Blvd   \n",
       "75       6125 Spring Mountain Rd   \n",
       "\n",
       "                                           attributes             business_id  \\\n",
       "17  {'OutdoorSeating': 'False', 'BusinessAcceptsCr...  PZ-LZzSlhSe9utkQYU8pFg   \n",
       "25  {'BikeParking': 'True', 'BusinessParking': '{'...  tstimHoMcYbkSC4eBA1wEg   \n",
       "75  {'RestaurantsPriceRange2': '1', 'Ambience': '{...  kANF0dbeoW34s2vwh6Umfw   \n",
       "\n",
       "                                           categories       city  \\\n",
       "17                               Restaurants, Italian  Las Vegas   \n",
       "25  Mexican, Restaurants, Patisserie/Cake Shop, Fo...  Las Vegas   \n",
       "75  Fast Food, Food, Restaurants, Ice Cream & Froz...  Las Vegas   \n",
       "\n",
       "                                                hours  is_open   latitude  \\\n",
       "17                                               None        0  36.100016   \n",
       "25  {'Monday': '11:0-21:0', 'Tuesday': '10:0-21:0'...        1  36.195615   \n",
       "75                                               None        0  36.125031   \n",
       "\n",
       "     longitude                                 name postal_code  review_count  \\\n",
       "17 -115.128529           Carluccio's Tivoli Gardens       89119            40   \n",
       "25 -115.040529  Maria's Mexican Restaurant & Bakery       89156           184   \n",
       "75 -115.225620                          Dairy Queen       89146            33   \n",
       "\n",
       "    stars state  \n",
       "17    4.0    NV  \n",
       "25    4.5    NV  \n",
       "75    2.0    NV  "
      ]
     },
     "execution_count": 23,
     "metadata": {},
     "output_type": "execute_result"
    }
   ],
   "source": [
    "# Create filtered DataFrame, and name it df_filtered\n",
    "df_lvres = df_business[(df_business['city'] == \"Las Vegas\") & (df_business[\"categories\"].str.contains(\"Restaurants\"))]\n",
    "\n",
    "print(df_lvres.shape)\n",
    "df_lvres.head(3)"
   ]
  },
  {
   "cell_type": "markdown",
   "metadata": {},
   "source": [
    "* LV has 6450 restaurants"
   ]
  },
  {
   "cell_type": "markdown",
   "metadata": {},
   "source": [
    "#### Only keep 4 relevant variables in business data."
   ]
  },
  {
   "cell_type": "code",
   "execution_count": 24,
   "metadata": {},
   "outputs": [
    {
     "data": {
      "text/html": [
       "<div>\n",
       "<style scoped>\n",
       "    .dataframe tbody tr th:only-of-type {\n",
       "        vertical-align: middle;\n",
       "    }\n",
       "\n",
       "    .dataframe tbody tr th {\n",
       "        vertical-align: top;\n",
       "    }\n",
       "\n",
       "    .dataframe thead th {\n",
       "        text-align: right;\n",
       "    }\n",
       "</style>\n",
       "<table border=\"1\" class=\"dataframe\">\n",
       "  <thead>\n",
       "    <tr style=\"text-align: right;\">\n",
       "      <th></th>\n",
       "      <th>business_id</th>\n",
       "      <th>name</th>\n",
       "      <th>categories</th>\n",
       "      <th>stars</th>\n",
       "    </tr>\n",
       "  </thead>\n",
       "  <tbody>\n",
       "    <tr>\n",
       "      <th>17</th>\n",
       "      <td>PZ-LZzSlhSe9utkQYU8pFg</td>\n",
       "      <td>Carluccio's Tivoli Gardens</td>\n",
       "      <td>Restaurants, Italian</td>\n",
       "      <td>4.0</td>\n",
       "    </tr>\n",
       "    <tr>\n",
       "      <th>25</th>\n",
       "      <td>tstimHoMcYbkSC4eBA1wEg</td>\n",
       "      <td>Maria's Mexican Restaurant &amp; Bakery</td>\n",
       "      <td>Mexican, Restaurants, Patisserie/Cake Shop, Fo...</td>\n",
       "      <td>4.5</td>\n",
       "    </tr>\n",
       "  </tbody>\n",
       "</table>\n",
       "</div>"
      ],
      "text/plain": [
       "               business_id                                 name  \\\n",
       "17  PZ-LZzSlhSe9utkQYU8pFg           Carluccio's Tivoli Gardens   \n",
       "25  tstimHoMcYbkSC4eBA1wEg  Maria's Mexican Restaurant & Bakery   \n",
       "\n",
       "                                           categories  stars  \n",
       "17                               Restaurants, Italian    4.0  \n",
       "25  Mexican, Restaurants, Patisserie/Cake Shop, Fo...    4.5  "
      ]
     },
     "execution_count": 24,
     "metadata": {},
     "output_type": "execute_result"
    }
   ],
   "source": [
    "df_lvres2 = df_lvrestaurants[['business_id', 'name', 'categories', 'stars']].copy()\n",
    "df_lvres2.head(2)"
   ]
  },
  {
   "cell_type": "markdown",
   "metadata": {},
   "source": [
    "#### Rename \"stars\" to \"avg_stars\" to avoid conflicts with review ratings data set"
   ]
  },
  {
   "cell_type": "code",
   "execution_count": 26,
   "metadata": {},
   "outputs": [],
   "source": [
    "df_lvres2 = df_lvres2.rename(columns={\"stars\":\"avg_stars\"})"
   ]
  },
  {
   "cell_type": "code",
   "execution_count": 27,
   "metadata": {},
   "outputs": [
    {
     "name": "stdout",
     "output_type": "stream",
     "text": [
      "<class 'pandas.core.frame.DataFrame'>\n",
      "Int64Index: 6450 entries, 17 to 192562\n",
      "Data columns (total 4 columns):\n",
      "business_id    6450 non-null object\n",
      "name           6450 non-null object\n",
      "categories     6450 non-null object\n",
      "avg_stars      6450 non-null float64\n",
      "dtypes: float64(1), object(3)\n",
      "memory usage: 252.0+ KB\n"
     ]
    }
   ],
   "source": [
    "# Inspect your DataFrame\n",
    "df_lvres2.info()"
   ]
  },
  {
   "cell_type": "code",
   "execution_count": 30,
   "metadata": {},
   "outputs": [],
   "source": [
    "df_lvres2.to_pickle(\"df_lvres2.pkl\")"
   ]
  },
  {
   "cell_type": "code",
   "execution_count": 31,
   "metadata": {},
   "outputs": [],
   "source": [
    "df_lvres2 = pd.read_pickle(\"df_lvres2.pkl\")"
   ]
  },
  {
   "cell_type": "markdown",
   "metadata": {},
   "source": [
    "## Process review data"
   ]
  },
  {
   "cell_type": "markdown",
   "metadata": {},
   "source": [
    "### Load review data"
   ]
  },
  {
   "cell_type": "code",
   "execution_count": 32,
   "metadata": {
    "scrolled": true
   },
   "outputs": [
    {
     "data": {
      "text/html": [
       "<div>\n",
       "<style scoped>\n",
       "    .dataframe tbody tr th:only-of-type {\n",
       "        vertical-align: middle;\n",
       "    }\n",
       "\n",
       "    .dataframe tbody tr th {\n",
       "        vertical-align: top;\n",
       "    }\n",
       "\n",
       "    .dataframe thead th {\n",
       "        text-align: right;\n",
       "    }\n",
       "</style>\n",
       "<table border=\"1\" class=\"dataframe\">\n",
       "  <thead>\n",
       "    <tr style=\"text-align: right;\">\n",
       "      <th></th>\n",
       "      <th>business_id</th>\n",
       "      <th>cool</th>\n",
       "      <th>date</th>\n",
       "      <th>funny</th>\n",
       "      <th>review_id</th>\n",
       "      <th>stars</th>\n",
       "      <th>text</th>\n",
       "      <th>useful</th>\n",
       "      <th>user_id</th>\n",
       "    </tr>\n",
       "  </thead>\n",
       "  <tbody>\n",
       "    <tr>\n",
       "      <th>0</th>\n",
       "      <td>ujmEBvifdJM6h6RLv4wQIg</td>\n",
       "      <td>0</td>\n",
       "      <td>2013-05-07 04:34:36</td>\n",
       "      <td>1</td>\n",
       "      <td>Q1sbwvVQXV2734tPgoKj4Q</td>\n",
       "      <td>1.0</td>\n",
       "      <td>Total bill for this horrible service? Over $8G...</td>\n",
       "      <td>6</td>\n",
       "      <td>hG7b0MtEbXx5QzbzE6C_VA</td>\n",
       "    </tr>\n",
       "    <tr>\n",
       "      <th>1</th>\n",
       "      <td>NZnhc2sEQy3RmzKTZnqtwQ</td>\n",
       "      <td>0</td>\n",
       "      <td>2017-01-14 21:30:33</td>\n",
       "      <td>0</td>\n",
       "      <td>GJXCdrto3ASJOqKeVWPi6Q</td>\n",
       "      <td>5.0</td>\n",
       "      <td>I *adore* Travis at the Hard Rock's new Kelly ...</td>\n",
       "      <td>0</td>\n",
       "      <td>yXQM5uF2jS6es16SJzNHfg</td>\n",
       "    </tr>\n",
       "  </tbody>\n",
       "</table>\n",
       "</div>"
      ],
      "text/plain": [
       "              business_id  cool                 date  funny  \\\n",
       "0  ujmEBvifdJM6h6RLv4wQIg     0  2013-05-07 04:34:36      1   \n",
       "1  NZnhc2sEQy3RmzKTZnqtwQ     0  2017-01-14 21:30:33      0   \n",
       "\n",
       "                review_id  stars  \\\n",
       "0  Q1sbwvVQXV2734tPgoKj4Q    1.0   \n",
       "1  GJXCdrto3ASJOqKeVWPi6Q    5.0   \n",
       "\n",
       "                                                text  useful  \\\n",
       "0  Total bill for this horrible service? Over $8G...       6   \n",
       "1  I *adore* Travis at the Hard Rock's new Kelly ...       0   \n",
       "\n",
       "                  user_id  \n",
       "0  hG7b0MtEbXx5QzbzE6C_VA  \n",
       "1  yXQM5uF2jS6es16SJzNHfg  "
      ]
     },
     "execution_count": 32,
     "metadata": {},
     "output_type": "execute_result"
    }
   ],
   "source": [
    "with open(file_review, 'rb') as f:\n",
    "    df_review = pd.DataFrame(json.loads(line) for line in f)\n",
    "df_review.head(2)"
   ]
  },
  {
   "cell_type": "code",
   "execution_count": 34,
   "metadata": {},
   "outputs": [
    {
     "data": {
      "text/plain": [
       "((6685900, 9), 192606, 1637138)"
      ]
     },
     "execution_count": 34,
     "metadata": {},
     "output_type": "execute_result"
    }
   ],
   "source": [
    "df_review.shape, df_review.business_id.nunique(), df_review.user_id.nunique()"
   ]
  },
  {
   "cell_type": "markdown",
   "metadata": {},
   "source": [
    "* 6685900 reviews for 192606 businesses and 1637138 users"
   ]
  },
  {
   "cell_type": "markdown",
   "metadata": {},
   "source": [
    "## Merge business and review data"
   ]
  },
  {
   "cell_type": "code",
   "execution_count": 35,
   "metadata": {},
   "outputs": [
    {
     "data": {
      "text/plain": [
       "('2004-10-12 10:13:32', '2018-11-14 18:13:26')"
      ]
     },
     "execution_count": 35,
     "metadata": {},
     "output_type": "execute_result"
    }
   ],
   "source": [
    "df_review['date'].min(), df_review['date'].max()"
   ]
  },
  {
   "cell_type": "code",
   "execution_count": null,
   "metadata": {},
   "outputs": [],
   "source": [
    "###  Focus on last 2 years of reviews"
   ]
  },
  {
   "cell_type": "code",
   "execution_count": 36,
   "metadata": {},
   "outputs": [
    {
     "data": {
      "text/html": [
       "<div>\n",
       "<style scoped>\n",
       "    .dataframe tbody tr th:only-of-type {\n",
       "        vertical-align: middle;\n",
       "    }\n",
       "\n",
       "    .dataframe tbody tr th {\n",
       "        vertical-align: top;\n",
       "    }\n",
       "\n",
       "    .dataframe thead th {\n",
       "        text-align: right;\n",
       "    }\n",
       "</style>\n",
       "<table border=\"1\" class=\"dataframe\">\n",
       "  <thead>\n",
       "    <tr style=\"text-align: right;\">\n",
       "      <th></th>\n",
       "      <th>business_id</th>\n",
       "      <th>cool</th>\n",
       "      <th>date</th>\n",
       "      <th>funny</th>\n",
       "      <th>review_id</th>\n",
       "      <th>stars</th>\n",
       "      <th>text</th>\n",
       "      <th>useful</th>\n",
       "      <th>user_id</th>\n",
       "    </tr>\n",
       "  </thead>\n",
       "  <tbody>\n",
       "    <tr>\n",
       "      <th>1</th>\n",
       "      <td>NZnhc2sEQy3RmzKTZnqtwQ</td>\n",
       "      <td>0</td>\n",
       "      <td>2017-01-14 21:30:33</td>\n",
       "      <td>0</td>\n",
       "      <td>GJXCdrto3ASJOqKeVWPi6Q</td>\n",
       "      <td>5.0</td>\n",
       "      <td>I *adore* Travis at the Hard Rock's new Kelly ...</td>\n",
       "      <td>0</td>\n",
       "      <td>yXQM5uF2jS6es16SJzNHfg</td>\n",
       "    </tr>\n",
       "    <tr>\n",
       "      <th>3</th>\n",
       "      <td>ikCg8xy5JIg_NGPx-MSIDA</td>\n",
       "      <td>0</td>\n",
       "      <td>2018-01-09 20:56:38</td>\n",
       "      <td>0</td>\n",
       "      <td>yi0R0Ugj_xUx_Nek0-_Qig</td>\n",
       "      <td>5.0</td>\n",
       "      <td>Went in for a lunch. Steak sandwich was delici...</td>\n",
       "      <td>0</td>\n",
       "      <td>dacAIZ6fTM6mqwW5uxkskg</td>\n",
       "    </tr>\n",
       "  </tbody>\n",
       "</table>\n",
       "</div>"
      ],
      "text/plain": [
       "              business_id  cool                 date  funny  \\\n",
       "1  NZnhc2sEQy3RmzKTZnqtwQ     0  2017-01-14 21:30:33      0   \n",
       "3  ikCg8xy5JIg_NGPx-MSIDA     0  2018-01-09 20:56:38      0   \n",
       "\n",
       "                review_id  stars  \\\n",
       "1  GJXCdrto3ASJOqKeVWPi6Q    5.0   \n",
       "3  yi0R0Ugj_xUx_Nek0-_Qig    5.0   \n",
       "\n",
       "                                                text  useful  \\\n",
       "1  I *adore* Travis at the Hard Rock's new Kelly ...       0   \n",
       "3  Went in for a lunch. Steak sandwich was delici...       0   \n",
       "\n",
       "                  user_id  \n",
       "1  yXQM5uF2jS6es16SJzNHfg  \n",
       "3  dacAIZ6fTM6mqwW5uxkskg  "
      ]
     },
     "execution_count": 36,
     "metadata": {},
     "output_type": "execute_result"
    }
   ],
   "source": [
    "df_review_2year = df_review[df_review['date']>'2016-11-14']\n",
    "df_review_2year.head(2)"
   ]
  },
  {
   "cell_type": "markdown",
   "metadata": {},
   "source": [
    "### Inner Join 2 DF using business_id."
   ]
  },
  {
   "cell_type": "code",
   "execution_count": 38,
   "metadata": {
    "scrolled": true
   },
   "outputs": [
    {
     "data": {
      "text/html": [
       "<div>\n",
       "<style scoped>\n",
       "    .dataframe tbody tr th:only-of-type {\n",
       "        vertical-align: middle;\n",
       "    }\n",
       "\n",
       "    .dataframe tbody tr th {\n",
       "        vertical-align: top;\n",
       "    }\n",
       "\n",
       "    .dataframe thead th {\n",
       "        text-align: right;\n",
       "    }\n",
       "</style>\n",
       "<table border=\"1\" class=\"dataframe\">\n",
       "  <thead>\n",
       "    <tr style=\"text-align: right;\">\n",
       "      <th></th>\n",
       "      <th>business_id</th>\n",
       "      <th>name</th>\n",
       "      <th>categories</th>\n",
       "      <th>avg_stars</th>\n",
       "      <th>cool</th>\n",
       "      <th>date</th>\n",
       "      <th>funny</th>\n",
       "      <th>review_id</th>\n",
       "      <th>stars</th>\n",
       "      <th>text</th>\n",
       "      <th>useful</th>\n",
       "      <th>user_id</th>\n",
       "    </tr>\n",
       "  </thead>\n",
       "  <tbody>\n",
       "    <tr>\n",
       "      <th>0</th>\n",
       "      <td>tstimHoMcYbkSC4eBA1wEg</td>\n",
       "      <td>Maria's Mexican Restaurant &amp; Bakery</td>\n",
       "      <td>Mexican, Restaurants, Patisserie/Cake Shop, Fo...</td>\n",
       "      <td>4.5</td>\n",
       "      <td>0</td>\n",
       "      <td>2017-03-27 21:03:02</td>\n",
       "      <td>0</td>\n",
       "      <td>lJfGtkCc4in6Xcq-_Wtfwg</td>\n",
       "      <td>3.0</td>\n",
       "      <td>I've ordered Caldo de Rez from here twice and ...</td>\n",
       "      <td>0</td>\n",
       "      <td>PFdPopcevMX7_2cx27rJKA</td>\n",
       "    </tr>\n",
       "    <tr>\n",
       "      <th>1</th>\n",
       "      <td>tstimHoMcYbkSC4eBA1wEg</td>\n",
       "      <td>Maria's Mexican Restaurant &amp; Bakery</td>\n",
       "      <td>Mexican, Restaurants, Patisserie/Cake Shop, Fo...</td>\n",
       "      <td>4.5</td>\n",
       "      <td>0</td>\n",
       "      <td>2018-04-29 03:41:12</td>\n",
       "      <td>0</td>\n",
       "      <td>W4ZRHf1adPB3phMi2P1GqQ</td>\n",
       "      <td>5.0</td>\n",
       "      <td>Always delicious I get the tampiquena or Chile...</td>\n",
       "      <td>0</td>\n",
       "      <td>h4iPN4TWksMntu93CI_CMw</td>\n",
       "    </tr>\n",
       "  </tbody>\n",
       "</table>\n",
       "</div>"
      ],
      "text/plain": [
       "              business_id                                 name  \\\n",
       "0  tstimHoMcYbkSC4eBA1wEg  Maria's Mexican Restaurant & Bakery   \n",
       "1  tstimHoMcYbkSC4eBA1wEg  Maria's Mexican Restaurant & Bakery   \n",
       "\n",
       "                                          categories  avg_stars  cool  \\\n",
       "0  Mexican, Restaurants, Patisserie/Cake Shop, Fo...        4.5     0   \n",
       "1  Mexican, Restaurants, Patisserie/Cake Shop, Fo...        4.5     0   \n",
       "\n",
       "                  date  funny               review_id  stars  \\\n",
       "0  2017-03-27 21:03:02      0  lJfGtkCc4in6Xcq-_Wtfwg    3.0   \n",
       "1  2018-04-29 03:41:12      0  W4ZRHf1adPB3phMi2P1GqQ    5.0   \n",
       "\n",
       "                                                text  useful  \\\n",
       "0  I've ordered Caldo de Rez from here twice and ...       0   \n",
       "1  Always delicious I get the tampiquena or Chile...       0   \n",
       "\n",
       "                  user_id  \n",
       "0  PFdPopcevMX7_2cx27rJKA  \n",
       "1  h4iPN4TWksMntu93CI_CMw  "
      ]
     },
     "execution_count": 38,
     "metadata": {},
     "output_type": "execute_result"
    }
   ],
   "source": [
    "df_final = pd.merge(left = df_lvres2, right = df_review_2year,how='inner', on='business_id')\n",
    "df_final.head(2)"
   ]
  },
  {
   "cell_type": "code",
   "execution_count": 41,
   "metadata": {},
   "outputs": [
    {
     "data": {
      "text/plain": [
       "((444767, 12), 4761, 208777, 444767)"
      ]
     },
     "execution_count": 41,
     "metadata": {},
     "output_type": "execute_result"
    }
   ],
   "source": [
    "df_final.shape, df_final['business_id'].nunique(), df_final['user_id'].nunique(), df_final['review_id'].nunique()"
   ]
  },
  {
   "cell_type": "markdown",
   "metadata": {},
   "source": [
    "* 444767 reviews\n",
    "* 4761 rstaurants\n",
    "* 208777 users"
   ]
  },
  {
   "cell_type": "code",
   "execution_count": 43,
   "metadata": {},
   "outputs": [],
   "source": [
    "import matplotlib.pyplot as plt\n",
    "% matplotlib inline"
   ]
  },
  {
   "cell_type": "code",
   "execution_count": 45,
   "metadata": {
    "scrolled": true
   },
   "outputs": [
    {
     "data": {
      "text/plain": [
       "<matplotlib.axes._subplots.AxesSubplot at 0x26247099828>"
      ]
     },
     "execution_count": 45,
     "metadata": {},
     "output_type": "execute_result"
    },
    {
     "data": {
      "image/png": "[encoded data removed]",
      "text/plain": [
       "<Figure size 432x288 with 1 Axes>"
      ]
     },
     "metadata": {
      "needs_background": "light"
     },
     "output_type": "display_data"
    }
   ],
   "source": [
    "# distribution of # review per restaurant\n",
    "df_final[\"business_id\"].value_counts().plot.hist(bins = 20)"
   ]
  },
  {
   "cell_type": "markdown",
   "metadata": {},
   "source": [
    "Save preprocessed data to csv"
   ]
  },
  {
   "cell_type": "code",
   "execution_count": 46,
   "metadata": {},
   "outputs": [],
   "source": [
    "df_final.to_pickle('df_final.pkl')"
   ]
  },
  {
   "cell_type": "markdown",
   "metadata": {},
   "source": [
    "## NLP preprocessing: tokenize, lemmitize, negation, cleaning, stop word removal"
   ]
  },
  {
   "cell_type": "code",
   "execution_count": 2,
   "metadata": {},
   "outputs": [],
   "source": [
    "import pandas as pd\n",
    "df = pd.read_pickle('df_final.pkl')"
   ]
  },
  {
   "cell_type": "code",
   "execution_count": 3,
   "metadata": {},
   "outputs": [
    {
     "data": {
      "text/plain": [
       "5.0    222689\n",
       "4.0     84384\n",
       "1.0     60251\n",
       "3.0     43901\n",
       "2.0     33542\n",
       "Name: stars, dtype: int64"
      ]
     },
     "execution_count": 3,
     "metadata": {},
     "output_type": "execute_result"
    }
   ],
   "source": [
    "df['stars'].value_counts()"
   ]
  },
  {
   "cell_type": "code",
   "execution_count": 4,
   "metadata": {},
   "outputs": [
    {
     "data": {
      "text/plain": [
       "1    222689\n",
       "0    222078\n",
       "Name: rating_isperfect, dtype: int64"
      ]
     },
     "execution_count": 4,
     "metadata": {},
     "output_type": "execute_result"
    }
   ],
   "source": [
    "df['rating_isperfect'] = np.where(df['stars'] < 5, 0, 1).astype(int)\n",
    "df['rating_isperfect'].value_counts()"
   ]
  },
  {
   "cell_type": "code",
   "execution_count": 5,
   "metadata": {},
   "outputs": [],
   "source": [
    "reviewtext = df['text'].copy()"
   ]
  },
  {
   "cell_type": "markdown",
   "metadata": {},
   "source": [
    "### Pre-load generic data cleaning module"
   ]
  },
  {
   "cell_type": "code",
   "execution_count": 3,
   "metadata": {},
   "outputs": [],
   "source": [
    "#import nltk\n",
    "#nltk.download('stopwords')\n",
    "\n",
    "import string\n",
    "import itertools \n",
    "import re\n",
    "from nltk.stem import WordNetLemmatizer\n",
    "from string import punctuation\n",
    "from nltk.corpus import stopwords\n",
    "\n",
    "stop_words = set(stopwords.words('English'))\n",
    "\n",
    "punct = list(string.punctuation)"
   ]
  },
  {
   "cell_type": "code",
   "execution_count": 4,
   "metadata": {},
   "outputs": [],
   "source": [
    "def nlp_func(text, lowercase = False, word_negation = False, remove_stopword = False, stemming = False, lemmatization = False):\n",
    "    \n",
    "    txt = str(text)\n",
    "\n",
    "    # transform to lower case\n",
    "    if lowercase:\n",
    "        txt = txt.lower()\n",
    "    \n",
    "    # Replace apostrophes with standard lexicons\n",
    "    txt = txt.replace(\"isn't\", \"is not\")\n",
    "    txt = txt.replace(\"aren't\", \"are not\")\n",
    "    txt = txt.replace(\"ain't\", \"am not\")\n",
    "    txt = txt.replace(\"won't\", \"will not\")\n",
    "    txt = txt.replace(\"didn't\", \"did not\")\n",
    "    txt = txt.replace(\"shan't\", \"shall not\")\n",
    "    txt = txt.replace(\"haven't\", \"have not\")\n",
    "    txt = txt.replace(\"hadn't\", \"had not\")\n",
    "    txt = txt.replace(\"hasn't\", \"has not\")\n",
    "    txt = txt.replace(\"don't\", \"do not\")\n",
    "    txt = txt.replace(\"wasn't\", \"was not\")\n",
    "    txt = txt.replace(\"weren't\", \"were not\")\n",
    "    txt = txt.replace(\"doesn't\", \"does not\")\n",
    "    txt = txt.replace(\"'s\", \" is\")\n",
    "    txt = txt.replace(\"'re\", \" are\")\n",
    "    txt = txt.replace(\"'m\", \" am\")\n",
    "    txt = txt.replace(\"'d\", \" would\")\n",
    "    txt = txt.replace(\"'ll\", \" will\")\n",
    "    \n",
    "    # More cleaning\n",
    "    txt = re.sub(r\"what's\", \"what is\", txt)\n",
    "    txt = re.sub(r\"\\'s\", \" \", txt)\n",
    "    txt = txt.replace(r\"pic\", \"picture\")\n",
    "    txt = re.sub(r\"\\'ve\", \" have \", txt)\n",
    "    txt = re.sub(r\"can't\", \"cannot \", txt)\n",
    "    txt = re.sub(r\"n't\", \" not \", txt)\n",
    "    txt = re.sub(r\"i'm\", \"i am\", txt)\n",
    "    txt = re.sub(r\" m \", \" am \", txt)\n",
    "    txt = re.sub(r\"\\'re\", \" are \", txt)\n",
    "    txt = re.sub(r\"\\'d\", \" would \", txt)\n",
    "    txt = re.sub(r\"\\'ll\", \" will \", txt)\n",
    "    txt = re.sub(r\"e-mail\", \"email\", txt)\n",
    "    txt = re.sub(r\" dms \", \"direct messages \", txt)  \n",
    "    txt = re.sub(r\"kms\", \" kilometers \", txt)\n",
    "    #txt = re.sub(r\"KMs\", \" kilometers \", txt)\n",
    "    \n",
    "    \n",
    "    #txt = re.sub(r\"[^A-Za-z0-9^,!.\\/'+-=]\", \" \", text)  # no need, will remove all punctuations\n",
    "\n",
    "    #txt = re.sub(r\",\", \" \", text)  # no need, will remove all punctuations\n",
    "    #txt = re.sub(r\"\\.\", \" \", text)\n",
    "    #txt = re.sub(r\"!\", \" ! \", text)\n",
    "    #txt = re.sub(r\"\\/\", \" \", text)\n",
    "    #txt = re.sub(r\"\\^\", \" ^ \", text)\n",
    "    #txt = re.sub(r\"\\+\", \" + \", text)\n",
    "    #txt = re.sub(r\"\\-\", \" - \", text)\n",
    "    #txt = re.sub(r\"\\=\", \" = \", text)\n",
    "    #txt = re.sub(r\"'\", \" \", text)\n",
    "    #txt = re.sub(r\"(\\d+)(k)\", r\"\\g<1>000\", text)\n",
    "    #txt = re.sub(r\":\", \" : \", text)\n",
    "    txt = re.sub(r\" e g \", \" eg \", txt)\n",
    "    txt = re.sub(r\" b g \", \" bg \", txt)\n",
    "    txt = re.sub(r\" u s \", \" american \", txt)\n",
    "    txt = re.sub(r\"\\0s\", \"0\", txt)\n",
    "    txt = re.sub(r\" 9 11 \", \"911\", txt)\n",
    "    txt = re.sub(r\"j k\", \"jk\", txt)\n",
    "    txt = re.sub(r\"\\s{2,}\", \" \", txt)  # convert soooooo to soo\n",
    "    \n",
    "    \n",
    "    # Emoji replacement\n",
    "    txt = re.sub(r':\\)',r' happy ',txt)\n",
    "    txt = re.sub(r':D',r' happy ',txt)\n",
    "    txt = re.sub(r':P',r' happy ',txt)\n",
    "    txt = re.sub(r':\\(',r' sad ',txt)\n",
    "    \n",
    "    # Remove urls and emails\n",
    "    txt = re.sub(r'^https?:\\/\\/.*[\\r\\n]*', ' ', txt, flags=re.MULTILINE)\n",
    "    txt = re.sub(r'[\\w\\.-]+@[\\w\\.-]+', ' ', txt, flags=re.MULTILINE)\n",
    "    \n",
    "    # Remove punctuation from text\n",
    "    txt = ''.join([c for c in txt if c not in punctuation])\n",
    "        \n",
    "    # Remove all symbols\n",
    "    txt = re.sub(r'[^A-Za-z0-9\\s]',r' ',txt)\n",
    "    txt = re.sub(r'\\n',r' ',txt)\n",
    "    \n",
    "    txt = re.sub(r'[0-9]',r' ',txt)    # remove all numbers\n",
    "    \n",
    "    # Replace words like sooooooo with so\n",
    "    txt = ''.join(''.join(s)[:2] for _, s in itertools.groupby(txt))\n",
    "    \n",
    "\n",
    "    \n",
    "    if stemming:\n",
    "        st = PorterStemmer()\n",
    "        txt = \" \".join([st.stem(w) for w in txt.split()])\n",
    "    \n",
    "    if lemmatization:\n",
    "        wordnet_lemmatizer = WordNetLemmatizer()\n",
    "        txt = \" \".join([wordnet_lemmatizer.lemmatize(w, pos='v') for w in txt.split()]) #n for noun files, v for verb files, a for adjective files, r for adverb files.\n",
    "\n",
    "    if word_negation:\n",
    "        new_words = []\n",
    "        temp_word = ''\n",
    "        txt = txt.split()\n",
    "        for word in txt:\n",
    "            if word == 'not':\n",
    "                temp_word = 'not_'\n",
    "            elif temp_word == 'not_':\n",
    "                word = temp_word + word\n",
    "                temp_word = ''\n",
    "            if word != 'not':\n",
    "                new_words.append(word)\n",
    "        txt = ' '.join(new_words)\n",
    "        \n",
    "    if remove_stopword:\n",
    "        txt = \" \".join([w for w in txt.split() if w not in stop_words])\n",
    "    \n",
    "    return txt"
   ]
  },
  {
   "cell_type": "markdown",
   "metadata": {},
   "source": [
    "### Process text data using generic NLP module"
   ]
  },
  {
   "cell_type": "code",
   "execution_count": 7,
   "metadata": {},
   "outputs": [],
   "source": [
    "reviewtext_nlp = reviewtext.map(lambda x: nlp_func(x, lowercase = True, word_negation = True, \\\n",
    "                                                remove_stopword = True, stemming = False, lemmatization = True))"
   ]
  },
  {
   "cell_type": "code",
   "execution_count": 8,
   "metadata": {},
   "outputs": [
    {
     "data": {
      "text/plain": [
       "0    I've ordered Caldo de Rez from here twice and ...\n",
       "1    Always delicious I get the tampiquena or Chile...\n",
       "2    Great lil mom/pop place.  It is small but it m...\n",
       "3    This place is soo good. Huge portions. Great p...\n",
       "4    Omg!!! This place is great my mother and I lov...\n",
       "Name: text, dtype: object"
      ]
     },
     "execution_count": 8,
     "metadata": {},
     "output_type": "execute_result"
    }
   ],
   "source": [
    "reviewtext[:5]"
   ]
  },
  {
   "cell_type": "code",
   "execution_count": 9,
   "metadata": {},
   "outputs": [
    {
     "data": {
      "text/plain": [
       "0    order caldo de rez twice time food soo good cu...\n",
       "1    always delicious get tampiquena chile verde al...\n",
       "2    great lil mompop place small make feel comfy s...\n",
       "3    place soo good huge portion great price friend...\n",
       "4    omg place great mother love green enchiladas d...\n",
       "Name: text, dtype: object"
      ]
     },
     "execution_count": 9,
     "metadata": {},
     "output_type": "execute_result"
    }
   ],
   "source": [
    "reviewtext_nlp[:5]"
   ]
  },
  {
   "cell_type": "markdown",
   "metadata": {},
   "source": [
    "### Save the NLP processed data (Las Vegas, Last 2 Years)"
   ]
  },
  {
   "cell_type": "code",
   "execution_count": 11,
   "metadata": {},
   "outputs": [],
   "source": [
    "reviewtext_nlp.to_pickle('reviewtext_nlp.pkl')  "
   ]
  },
  {
   "cell_type": "markdown",
   "metadata": {},
   "source": [
    "## TD-IDF vectorization "
   ]
  },
  {
   "cell_type": "code",
   "execution_count": 119,
   "metadata": {},
   "outputs": [],
   "source": [
    "from sklearn.feature_extraction.text import TfidfVectorizer\n",
    "\n",
    "# much faster, as no nee to lower case or stop words\n",
    "tfidf_vectorizer = TfidfVectorizer(lowercase=False, stop_words = None, max_features=1000, use_idf=True, smooth_idf=True, norm='l2')"
   ]
  },
  {
   "cell_type": "code",
   "execution_count": 120,
   "metadata": {},
   "outputs": [],
   "source": [
    "X = tfidf_vectorizer.fit_transform(reviewtext_nlp_top1res).toarray()"
   ]
  },
  {
   "cell_type": "markdown",
   "metadata": {},
   "source": [
    "### get bag of words"
   ]
  },
  {
   "cell_type": "code",
   "execution_count": 121,
   "metadata": {},
   "outputs": [
    {
     "name": "stdout",
     "output_type": "stream",
     "text": [
      "['able', 'absolute', 'absolutely', 'actually', 'add', 'additional', 'advertise', 'afternoon', 'ago', 'agree', 'ahead', 'alcohol', 'allow', 'almost', 'along', 'already', 'alright', 'also', 'although', 'always', 'amaze', 'ambiance', 'american', 'amount', 'another', 'anymore', 'anyone', 'anything', 'anyway', 'anywhere', 'appeal', 'appetite', 'appreciate', 'area', 'areas', 'aria', 'around', 'array', 'arrive', 'asian', 'ask', 'assortment', 'atmosphere', 'attention', 'attentive', 'authentic', 'available', 'average', 'avoid', 'away', 'awesome', 'awful', 'bacchanal', 'back', 'bacon', 'bad', 'bar', 'base', 'basically', 'basil', 'bbq', 'bean', 'beat', 'beautiful', 'beautifully', 'become', 'beef', 'beer', 'begin', 'behind', 'believe', 'bellagio', 'belly', 'benedict', 'besides', 'best', 'better', 'beverages', 'beyond', 'big', 'bigger', 'biggest', 'birthday', 'bisque', 'bite', 'bland', 'blow', 'boba', 'boil', 'bone', 'bottle', 'bottomless', 'bowl', 'boyfriend', 'br', 'bread', 'break', 'breakfast', 'bring', 'brisket']\n"
     ]
    }
   ],
   "source": [
    "words = tfidf_vectorizer.get_feature_names()\n",
    "print(words[:100])"
   ]
  },
  {
   "cell_type": "markdown",
   "metadata": {},
   "source": [
    "# PART 1. Sentiment Analysis\n",
    "\n",
    "* Goal: predict customer sentiment (rating 5 vs. 1-4) using review text and logistic regression"
   ]
  },
  {
   "cell_type": "code",
   "execution_count": 12,
   "metadata": {},
   "outputs": [
    {
     "data": {
      "text/html": [
       "<div>\n",
       "<style scoped>\n",
       "    .dataframe tbody tr th:only-of-type {\n",
       "        vertical-align: middle;\n",
       "    }\n",
       "\n",
       "    .dataframe tbody tr th {\n",
       "        vertical-align: top;\n",
       "    }\n",
       "\n",
       "    .dataframe thead th {\n",
       "        text-align: right;\n",
       "    }\n",
       "</style>\n",
       "<table border=\"1\" class=\"dataframe\">\n",
       "  <thead>\n",
       "    <tr style=\"text-align: right;\">\n",
       "      <th></th>\n",
       "      <th>business_id</th>\n",
       "      <th>name</th>\n",
       "      <th>categories</th>\n",
       "      <th>avg_stars</th>\n",
       "      <th>cool</th>\n",
       "      <th>date</th>\n",
       "      <th>funny</th>\n",
       "      <th>review_id</th>\n",
       "      <th>stars</th>\n",
       "      <th>text</th>\n",
       "      <th>useful</th>\n",
       "      <th>user_id</th>\n",
       "    </tr>\n",
       "  </thead>\n",
       "  <tbody>\n",
       "    <tr>\n",
       "      <th>0</th>\n",
       "      <td>tstimHoMcYbkSC4eBA1wEg</td>\n",
       "      <td>Maria's Mexican Restaurant &amp; Bakery</td>\n",
       "      <td>Mexican, Restaurants, Patisserie/Cake Shop, Fo...</td>\n",
       "      <td>4.5</td>\n",
       "      <td>0</td>\n",
       "      <td>2017-03-27 21:03:02</td>\n",
       "      <td>0</td>\n",
       "      <td>lJfGtkCc4in6Xcq-_Wtfwg</td>\n",
       "      <td>3.0</td>\n",
       "      <td>I've ordered Caldo de Rez from here twice and ...</td>\n",
       "      <td>0</td>\n",
       "      <td>PFdPopcevMX7_2cx27rJKA</td>\n",
       "    </tr>\n",
       "    <tr>\n",
       "      <th>1</th>\n",
       "      <td>tstimHoMcYbkSC4eBA1wEg</td>\n",
       "      <td>Maria's Mexican Restaurant &amp; Bakery</td>\n",
       "      <td>Mexican, Restaurants, Patisserie/Cake Shop, Fo...</td>\n",
       "      <td>4.5</td>\n",
       "      <td>0</td>\n",
       "      <td>2018-04-29 03:41:12</td>\n",
       "      <td>0</td>\n",
       "      <td>W4ZRHf1adPB3phMi2P1GqQ</td>\n",
       "      <td>5.0</td>\n",
       "      <td>Always delicious I get the tampiquena or Chile...</td>\n",
       "      <td>0</td>\n",
       "      <td>h4iPN4TWksMntu93CI_CMw</td>\n",
       "    </tr>\n",
       "  </tbody>\n",
       "</table>\n",
       "</div>"
      ],
      "text/plain": [
       "              business_id                                 name  \\\n",
       "0  tstimHoMcYbkSC4eBA1wEg  Maria's Mexican Restaurant & Bakery   \n",
       "1  tstimHoMcYbkSC4eBA1wEg  Maria's Mexican Restaurant & Bakery   \n",
       "\n",
       "                                          categories  avg_stars  cool  \\\n",
       "0  Mexican, Restaurants, Patisserie/Cake Shop, Fo...        4.5     0   \n",
       "1  Mexican, Restaurants, Patisserie/Cake Shop, Fo...        4.5     0   \n",
       "\n",
       "                  date  funny               review_id  stars  \\\n",
       "0  2017-03-27 21:03:02      0  lJfGtkCc4in6Xcq-_Wtfwg    3.0   \n",
       "1  2018-04-29 03:41:12      0  W4ZRHf1adPB3phMi2P1GqQ    5.0   \n",
       "\n",
       "                                                text  useful  \\\n",
       "0  I've ordered Caldo de Rez from here twice and ...       0   \n",
       "1  Always delicious I get the tampiquena or Chile...       0   \n",
       "\n",
       "                  user_id  \n",
       "0  PFdPopcevMX7_2cx27rJKA  \n",
       "1  h4iPN4TWksMntu93CI_CMw  "
      ]
     },
     "execution_count": 12,
     "metadata": {},
     "output_type": "execute_result"
    }
   ],
   "source": [
    "import pandas as pd\n",
    "df = pd.read_pickle('df_final.pkl')\n",
    "df.head(2)"
   ]
  },
  {
   "cell_type": "code",
   "execution_count": 13,
   "metadata": {},
   "outputs": [
    {
     "data": {
      "text/plain": [
       "5.0    222689\n",
       "4.0     84384\n",
       "1.0     60251\n",
       "3.0     43901\n",
       "2.0     33542\n",
       "Name: stars, dtype: int64"
      ]
     },
     "execution_count": 13,
     "metadata": {},
     "output_type": "execute_result"
    }
   ],
   "source": [
    "df['stars'].value_counts()"
   ]
  },
  {
   "cell_type": "markdown",
   "metadata": {},
   "source": [
    "## Define target binary variable"
   ]
  },
  {
   "cell_type": "code",
   "execution_count": 14,
   "metadata": {},
   "outputs": [
    {
     "data": {
      "text/plain": [
       "1    222689\n",
       "0    222078\n",
       "Name: rating_isperfect, dtype: int64"
      ]
     },
     "execution_count": 14,
     "metadata": {},
     "output_type": "execute_result"
    }
   ],
   "source": [
    "df['rating_isperfect'] = np.where(df['stars'] < 5, 0, 1).astype(int)\n",
    "df['rating_isperfect'].value_counts()"
   ]
  },
  {
   "cell_type": "markdown",
   "metadata": {},
   "source": [
    "## Load the NLP processed review text data"
   ]
  },
  {
   "cell_type": "code",
   "execution_count": 15,
   "metadata": {},
   "outputs": [],
   "source": [
    "reviewtext_nlp = pd.read_pickle('reviewtext_nlp.pkl')"
   ]
  },
  {
   "cell_type": "markdown",
   "metadata": {},
   "source": [
    "## 50/50 Train-test split"
   ]
  },
  {
   "cell_type": "code",
   "execution_count": 16,
   "metadata": {},
   "outputs": [],
   "source": [
    "from sklearn.model_selection import train_test_split\n",
    "X_train0, X_test0, y_train, y_test = train_test_split(reviewtext_nlp, df['rating_isperfect'].values, test_size=0.5, random_state=33)"
   ]
  },
  {
   "cell_type": "code",
   "execution_count": 17,
   "metadata": {},
   "outputs": [
    {
     "data": {
      "text/plain": [
       "(0.5011848927301098, 0.5001888625080941, 0.5006868764993806)"
      ]
     },
     "execution_count": 17,
     "metadata": {},
     "output_type": "execute_result"
    }
   ],
   "source": [
    "y_train.mean(), y_test.mean(), df['rating_isperfect'].mean()"
   ]
  },
  {
   "cell_type": "code",
   "execution_count": 18,
   "metadata": {},
   "outputs": [
    {
     "data": {
      "text/plain": [
       "((222383,), (222384,))"
      ]
     },
     "execution_count": 18,
     "metadata": {},
     "output_type": "execute_result"
    }
   ],
   "source": [
    "X_train0.shape, X_test0.shape"
   ]
  },
  {
   "cell_type": "markdown",
   "metadata": {},
   "source": [
    "### TF-IDF on training set"
   ]
  },
  {
   "cell_type": "code",
   "execution_count": 19,
   "metadata": {},
   "outputs": [],
   "source": [
    "from sklearn.feature_extraction.text import TfidfVectorizer\n",
    "\n",
    "#tfidf_vectorizer = TfidfVectorizer(lowercase=True, stop_words = 'english', max_features=1000, use_idf=True, smooth_idf=True, norm='l2')\n",
    "\n",
    "# much faster, as no nee to lower case or stop words\n",
    "tfidf_vectorizer = TfidfVectorizer(lowercase=False, stop_words = None, max_features=1000, use_idf=True, smooth_idf=True, norm='l2')\n",
    "\n",
    "X_train = tfidf_vectorizer.fit_transform(X_train0).toarray()"
   ]
  },
  {
   "cell_type": "code",
   "execution_count": 20,
   "metadata": {},
   "outputs": [
    {
     "name": "stdout",
     "output_type": "stream",
     "text": [
      "['able', 'absolutely', 'accommodate', 'across', 'actually', 'add', 'affordable', 'afternoon', 'ago', 'ahead', 'allow', 'almost', 'alone', 'along', 'already', 'also', 'although', 'always', 'amaze', 'ambiance', 'ambience', 'american', 'amount', 'annoy', 'another', 'answer', 'anyone', 'anything', 'anyway', 'anywhere', 'apologize', 'appetizer', 'appetizers', 'appreciate', 'area', 'around', 'arrive', 'asada', 'asian', 'ask', 'atmosphere', 'attention', 'attentive', 'attitude', 'authentic', 'available', 'average', 'avocado', 'avoid', 'away', 'awesome', 'awful', 'ayce', 'back', 'bacon', 'bad', 'bag', 'bake', 'ball', 'banana', 'bar', 'barely', 'bartender', 'bartenders', 'base', 'basic', 'basically', 'bathroom', 'bbq', 'bean', 'beat', 'beautiful', 'become', 'bed', 'beef', 'beer', 'beers', 'begin', 'behind', 'believe', 'bellagio', 'belly', 'benedict', 'best', 'better', 'beyond', 'big', 'bill', 'birthday', 'bite', 'black', 'bland', 'blow', 'blue', 'boba', 'bomb', 'bone', 'book', 'bottle', 'bowl', 'box', 'boyfriend', 'bread', 'break', 'breakfast', 'bring', 'brisket', 'broth', 'brown', 'brunch', 'buck', 'buffet', 'build', 'bun', 'burger', 'burgers', 'burn', 'burrito', 'business', 'busy', 'butter', 'buy', 'caesar', 'cafe', 'cake', 'calamari', 'california', 'call', 'cannot', 'car', 'card', 'care', 'carne', 'case', 'cashier', 'casino', 'casual', 'catch', 'cause', 'celebrate', 'center', 'chance', 'change', 'charge', 'cheap', 'check', 'cheese', 'cheesecake', 'chef', 'chefs', 'chicken', 'chili', 'chill', 'chinese', 'chip', 'chocolate', 'choice', 'choices', 'choose', 'chop', 'cinnamon', 'city', 'classic', 'clean', 'clear', 'clearly', 'close', 'club', 'cocktail', 'cocktails', 'coffee', 'cold', 'combo', 'come', 'comfortable', 'compare', 'complain', 'complaint', 'completely', 'complimentary', 'consider', 'continue', 'convenient', 'cook', 'cool', 'corn', 'corner', 'cost', 'could', 'counter', 'couple', 'course', 'cover', 'crab', 'crave', 'crazy', 'cream', 'creamy', 'credit', 'crepe']\n"
     ]
    }
   ],
   "source": [
    "words = tfidf_vectorizer.get_feature_names()\n",
    "print(words[:200])"
   ]
  },
  {
   "cell_type": "markdown",
   "metadata": {},
   "source": [
    "## Apply TD-IDF model to test set (transform only, not fit_transform)"
   ]
  },
  {
   "cell_type": "code",
   "execution_count": 21,
   "metadata": {},
   "outputs": [
    {
     "data": {
      "text/plain": [
       "(222384, 1000)"
      ]
     },
     "execution_count": 21,
     "metadata": {},
     "output_type": "execute_result"
    }
   ],
   "source": [
    "# Use the trained model to transform the test data\n",
    "X_test = tfidf_vectorizer.transform(X_test0).toarray()\n",
    "X_test.shape"
   ]
  },
  {
   "cell_type": "markdown",
   "metadata": {},
   "source": [
    "## Standardize the X_train and X_test for modelling use"
   ]
  },
  {
   "cell_type": "code",
   "execution_count": 22,
   "metadata": {},
   "outputs": [],
   "source": [
    "from sklearn.preprocessing import StandardScaler\n",
    "\n",
    "scaler = StandardScaler()\n",
    "\n",
    "X_train_scaled = scaler.fit_transform(X_train)\n",
    "X_test_scaled = scaler.transform(X_test)"
   ]
  },
  {
   "cell_type": "markdown",
   "metadata": {},
   "source": [
    "## Pre-load prediction performance evaluation modules"
   ]
  },
  {
   "cell_type": "code",
   "execution_count": 23,
   "metadata": {},
   "outputs": [],
   "source": [
    "# Function block for metric scores\n",
    "from sklearn.metrics import precision_score, accuracy_score, recall_score, f1_score, roc_auc_score\n",
    "\n",
    "def get_performance_metrics(y_train, p_train_pred, y_test, p_test_pred, threshold=0.5): #, table_name\n",
    "    metric_names = ['ROC\\'s AUC','Accuracy','Precision','Recall','F1-score']\n",
    "    metric_values_train = [roc_auc_score(y_train, p_train_pred),\n",
    "                    accuracy_score(y_train, p_train_pred>threshold),\n",
    "                    precision_score(y_train, p_train_pred>threshold),\n",
    "                    recall_score(y_train, p_train_pred>threshold),\n",
    "                    f1_score(y_train, p_train_pred>threshold)\n",
    "                   ]\n",
    "    metric_values_test = [roc_auc_score(y_test, p_test_pred),\n",
    "                    accuracy_score(y_test, p_test_pred>threshold),\n",
    "                    precision_score(y_test, p_test_pred>threshold),\n",
    "                    recall_score(y_test, p_test_pred>threshold),\n",
    "                    f1_score(y_test, p_test_pred>threshold)\n",
    "                   ]\n",
    "    all_metrics = pd.DataFrame({'Metric':metric_names,\n",
    "                                'Train':metric_values_train,\n",
    "                                'Test':metric_values_test},columns=['Metric','Train','Test']).set_index('Metric')  \n",
    "    #all_metrics.to_csv('output/table_' + str(table_name) + '.csv')\n",
    "    print(all_metrics)  \n",
    "\n",
    "# Function block for ROC plot\n",
    "%matplotlib inline\n",
    "import matplotlib.pyplot as plt\n",
    "from sklearn.metrics import roc_curve, auc\n",
    "\n",
    "def plot_roc_curve(y_train, p_train_pred, y_test, p_test_pred, roc_name):         #, plot_name\n",
    "    \n",
    "    roc_auc_train = roc_auc_score(y_train, p_train_pred)               # get the AUC Score using roc_auc_score\n",
    "    fpr_train, tpr_train, _ = roc_curve(y_train, p_train_pred)         # get the vector of FPR and TPR ) using roc_curve\n",
    "\n",
    "    roc_auc_test = roc_auc_score(y_test, p_test_pred)                  # get the AUC Score using roc_auc_score\n",
    "    fpr_test, tpr_test, _ = roc_curve(y_test, p_test_pred)             # get the vector of FPR and TPR ) using roc_curve\n",
    "    \n",
    "    #plot ROC curve\n",
    "    plt.figure()\n",
    "    lw = 2\n",
    "    plt.plot(fpr_train, tpr_train, color='green',\n",
    "             lw=lw, label='ROC Train (AUC = %0.4f)' % roc_auc_train)\n",
    "    plt.plot(fpr_test, tpr_test, color='darkorange',\n",
    "             lw=lw, label='ROC Test (AUC = %0.4f)' % roc_auc_test)\n",
    "    plt.plot([0, 1], [0, 1], color='navy', lw=lw, linestyle='--')\n",
    "    plt.xlabel('False Positive Rate (1-Specificity)')\n",
    "    plt.ylabel('True Positive Rate (Sensitivity)')\n",
    "    plt.title('ROC Curve for ' + str(roc_name))\n",
    "    plt.legend(loc=\"lower right\")\n",
    "    #plt.savefig('output/figure_' + str(plot_name) + '.jpg')\n",
    "    plt.show()"
   ]
  },
  {
   "cell_type": "code",
   "execution_count": 25,
   "metadata": {},
   "outputs": [
    {
     "name": "stderr",
     "output_type": "stream",
     "text": [
      "C:\\Anaconda3\\lib\\site-packages\\sklearn\\externals\\joblib\\externals\\loky\\process_executor.py:706: UserWarning: A worker stopped while some jobs were given to the executor. This can be caused by a too short worker timeout or by a memory leak.\n",
      "  \"timeout or by a memory leak.\", UserWarning\n",
      "C:\\Anaconda3\\lib\\site-packages\\sklearn\\linear_model\\logistic.py:433: FutureWarning: Default solver will be changed to 'lbfgs' in 0.22. Specify a solver to silence this warning.\n",
      "  FutureWarning)\n"
     ]
    },
    {
     "name": "stdout",
     "output_type": "stream",
     "text": [
      "best estimator: LogisticRegression(C=0.020468075714350484, class_weight=None, dual=False,\n",
      "          fit_intercept=True, intercept_scaling=1, max_iter=100,\n",
      "          multi_class='warn', n_jobs=None, penalty='l1', random_state=None,\n",
      "          solver='warn', tol=0.0001, verbose=0, warm_start=False) \n",
      " best parameter: {'C': 0.020468075714350484, 'penalty': 'l1'} \n",
      " best ROC score: 0.914081624536632\n"
     ]
    }
   ],
   "source": [
    "from sklearn.linear_model import LogisticRegression\n",
    "from sklearn.model_selection import GridSearchCV\n",
    "from sklearn.metrics import  roc_auc_score\n",
    "\n",
    "ladder = np.exp(list(np.linspace(-7, 7, num= 10)))  #0.001~1100 equally spaced in logscale\n",
    "\n",
    "param_lr = {'C':ladder, 'penalty':['l1','l2']}\n",
    "\n",
    "lr_clf = LogisticRegression(max_iter=100)   #, solver = 'sag') \n",
    "\n",
    "lr_clf_gs = GridSearchCV(lr_clf, param_grid = param_lr, scoring='roc_auc', iid=False, cv=3, n_jobs=4)\n",
    "lr_clf_gs.fit(X_train_scaled, y_train)\n",
    "\n",
    "print('best estimator:', lr_clf_gs.best_estimator_, '\\n',\n",
    "      'best parameter:', lr_clf_gs.best_params_,'\\n',\n",
    "      'best ROC score:', lr_clf_gs.best_score_)"
   ]
  },
  {
   "cell_type": "markdown",
   "metadata": {},
   "source": [
    "* Logistic regression with L1 and C=0.020468 is the best model"
   ]
  },
  {
   "cell_type": "code",
   "execution_count": 26,
   "metadata": {
    "scrolled": false
   },
   "outputs": [
    {
     "name": "stdout",
     "output_type": "stream",
     "text": [
      "              Train      Test\n",
      "Metric                       \n",
      "ROC's AUC  0.916459  0.915508\n",
      "Accuracy   0.839300  0.838262\n",
      "Precision  0.827818  0.825123\n",
      "Recall     0.857772  0.858622\n",
      "F1-score   0.842529  0.841539\n"
     ]
    },
    {
     "data": {
      "image/png": "[encoded data removed]",
      "text/plain": [
       "<Figure size 432x288 with 1 Axes>"
      ]
     },
     "metadata": {
      "needs_background": "light"
     },
     "output_type": "display_data"
    }
   ],
   "source": [
    "# refit entire training set using best hyperparameters\n",
    "lr_clf_best = lr_clf_gs.best_estimator_\n",
    "#lr_clf_best.fit(X_train_scaled, y_train) # no need to refit, gridsearchcv automatically refit entire set\n",
    "\n",
    "y_train_pred = lr_clf_best.predict(X_train_scaled)\n",
    "p_train_pred = lr_clf_best.predict_proba(X_train_scaled)[:,1]\n",
    "\n",
    "y_test_pred = lr_clf_best.predict(X_test_scaled)\n",
    "p_test_pred = lr_clf_best.predict_proba(X_test_scaled)[:,1]\n",
    "\n",
    "get_performance_metrics(y_train, p_train_pred, y_test, p_test_pred)\n",
    "plot_roc_curve(y_train, p_train_pred, y_test, p_test_pred, roc_name = 'Logistic Regression')"
   ]
  },
  {
   "cell_type": "markdown",
   "metadata": {},
   "source": [
    "* the model reaches very high predictive performance ! (test set ROC 0.916, accurary 0.838, F1 score 0.842)"
   ]
  },
  {
   "cell_type": "code",
   "execution_count": 27,
   "metadata": {},
   "outputs": [],
   "source": [
    "df_coeffs = pd.DataFrame(list(zip(words, lr_clf_best.coef_.flatten()))).sort_values(by=[1], ascending=False)\n",
    "df_coeffs.columns = ['feature', 'coeff']\n",
    "df_coeffs.to_csv('part1_sentimentanalysis_logistic_reg_coeffs.csv')"
   ]
  },
  {
   "cell_type": "markdown",
   "metadata": {},
   "source": [
    "### Top 20 words for positvie sentiments"
   ]
  },
  {
   "cell_type": "code",
   "execution_count": 28,
   "metadata": {
    "scrolled": false
   },
   "outputs": [
    {
     "data": {
      "text/html": [
       "<div>\n",
       "<style scoped>\n",
       "    .dataframe tbody tr th:only-of-type {\n",
       "        vertical-align: middle;\n",
       "    }\n",
       "\n",
       "    .dataframe tbody tr th {\n",
       "        vertical-align: top;\n",
       "    }\n",
       "\n",
       "    .dataframe thead th {\n",
       "        text-align: right;\n",
       "    }\n",
       "</style>\n",
       "<table border=\"1\" class=\"dataframe\">\n",
       "  <thead>\n",
       "    <tr style=\"text-align: right;\">\n",
       "      <th></th>\n",
       "      <th>feature</th>\n",
       "      <th>coeff</th>\n",
       "    </tr>\n",
       "  </thead>\n",
       "  <tbody>\n",
       "    <tr>\n",
       "      <th>0</th>\n",
       "      <td>amaze</td>\n",
       "      <td>0.438497</td>\n",
       "    </tr>\n",
       "    <tr>\n",
       "      <th>1</th>\n",
       "      <td>best</td>\n",
       "      <td>0.366317</td>\n",
       "    </tr>\n",
       "    <tr>\n",
       "      <th>2</th>\n",
       "      <td>great</td>\n",
       "      <td>0.272149</td>\n",
       "    </tr>\n",
       "    <tr>\n",
       "      <th>3</th>\n",
       "      <td>awesome</td>\n",
       "      <td>0.225733</td>\n",
       "    </tr>\n",
       "    <tr>\n",
       "      <th>4</th>\n",
       "      <td>delicious</td>\n",
       "      <td>0.224917</td>\n",
       "    </tr>\n",
       "    <tr>\n",
       "      <th>5</th>\n",
       "      <td>love</td>\n",
       "      <td>0.209728</td>\n",
       "    </tr>\n",
       "    <tr>\n",
       "      <th>6</th>\n",
       "      <td>excellent</td>\n",
       "      <td>0.184616</td>\n",
       "    </tr>\n",
       "    <tr>\n",
       "      <th>7</th>\n",
       "      <td>thank</td>\n",
       "      <td>0.154187</td>\n",
       "    </tr>\n",
       "    <tr>\n",
       "      <th>8</th>\n",
       "      <td>favorite</td>\n",
       "      <td>0.154036</td>\n",
       "    </tr>\n",
       "    <tr>\n",
       "      <th>9</th>\n",
       "      <td>fantastic</td>\n",
       "      <td>0.152534</td>\n",
       "    </tr>\n",
       "    <tr>\n",
       "      <th>10</th>\n",
       "      <td>incredible</td>\n",
       "      <td>0.147288</td>\n",
       "    </tr>\n",
       "    <tr>\n",
       "      <th>11</th>\n",
       "      <td>perfect</td>\n",
       "      <td>0.144478</td>\n",
       "    </tr>\n",
       "    <tr>\n",
       "      <th>12</th>\n",
       "      <td>everything</td>\n",
       "      <td>0.130376</td>\n",
       "    </tr>\n",
       "    <tr>\n",
       "      <th>13</th>\n",
       "      <td>every</td>\n",
       "      <td>0.127191</td>\n",
       "    </tr>\n",
       "    <tr>\n",
       "      <th>14</th>\n",
       "      <td>highly</td>\n",
       "      <td>0.124961</td>\n",
       "    </tr>\n",
       "    <tr>\n",
       "      <th>15</th>\n",
       "      <td>recommend</td>\n",
       "      <td>0.124510</td>\n",
       "    </tr>\n",
       "    <tr>\n",
       "      <th>16</th>\n",
       "      <td>wonderful</td>\n",
       "      <td>0.118672</td>\n",
       "    </tr>\n",
       "    <tr>\n",
       "      <th>17</th>\n",
       "      <td>happy</td>\n",
       "      <td>0.118072</td>\n",
       "    </tr>\n",
       "    <tr>\n",
       "      <th>18</th>\n",
       "      <td>definitely</td>\n",
       "      <td>0.117686</td>\n",
       "    </tr>\n",
       "    <tr>\n",
       "      <th>19</th>\n",
       "      <td>outstanding</td>\n",
       "      <td>0.116870</td>\n",
       "    </tr>\n",
       "  </tbody>\n",
       "</table>\n",
       "</div>"
      ],
      "text/plain": [
       "        feature     coeff\n",
       "0         amaze  0.438497\n",
       "1          best  0.366317\n",
       "2         great  0.272149\n",
       "3       awesome  0.225733\n",
       "4     delicious  0.224917\n",
       "5          love  0.209728\n",
       "6     excellent  0.184616\n",
       "7         thank  0.154187\n",
       "8      favorite  0.154036\n",
       "9     fantastic  0.152534\n",
       "10   incredible  0.147288\n",
       "11      perfect  0.144478\n",
       "12   everything  0.130376\n",
       "13        every  0.127191\n",
       "14       highly  0.124961\n",
       "15    recommend  0.124510\n",
       "16    wonderful  0.118672\n",
       "17        happy  0.118072\n",
       "18   definitely  0.117686\n",
       "19  outstanding  0.116870"
      ]
     },
     "execution_count": 28,
     "metadata": {},
     "output_type": "execute_result"
    }
   ],
   "source": [
    "df_coeffs[:20].reset_index().drop('index', axis=1)"
   ]
  },
  {
   "cell_type": "markdown",
   "metadata": {},
   "source": [
    "### Top 20 words for negative sentiment"
   ]
  },
  {
   "cell_type": "code",
   "execution_count": 30,
   "metadata": {
    "scrolled": false
   },
   "outputs": [
    {
     "data": {
      "text/html": [
       "<div>\n",
       "<style scoped>\n",
       "    .dataframe tbody tr th:only-of-type {\n",
       "        vertical-align: middle;\n",
       "    }\n",
       "\n",
       "    .dataframe tbody tr th {\n",
       "        vertical-align: top;\n",
       "    }\n",
       "\n",
       "    .dataframe thead th {\n",
       "        text-align: right;\n",
       "    }\n",
       "</style>\n",
       "<table border=\"1\" class=\"dataframe\">\n",
       "  <thead>\n",
       "    <tr style=\"text-align: right;\">\n",
       "      <th></th>\n",
       "      <th>feature</th>\n",
       "      <th>coeff</th>\n",
       "    </tr>\n",
       "  </thead>\n",
       "  <tbody>\n",
       "    <tr>\n",
       "      <th>0</th>\n",
       "      <td>worst</td>\n",
       "      <td>-0.418672</td>\n",
       "    </tr>\n",
       "    <tr>\n",
       "      <th>1</th>\n",
       "      <td>horrible</td>\n",
       "      <td>-0.303859</td>\n",
       "    </tr>\n",
       "    <tr>\n",
       "      <th>2</th>\n",
       "      <td>rude</td>\n",
       "      <td>-0.267568</td>\n",
       "    </tr>\n",
       "    <tr>\n",
       "      <th>3</th>\n",
       "      <td>terrible</td>\n",
       "      <td>-0.261217</td>\n",
       "    </tr>\n",
       "    <tr>\n",
       "      <th>4</th>\n",
       "      <td>not_worth</td>\n",
       "      <td>-0.249701</td>\n",
       "    </tr>\n",
       "    <tr>\n",
       "      <th>5</th>\n",
       "      <td>ok</td>\n",
       "      <td>-0.236142</td>\n",
       "    </tr>\n",
       "    <tr>\n",
       "      <th>6</th>\n",
       "      <td>disgust</td>\n",
       "      <td>-0.225216</td>\n",
       "    </tr>\n",
       "    <tr>\n",
       "      <th>7</th>\n",
       "      <td>bland</td>\n",
       "      <td>-0.188152</td>\n",
       "    </tr>\n",
       "    <tr>\n",
       "      <th>8</th>\n",
       "      <td>okay</td>\n",
       "      <td>-0.181217</td>\n",
       "    </tr>\n",
       "    <tr>\n",
       "      <th>9</th>\n",
       "      <td>mediocre</td>\n",
       "      <td>-0.174748</td>\n",
       "    </tr>\n",
       "    <tr>\n",
       "      <th>10</th>\n",
       "      <td>slow</td>\n",
       "      <td>-0.171902</td>\n",
       "    </tr>\n",
       "    <tr>\n",
       "      <th>11</th>\n",
       "      <td>lack</td>\n",
       "      <td>-0.158504</td>\n",
       "    </tr>\n",
       "    <tr>\n",
       "      <th>12</th>\n",
       "      <td>awful</td>\n",
       "      <td>-0.158347</td>\n",
       "    </tr>\n",
       "    <tr>\n",
       "      <th>13</th>\n",
       "      <td>dry</td>\n",
       "      <td>-0.152507</td>\n",
       "    </tr>\n",
       "    <tr>\n",
       "      <th>14</th>\n",
       "      <td>would</td>\n",
       "      <td>-0.146000</td>\n",
       "    </tr>\n",
       "    <tr>\n",
       "      <th>15</th>\n",
       "      <td>overprice</td>\n",
       "      <td>-0.143822</td>\n",
       "    </tr>\n",
       "    <tr>\n",
       "      <th>16</th>\n",
       "      <td>poor</td>\n",
       "      <td>-0.137375</td>\n",
       "    </tr>\n",
       "    <tr>\n",
       "      <th>17</th>\n",
       "      <td>however</td>\n",
       "      <td>-0.135480</td>\n",
       "    </tr>\n",
       "    <tr>\n",
       "      <th>18</th>\n",
       "      <td>worse</td>\n",
       "      <td>-0.133934</td>\n",
       "    </tr>\n",
       "    <tr>\n",
       "      <th>19</th>\n",
       "      <td>average</td>\n",
       "      <td>-0.132844</td>\n",
       "    </tr>\n",
       "  </tbody>\n",
       "</table>\n",
       "</div>"
      ],
      "text/plain": [
       "      feature     coeff\n",
       "0       worst -0.418672\n",
       "1    horrible -0.303859\n",
       "2        rude -0.267568\n",
       "3    terrible -0.261217\n",
       "4   not_worth -0.249701\n",
       "5          ok -0.236142\n",
       "6     disgust -0.225216\n",
       "7       bland -0.188152\n",
       "8        okay -0.181217\n",
       "9    mediocre -0.174748\n",
       "10       slow -0.171902\n",
       "11       lack -0.158504\n",
       "12      awful -0.158347\n",
       "13        dry -0.152507\n",
       "14      would -0.146000\n",
       "15  overprice -0.143822\n",
       "16       poor -0.137375\n",
       "17    however -0.135480\n",
       "18      worse -0.133934\n",
       "19    average -0.132844"
      ]
     },
     "execution_count": 30,
     "metadata": {},
     "output_type": "execute_result"
    }
   ],
   "source": [
    "df_coeffs[-20:].sort_values(by='coeff').reset_index().drop('index', axis=1)"
   ]
  },
  {
   "cell_type": "markdown",
   "metadata": {},
   "source": [
    "## Part 1 Summary\n",
    "\n",
    "* The sentiment analysis and prediction achieved high prediction accuracy for perfect user sentiment\n",
    "* top positive and negative keywords are most important for sentement prediction"
   ]
  },
  {
   "cell_type": "markdown",
   "metadata": {},
   "source": [
    "# PART 2: Recommend Restaurants using Review Text and NMF"
   ]
  },
  {
   "cell_type": "markdown",
   "metadata": {},
   "source": [
    "## Load NLP processed data"
   ]
  },
  {
   "cell_type": "code",
   "execution_count": 17,
   "metadata": {},
   "outputs": [],
   "source": [
    "import pandas as pd\n",
    "df = pd.read_pickle('df_final.pkl')"
   ]
  },
  {
   "cell_type": "code",
   "execution_count": 18,
   "metadata": {},
   "outputs": [],
   "source": [
    "import matplotlib.pyplot as plt\n",
    "%matplotlib inline"
   ]
  },
  {
   "cell_type": "code",
   "execution_count": 19,
   "metadata": {},
   "outputs": [
    {
     "data": {
      "text/html": [
       "<div>\n",
       "<style scoped>\n",
       "    .dataframe tbody tr th:only-of-type {\n",
       "        vertical-align: middle;\n",
       "    }\n",
       "\n",
       "    .dataframe tbody tr th {\n",
       "        vertical-align: top;\n",
       "    }\n",
       "\n",
       "    .dataframe thead th {\n",
       "        text-align: right;\n",
       "    }\n",
       "</style>\n",
       "<table border=\"1\" class=\"dataframe\">\n",
       "  <thead>\n",
       "    <tr style=\"text-align: right;\">\n",
       "      <th></th>\n",
       "      <th>business_id</th>\n",
       "      <th>n_review_restaurant</th>\n",
       "    </tr>\n",
       "  </thead>\n",
       "  <tbody>\n",
       "    <tr>\n",
       "      <th>2115</th>\n",
       "      <td>RESDUcs7fIiihp38-d6_6g</td>\n",
       "      <td>2986</td>\n",
       "    </tr>\n",
       "    <tr>\n",
       "      <th>3273</th>\n",
       "      <td>faPVqws-x-5k2CQKDNtHxw</td>\n",
       "      <td>2420</td>\n",
       "    </tr>\n",
       "    <tr>\n",
       "      <th>2064</th>\n",
       "      <td>QXV3L_QFGj8r6nWX2kS2hA</td>\n",
       "      <td>2320</td>\n",
       "    </tr>\n",
       "    <tr>\n",
       "      <th>389</th>\n",
       "      <td>4JNXUYY8wbaaDmk3BPzlWw</td>\n",
       "      <td>2088</td>\n",
       "    </tr>\n",
       "    <tr>\n",
       "      <th>4428</th>\n",
       "      <td>vHz2RLtfUMVRPFmd7VBEHA</td>\n",
       "      <td>2078</td>\n",
       "    </tr>\n",
       "  </tbody>\n",
       "</table>\n",
       "</div>"
      ],
      "text/plain": [
       "                 business_id  n_review_restaurant\n",
       "2115  RESDUcs7fIiihp38-d6_6g                 2986\n",
       "3273  faPVqws-x-5k2CQKDNtHxw                 2420\n",
       "2064  QXV3L_QFGj8r6nWX2kS2hA                 2320\n",
       "389   4JNXUYY8wbaaDmk3BPzlWw                 2088\n",
       "4428  vHz2RLtfUMVRPFmd7VBEHA                 2078"
      ]
     },
     "execution_count": 19,
     "metadata": {},
     "output_type": "execute_result"
    }
   ],
   "source": [
    "n_review_restaurant = df.groupby('business_id').size().reset_index().rename({0:'n_review_restaurant'}, axis='columns').sort_values(by='n_review_restaurant', ascending=False)\n",
    "n_review_restaurant.head(5)"
   ]
  },
  {
   "cell_type": "code",
   "execution_count": 20,
   "metadata": {},
   "outputs": [],
   "source": [
    "business_mostreivewed200 = n_review_restaurant['business_id'][:200] "
   ]
  },
  {
   "cell_type": "markdown",
   "metadata": {},
   "source": [
    "## Select top 200 restaurants with more reviews"
   ]
  },
  {
   "cell_type": "code",
   "execution_count": 21,
   "metadata": {
    "scrolled": true
   },
   "outputs": [
    {
     "data": {
      "text/html": [
       "<div>\n",
       "<style scoped>\n",
       "    .dataframe tbody tr th:only-of-type {\n",
       "        vertical-align: middle;\n",
       "    }\n",
       "\n",
       "    .dataframe tbody tr th {\n",
       "        vertical-align: top;\n",
       "    }\n",
       "\n",
       "    .dataframe thead th {\n",
       "        text-align: right;\n",
       "    }\n",
       "</style>\n",
       "<table border=\"1\" class=\"dataframe\">\n",
       "  <thead>\n",
       "    <tr style=\"text-align: right;\">\n",
       "      <th></th>\n",
       "      <th>business_id</th>\n",
       "      <th>name</th>\n",
       "      <th>categories</th>\n",
       "      <th>avg_stars</th>\n",
       "      <th>cool</th>\n",
       "      <th>date</th>\n",
       "      <th>funny</th>\n",
       "      <th>review_id</th>\n",
       "      <th>stars</th>\n",
       "      <th>text</th>\n",
       "      <th>useful</th>\n",
       "      <th>user_id</th>\n",
       "    </tr>\n",
       "  </thead>\n",
       "  <tbody>\n",
       "    <tr>\n",
       "      <th>1723</th>\n",
       "      <td>ujHiaprwCQ5ewziu0Vi9rw</td>\n",
       "      <td>The Buffet at Bellagio</td>\n",
       "      <td>American (New), Buffets, Restaurants</td>\n",
       "      <td>3.5</td>\n",
       "      <td>0</td>\n",
       "      <td>2017-02-09 04:48:06</td>\n",
       "      <td>0</td>\n",
       "      <td>aYSR8tO4kBqk0f6_ZYM2Zw</td>\n",
       "      <td>2.0</td>\n",
       "      <td>Went for Saturday Brunch. Wait was doable comp...</td>\n",
       "      <td>0</td>\n",
       "      <td>3BBiuiNLFuA-0Z4RE2UoQA</td>\n",
       "    </tr>\n",
       "    <tr>\n",
       "      <th>1724</th>\n",
       "      <td>ujHiaprwCQ5ewziu0Vi9rw</td>\n",
       "      <td>The Buffet at Bellagio</td>\n",
       "      <td>American (New), Buffets, Restaurants</td>\n",
       "      <td>3.5</td>\n",
       "      <td>0</td>\n",
       "      <td>2017-07-18 17:58:49</td>\n",
       "      <td>0</td>\n",
       "      <td>hZGN-ClXWcdGkdZHTOCbvg</td>\n",
       "      <td>4.0</td>\n",
       "      <td>One of the better Vegas Buffets. No wait at 10...</td>\n",
       "      <td>0</td>\n",
       "      <td>kSOPFO9QHjDKiEfmYtTOSg</td>\n",
       "    </tr>\n",
       "  </tbody>\n",
       "</table>\n",
       "</div>"
      ],
      "text/plain": [
       "                 business_id                    name  \\\n",
       "1723  ujHiaprwCQ5ewziu0Vi9rw  The Buffet at Bellagio   \n",
       "1724  ujHiaprwCQ5ewziu0Vi9rw  The Buffet at Bellagio   \n",
       "\n",
       "                                categories  avg_stars  cool  \\\n",
       "1723  American (New), Buffets, Restaurants        3.5     0   \n",
       "1724  American (New), Buffets, Restaurants        3.5     0   \n",
       "\n",
       "                     date  funny               review_id  stars  \\\n",
       "1723  2017-02-09 04:48:06      0  aYSR8tO4kBqk0f6_ZYM2Zw    2.0   \n",
       "1724  2017-07-18 17:58:49      0  hZGN-ClXWcdGkdZHTOCbvg    4.0   \n",
       "\n",
       "                                                   text  useful  \\\n",
       "1723  Went for Saturday Brunch. Wait was doable comp...       0   \n",
       "1724  One of the better Vegas Buffets. No wait at 10...       0   \n",
       "\n",
       "                     user_id  \n",
       "1723  3BBiuiNLFuA-0Z4RE2UoQA  \n",
       "1724  kSOPFO9QHjDKiEfmYtTOSg  "
      ]
     },
     "execution_count": 21,
     "metadata": {},
     "output_type": "execute_result"
    }
   ],
   "source": [
    "df_mostreviewed200 = df.loc[df['business_id'].isin(business_mostreivewed200), ]\n",
    "df_mostreviewed200.head(2)"
   ]
  },
  {
   "cell_type": "code",
   "execution_count": 22,
   "metadata": {},
   "outputs": [
    {
     "data": {
      "text/plain": [
       "((140835, 12), 94529, 200)"
      ]
     },
     "execution_count": 22,
     "metadata": {},
     "output_type": "execute_result"
    }
   ],
   "source": [
    "df_mostreviewed200.shape, df_mostreviewed200['user_id'].nunique(),df_mostreviewed200['business_id'].nunique()"
   ]
  },
  {
   "cell_type": "markdown",
   "metadata": {},
   "source": [
    "* 140835 reviews from 94529 users for 200 restaurants"
   ]
  },
  {
   "cell_type": "markdown",
   "metadata": {},
   "source": [
    "## Random sample 30000 users"
   ]
  },
  {
   "cell_type": "code",
   "execution_count": 23,
   "metadata": {},
   "outputs": [],
   "source": [
    "import numpy as np"
   ]
  },
  {
   "cell_type": "code",
   "execution_count": 19,
   "metadata": {},
   "outputs": [],
   "source": [
    "#user_id_30k = np.random.choice(a=df_mostreviewed200['user_id'].unique(), n = 30000, replace=False)\n",
    "#user_id_30k.shape"
   ]
  },
  {
   "cell_type": "code",
   "execution_count": 24,
   "metadata": {},
   "outputs": [
    {
     "data": {
      "text/plain": [
       "(30000, 1)"
      ]
     },
     "execution_count": 24,
     "metadata": {},
     "output_type": "execute_result"
    }
   ],
   "source": [
    "user_id_30k = pd.DataFrame(df_mostreviewed200['user_id'].unique()).sample(n = 30000, replace=False, random_state = 40)\n",
    "user_id_30k.shape"
   ]
  },
  {
   "cell_type": "code",
   "execution_count": 25,
   "metadata": {},
   "outputs": [
    {
     "data": {
      "text/html": [
       "<div>\n",
       "<style scoped>\n",
       "    .dataframe tbody tr th:only-of-type {\n",
       "        vertical-align: middle;\n",
       "    }\n",
       "\n",
       "    .dataframe tbody tr th {\n",
       "        vertical-align: top;\n",
       "    }\n",
       "\n",
       "    .dataframe thead th {\n",
       "        text-align: right;\n",
       "    }\n",
       "</style>\n",
       "<table border=\"1\" class=\"dataframe\">\n",
       "  <thead>\n",
       "    <tr style=\"text-align: right;\">\n",
       "      <th></th>\n",
       "      <th>0</th>\n",
       "    </tr>\n",
       "  </thead>\n",
       "  <tbody>\n",
       "    <tr>\n",
       "      <th>43788</th>\n",
       "      <td>UkqX8DY2_fLdoQp66AxFCw</td>\n",
       "    </tr>\n",
       "    <tr>\n",
       "      <th>17181</th>\n",
       "      <td>iY5zak08RKdDz5gfEyGrZw</td>\n",
       "    </tr>\n",
       "    <tr>\n",
       "      <th>60420</th>\n",
       "      <td>-DlNrkkd5iUXwdfmSGx5ew</td>\n",
       "    </tr>\n",
       "    <tr>\n",
       "      <th>42961</th>\n",
       "      <td>B9FYcoM5Qp-_zjFDJoBx9g</td>\n",
       "    </tr>\n",
       "    <tr>\n",
       "      <th>86127</th>\n",
       "      <td>MPTKhGSNAcK5RDnUfkhjkQ</td>\n",
       "    </tr>\n",
       "  </tbody>\n",
       "</table>\n",
       "</div>"
      ],
      "text/plain": [
       "                            0\n",
       "43788  UkqX8DY2_fLdoQp66AxFCw\n",
       "17181  iY5zak08RKdDz5gfEyGrZw\n",
       "60420  -DlNrkkd5iUXwdfmSGx5ew\n",
       "42961  B9FYcoM5Qp-_zjFDJoBx9g\n",
       "86127  MPTKhGSNAcK5RDnUfkhjkQ"
      ]
     },
     "execution_count": 25,
     "metadata": {},
     "output_type": "execute_result"
    }
   ],
   "source": [
    "user_id_30k.head()"
   ]
  },
  {
   "cell_type": "code",
   "execution_count": 26,
   "metadata": {},
   "outputs": [],
   "source": [
    "df_mostreviewed200_user30k = df_mostreviewed200.loc[df['user_id'].isin(user_id_30k[0]), ]"
   ]
  },
  {
   "cell_type": "code",
   "execution_count": 27,
   "metadata": {},
   "outputs": [
    {
     "data": {
      "text/plain": [
       "((44725, 12), 30000, 200)"
      ]
     },
     "execution_count": 27,
     "metadata": {},
     "output_type": "execute_result"
    }
   ],
   "source": [
    "df_mostreviewed200_user30k.shape, df_mostreviewed200_user30k['user_id'].nunique(),df_mostreviewed200_user30k['business_id'].nunique()"
   ]
  },
  {
   "cell_type": "markdown",
   "metadata": {},
   "source": [
    "* 44725 reviews from 30000 users for 200 restaurants"
   ]
  },
  {
   "cell_type": "code",
   "execution_count": 28,
   "metadata": {},
   "outputs": [
    {
     "data": {
      "text/html": [
       "<div>\n",
       "<style scoped>\n",
       "    .dataframe tbody tr th:only-of-type {\n",
       "        vertical-align: middle;\n",
       "    }\n",
       "\n",
       "    .dataframe tbody tr th {\n",
       "        vertical-align: top;\n",
       "    }\n",
       "\n",
       "    .dataframe thead th {\n",
       "        text-align: right;\n",
       "    }\n",
       "</style>\n",
       "<table border=\"1\" class=\"dataframe\">\n",
       "  <thead>\n",
       "    <tr style=\"text-align: right;\">\n",
       "      <th></th>\n",
       "      <th>business_id</th>\n",
       "      <th>name</th>\n",
       "      <th>categories</th>\n",
       "      <th>avg_stars</th>\n",
       "      <th>cool</th>\n",
       "      <th>date</th>\n",
       "      <th>funny</th>\n",
       "      <th>review_id</th>\n",
       "      <th>stars</th>\n",
       "      <th>text</th>\n",
       "      <th>useful</th>\n",
       "      <th>user_id</th>\n",
       "    </tr>\n",
       "  </thead>\n",
       "  <tbody>\n",
       "    <tr>\n",
       "      <th>1732</th>\n",
       "      <td>ujHiaprwCQ5ewziu0Vi9rw</td>\n",
       "      <td>The Buffet at Bellagio</td>\n",
       "      <td>American (New), Buffets, Restaurants</td>\n",
       "      <td>3.5</td>\n",
       "      <td>0</td>\n",
       "      <td>2017-08-16 14:35:48</td>\n",
       "      <td>0</td>\n",
       "      <td>lerO9Vz0Nybxog5uE9NKXQ</td>\n",
       "      <td>2.0</td>\n",
       "      <td>I was here for dinner with my family, there's ...</td>\n",
       "      <td>0</td>\n",
       "      <td>H86i4SXs9jHZUh3pgZZ_Vg</td>\n",
       "    </tr>\n",
       "    <tr>\n",
       "      <th>1733</th>\n",
       "      <td>ujHiaprwCQ5ewziu0Vi9rw</td>\n",
       "      <td>The Buffet at Bellagio</td>\n",
       "      <td>American (New), Buffets, Restaurants</td>\n",
       "      <td>3.5</td>\n",
       "      <td>0</td>\n",
       "      <td>2016-11-21 22:10:54</td>\n",
       "      <td>0</td>\n",
       "      <td>fg81UzYFoJzbYBrjG1KqJA</td>\n",
       "      <td>2.0</td>\n",
       "      <td>Not what I expected for the price.  Its the Be...</td>\n",
       "      <td>0</td>\n",
       "      <td>GbzI5Rt_1eWjXF8d54Txcw</td>\n",
       "    </tr>\n",
       "  </tbody>\n",
       "</table>\n",
       "</div>"
      ],
      "text/plain": [
       "                 business_id                    name  \\\n",
       "1732  ujHiaprwCQ5ewziu0Vi9rw  The Buffet at Bellagio   \n",
       "1733  ujHiaprwCQ5ewziu0Vi9rw  The Buffet at Bellagio   \n",
       "\n",
       "                                categories  avg_stars  cool  \\\n",
       "1732  American (New), Buffets, Restaurants        3.5     0   \n",
       "1733  American (New), Buffets, Restaurants        3.5     0   \n",
       "\n",
       "                     date  funny               review_id  stars  \\\n",
       "1732  2017-08-16 14:35:48      0  lerO9Vz0Nybxog5uE9NKXQ    2.0   \n",
       "1733  2016-11-21 22:10:54      0  fg81UzYFoJzbYBrjG1KqJA    2.0   \n",
       "\n",
       "                                                   text  useful  \\\n",
       "1732  I was here for dinner with my family, there's ...       0   \n",
       "1733  Not what I expected for the price.  Its the Be...       0   \n",
       "\n",
       "                     user_id  \n",
       "1732  H86i4SXs9jHZUh3pgZZ_Vg  \n",
       "1733  GbzI5Rt_1eWjXF8d54Txcw  "
      ]
     },
     "execution_count": 28,
     "metadata": {},
     "output_type": "execute_result"
    }
   ],
   "source": [
    "df_mostreviewed200_user30k.head(2)"
   ]
  },
  {
   "cell_type": "code",
   "execution_count": 29,
   "metadata": {},
   "outputs": [],
   "source": [
    "reviewtext_nlp = pd.read_pickle('reviewtext_nlp.pkl')"
   ]
  },
  {
   "cell_type": "markdown",
   "metadata": {},
   "source": [
    "## Merge User ID and Processed Review Text"
   ]
  },
  {
   "cell_type": "code",
   "execution_count": 30,
   "metadata": {},
   "outputs": [],
   "source": [
    "user_review_df = df_mostreviewed200_user30k[['user_id','text']].merge(reviewtext_nlp.to_frame(), left_index = True, right_index = True)"
   ]
  },
  {
   "cell_type": "code",
   "execution_count": 32,
   "metadata": {},
   "outputs": [
    {
     "data": {
      "text/html": [
       "<div>\n",
       "<style scoped>\n",
       "    .dataframe tbody tr th:only-of-type {\n",
       "        vertical-align: middle;\n",
       "    }\n",
       "\n",
       "    .dataframe tbody tr th {\n",
       "        vertical-align: top;\n",
       "    }\n",
       "\n",
       "    .dataframe thead th {\n",
       "        text-align: right;\n",
       "    }\n",
       "</style>\n",
       "<table border=\"1\" class=\"dataframe\">\n",
       "  <thead>\n",
       "    <tr style=\"text-align: right;\">\n",
       "      <th></th>\n",
       "      <th>user_id</th>\n",
       "      <th>text_x</th>\n",
       "      <th>text_y</th>\n",
       "    </tr>\n",
       "  </thead>\n",
       "  <tbody>\n",
       "    <tr>\n",
       "      <th>1732</th>\n",
       "      <td>H86i4SXs9jHZUh3pgZZ_Vg</td>\n",
       "      <td>I was here for dinner with my family, there's ...</td>\n",
       "      <td>dinner family kid price disappoint kid barely ...</td>\n",
       "    </tr>\n",
       "    <tr>\n",
       "      <th>1733</th>\n",
       "      <td>GbzI5Rt_1eWjXF8d54Txcw</td>\n",
       "      <td>Not what I expected for the price.  Its the Be...</td>\n",
       "      <td>not_what expect price bellagio name speak cold...</td>\n",
       "    </tr>\n",
       "  </tbody>\n",
       "</table>\n",
       "</div>"
      ],
      "text/plain": [
       "                     user_id  \\\n",
       "1732  H86i4SXs9jHZUh3pgZZ_Vg   \n",
       "1733  GbzI5Rt_1eWjXF8d54Txcw   \n",
       "\n",
       "                                                 text_x  \\\n",
       "1732  I was here for dinner with my family, there's ...   \n",
       "1733  Not what I expected for the price.  Its the Be...   \n",
       "\n",
       "                                                 text_y  \n",
       "1732  dinner family kid price disappoint kid barely ...  \n",
       "1733  not_what expect price bellagio name speak cold...  "
      ]
     },
     "execution_count": 32,
     "metadata": {},
     "output_type": "execute_result"
    }
   ],
   "source": [
    "user_review_df.head(2)"
   ]
  },
  {
   "cell_type": "markdown",
   "metadata": {},
   "source": [
    "* confirm that merge by left index works"
   ]
  },
  {
   "cell_type": "code",
   "execution_count": 33,
   "metadata": {},
   "outputs": [
    {
     "data": {
      "text/plain": [
       "(44725, 2)"
      ]
     },
     "execution_count": 33,
     "metadata": {},
     "output_type": "execute_result"
    }
   ],
   "source": [
    "user_review_df = df_mostreviewed200_user30k[['user_id']].merge(reviewtext_nlp.to_frame(), left_index = True, right_index = True)\n",
    "user_review_df.shape"
   ]
  },
  {
   "cell_type": "code",
   "execution_count": 34,
   "metadata": {},
   "outputs": [
    {
     "data": {
      "text/html": [
       "<div>\n",
       "<style scoped>\n",
       "    .dataframe tbody tr th:only-of-type {\n",
       "        vertical-align: middle;\n",
       "    }\n",
       "\n",
       "    .dataframe tbody tr th {\n",
       "        vertical-align: top;\n",
       "    }\n",
       "\n",
       "    .dataframe thead th {\n",
       "        text-align: right;\n",
       "    }\n",
       "</style>\n",
       "<table border=\"1\" class=\"dataframe\">\n",
       "  <thead>\n",
       "    <tr style=\"text-align: right;\">\n",
       "      <th></th>\n",
       "      <th>user_id</th>\n",
       "      <th>text</th>\n",
       "    </tr>\n",
       "  </thead>\n",
       "  <tbody>\n",
       "    <tr>\n",
       "      <th>1732</th>\n",
       "      <td>H86i4SXs9jHZUh3pgZZ_Vg</td>\n",
       "      <td>dinner family kid price disappoint kid barely ...</td>\n",
       "    </tr>\n",
       "    <tr>\n",
       "      <th>1733</th>\n",
       "      <td>GbzI5Rt_1eWjXF8d54Txcw</td>\n",
       "      <td>not_what expect price bellagio name speak cold...</td>\n",
       "    </tr>\n",
       "  </tbody>\n",
       "</table>\n",
       "</div>"
      ],
      "text/plain": [
       "                     user_id  \\\n",
       "1732  H86i4SXs9jHZUh3pgZZ_Vg   \n",
       "1733  GbzI5Rt_1eWjXF8d54Txcw   \n",
       "\n",
       "                                                   text  \n",
       "1732  dinner family kid price disappoint kid barely ...  \n",
       "1733  not_what expect price bellagio name speak cold...  "
      ]
     },
     "execution_count": 34,
     "metadata": {},
     "output_type": "execute_result"
    }
   ],
   "source": [
    "user_review_df.head(2)"
   ]
  },
  {
   "cell_type": "markdown",
   "metadata": {},
   "source": [
    "## Merge Business ID and Processed Review Text"
   ]
  },
  {
   "cell_type": "code",
   "execution_count": 35,
   "metadata": {
    "scrolled": true
   },
   "outputs": [
    {
     "data": {
      "text/plain": [
       "(44725, 2)"
      ]
     },
     "execution_count": 35,
     "metadata": {},
     "output_type": "execute_result"
    }
   ],
   "source": [
    "business_review_df = df_mostreviewed200_user30k[['business_id']].merge(reviewtext_nlp.to_frame(), left_index = True, right_index = True)\n",
    "business_review_df.shape"
   ]
  },
  {
   "cell_type": "code",
   "execution_count": 36,
   "metadata": {},
   "outputs": [
    {
     "data": {
      "text/html": [
       "<div>\n",
       "<style scoped>\n",
       "    .dataframe tbody tr th:only-of-type {\n",
       "        vertical-align: middle;\n",
       "    }\n",
       "\n",
       "    .dataframe tbody tr th {\n",
       "        vertical-align: top;\n",
       "    }\n",
       "\n",
       "    .dataframe thead th {\n",
       "        text-align: right;\n",
       "    }\n",
       "</style>\n",
       "<table border=\"1\" class=\"dataframe\">\n",
       "  <thead>\n",
       "    <tr style=\"text-align: right;\">\n",
       "      <th></th>\n",
       "      <th>business_id</th>\n",
       "      <th>text</th>\n",
       "    </tr>\n",
       "  </thead>\n",
       "  <tbody>\n",
       "    <tr>\n",
       "      <th>1732</th>\n",
       "      <td>ujHiaprwCQ5ewziu0Vi9rw</td>\n",
       "      <td>dinner family kid price disappoint kid barely ...</td>\n",
       "    </tr>\n",
       "    <tr>\n",
       "      <th>1733</th>\n",
       "      <td>ujHiaprwCQ5ewziu0Vi9rw</td>\n",
       "      <td>not_what expect price bellagio name speak cold...</td>\n",
       "    </tr>\n",
       "  </tbody>\n",
       "</table>\n",
       "</div>"
      ],
      "text/plain": [
       "                 business_id  \\\n",
       "1732  ujHiaprwCQ5ewziu0Vi9rw   \n",
       "1733  ujHiaprwCQ5ewziu0Vi9rw   \n",
       "\n",
       "                                                   text  \n",
       "1732  dinner family kid price disappoint kid barely ...  \n",
       "1733  not_what expect price bellagio name speak cold...  "
      ]
     },
     "execution_count": 36,
     "metadata": {},
     "output_type": "execute_result"
    }
   ],
   "source": [
    "business_review_df.head(2)"
   ]
  },
  {
   "cell_type": "markdown",
   "metadata": {},
   "source": [
    "## Combine reviews from same user into 1 row"
   ]
  },
  {
   "cell_type": "code",
   "execution_count": 37,
   "metadata": {},
   "outputs": [
    {
     "data": {
      "text/html": [
       "<div>\n",
       "<style scoped>\n",
       "    .dataframe tbody tr th:only-of-type {\n",
       "        vertical-align: middle;\n",
       "    }\n",
       "\n",
       "    .dataframe tbody tr th {\n",
       "        vertical-align: top;\n",
       "    }\n",
       "\n",
       "    .dataframe thead th {\n",
       "        text-align: right;\n",
       "    }\n",
       "</style>\n",
       "<table border=\"1\" class=\"dataframe\">\n",
       "  <thead>\n",
       "    <tr style=\"text-align: right;\">\n",
       "      <th></th>\n",
       "      <th>text</th>\n",
       "    </tr>\n",
       "    <tr>\n",
       "      <th>user_id</th>\n",
       "      <th></th>\n",
       "    </tr>\n",
       "  </thead>\n",
       "  <tbody>\n",
       "    <tr>\n",
       "      <th>--OuPo_FoEnz41-whCm1hQ</th>\n",
       "      <td>love place great place good food highly recomm...</td>\n",
       "    </tr>\n",
       "    <tr>\n",
       "      <th>--PJ1FuEoTEo-3Cxf_izRg</th>\n",
       "      <td>great decor subpar foods not_have crab legs me...</td>\n",
       "    </tr>\n",
       "  </tbody>\n",
       "</table>\n",
       "</div>"
      ],
      "text/plain": [
       "                                                                     text\n",
       "user_id                                                                  \n",
       "--OuPo_FoEnz41-whCm1hQ  love place great place good food highly recomm...\n",
       "--PJ1FuEoTEo-3Cxf_izRg  great decor subpar foods not_have crab legs me..."
      ]
     },
     "execution_count": 37,
     "metadata": {},
     "output_type": "execute_result"
    }
   ],
   "source": [
    "user_review_df_agg = user_review_df.groupby('user_id').agg({'text': ' '.join})\n",
    "user_review_df_agg.head(2)"
   ]
  },
  {
   "cell_type": "markdown",
   "metadata": {},
   "source": [
    "## Combine reviews from same restaurant into 1 row"
   ]
  },
  {
   "cell_type": "code",
   "execution_count": 38,
   "metadata": {},
   "outputs": [
    {
     "data": {
      "text/html": [
       "<div>\n",
       "<style scoped>\n",
       "    .dataframe tbody tr th:only-of-type {\n",
       "        vertical-align: middle;\n",
       "    }\n",
       "\n",
       "    .dataframe tbody tr th {\n",
       "        vertical-align: top;\n",
       "    }\n",
       "\n",
       "    .dataframe thead th {\n",
       "        text-align: right;\n",
       "    }\n",
       "</style>\n",
       "<table border=\"1\" class=\"dataframe\">\n",
       "  <thead>\n",
       "    <tr style=\"text-align: right;\">\n",
       "      <th></th>\n",
       "      <th>text</th>\n",
       "    </tr>\n",
       "    <tr>\n",
       "      <th>business_id</th>\n",
       "      <th></th>\n",
       "    </tr>\n",
       "  </thead>\n",
       "  <tbody>\n",
       "    <tr>\n",
       "      <th>-ADtl9bLp8wNqYX1k3KuxA</th>\n",
       "      <td>black garlic miso good also add corn signature...</td>\n",
       "    </tr>\n",
       "    <tr>\n",
       "      <th>-ed0Yc9on37RoIoG2ZgxBA</th>\n",
       "      <td>pack flavor salty side thai food asia never sa...</td>\n",
       "    </tr>\n",
       "  </tbody>\n",
       "</table>\n",
       "</div>"
      ],
      "text/plain": [
       "                                                                     text\n",
       "business_id                                                              \n",
       "-ADtl9bLp8wNqYX1k3KuxA  black garlic miso good also add corn signature...\n",
       "-ed0Yc9on37RoIoG2ZgxBA  pack flavor salty side thai food asia never sa..."
      ]
     },
     "execution_count": 38,
     "metadata": {},
     "output_type": "execute_result"
    }
   ],
   "source": [
    "business_review_df_agg = business_review_df.groupby('business_id').agg({'text': ' '.join})\n",
    "business_review_df_agg.head(2)"
   ]
  },
  {
   "cell_type": "markdown",
   "metadata": {},
   "source": [
    "## TF-IDF on user and business aggregated text data"
   ]
  },
  {
   "cell_type": "code",
   "execution_count": 39,
   "metadata": {},
   "outputs": [],
   "source": [
    "from sklearn.feature_extraction.text import TfidfVectorizer"
   ]
  },
  {
   "cell_type": "code",
   "execution_count": 40,
   "metadata": {},
   "outputs": [],
   "source": [
    "user_tfidf_vectorizer = TfidfVectorizer(lowercase=False, stop_words = None, max_features=500, use_idf=True, smooth_idf=True, norm='l2')\n",
    "user_review_agg_tfidf = user_tfidf_vectorizer.fit_transform(user_review_df_agg['text']).toarray()"
   ]
  },
  {
   "cell_type": "code",
   "execution_count": 41,
   "metadata": {},
   "outputs": [
    {
     "data": {
      "text/plain": [
       "(30000, 500)"
      ]
     },
     "execution_count": 41,
     "metadata": {},
     "output_type": "execute_result"
    }
   ],
   "source": [
    "user_review_agg_tfidf.shape"
   ]
  },
  {
   "cell_type": "code",
   "execution_count": 42,
   "metadata": {},
   "outputs": [],
   "source": [
    "business_tfidf_vectorizer = TfidfVectorizer(lowercase=False, stop_words = None, max_features=500, use_idf=True, smooth_idf=True, norm='l2')\n",
    "\n",
    "business_review_agg_tfidf = business_tfidf_vectorizer.fit_transform(business_review_df_agg['text']).toarray()"
   ]
  },
  {
   "cell_type": "code",
   "execution_count": 43,
   "metadata": {},
   "outputs": [
    {
     "data": {
      "text/plain": [
       "(200, 500)"
      ]
     },
     "execution_count": 43,
     "metadata": {},
     "output_type": "execute_result"
    }
   ],
   "source": [
    "business_review_agg_tfidf.shape"
   ]
  },
  {
   "cell_type": "markdown",
   "metadata": {},
   "source": [
    "## Add the index and column name back to TF-IDF matrix, create P and Q matrices"
   ]
  },
  {
   "cell_type": "code",
   "execution_count": 27,
   "metadata": {},
   "outputs": [],
   "source": [
    "P = pd.DataFrame(user_review_agg_tfidf, index=user_review_df_agg.index, columns=user_tfidf_vectorizer.get_feature_names())\n",
    "\n",
    "Q = pd.DataFrame(business_review_agg_tfidf, index=business_review_df_agg.index, columns=business_tfidf_vectorizer.get_feature_names())"
   ]
  },
  {
   "cell_type": "code",
   "execution_count": 28,
   "metadata": {},
   "outputs": [
    {
     "data": {
      "text/plain": [
       "((30000, 500), (200, 500))"
      ]
     },
     "execution_count": 28,
     "metadata": {},
     "output_type": "execute_result"
    }
   ],
   "source": [
    "P.shape, Q.shape"
   ]
  },
  {
   "cell_type": "code",
   "execution_count": 29,
   "metadata": {},
   "outputs": [
    {
     "data": {
      "text/html": [
       "<div>\n",
       "<style scoped>\n",
       "    .dataframe tbody tr th:only-of-type {\n",
       "        vertical-align: middle;\n",
       "    }\n",
       "\n",
       "    .dataframe tbody tr th {\n",
       "        vertical-align: top;\n",
       "    }\n",
       "\n",
       "    .dataframe thead th {\n",
       "        text-align: right;\n",
       "    }\n",
       "</style>\n",
       "<table border=\"1\" class=\"dataframe\">\n",
       "  <thead>\n",
       "    <tr style=\"text-align: right;\">\n",
       "      <th></th>\n",
       "      <th>able</th>\n",
       "      <th>absolutely</th>\n",
       "      <th>actually</th>\n",
       "      <th>add</th>\n",
       "      <th>almost</th>\n",
       "      <th>already</th>\n",
       "      <th>also</th>\n",
       "      <th>although</th>\n",
       "      <th>always</th>\n",
       "      <th>amaze</th>\n",
       "      <th>...</th>\n",
       "      <th>worth</th>\n",
       "      <th>would</th>\n",
       "      <th>wow</th>\n",
       "      <th>wrong</th>\n",
       "      <th>year</th>\n",
       "      <th>years</th>\n",
       "      <th>yelp</th>\n",
       "      <th>yes</th>\n",
       "      <th>yet</th>\n",
       "      <th>yummy</th>\n",
       "    </tr>\n",
       "    <tr>\n",
       "      <th>user_id</th>\n",
       "      <th></th>\n",
       "      <th></th>\n",
       "      <th></th>\n",
       "      <th></th>\n",
       "      <th></th>\n",
       "      <th></th>\n",
       "      <th></th>\n",
       "      <th></th>\n",
       "      <th></th>\n",
       "      <th></th>\n",
       "      <th></th>\n",
       "      <th></th>\n",
       "      <th></th>\n",
       "      <th></th>\n",
       "      <th></th>\n",
       "      <th></th>\n",
       "      <th></th>\n",
       "      <th></th>\n",
       "      <th></th>\n",
       "      <th></th>\n",
       "      <th></th>\n",
       "    </tr>\n",
       "  </thead>\n",
       "  <tbody>\n",
       "    <tr>\n",
       "      <th>--OuPo_FoEnz41-whCm1hQ</th>\n",
       "      <td>0.0</td>\n",
       "      <td>0.250599</td>\n",
       "      <td>0.0</td>\n",
       "      <td>0.0</td>\n",
       "      <td>0.0</td>\n",
       "      <td>0.0</td>\n",
       "      <td>0.0</td>\n",
       "      <td>0.000000</td>\n",
       "      <td>0.0</td>\n",
       "      <td>0.0</td>\n",
       "      <td>...</td>\n",
       "      <td>0.0</td>\n",
       "      <td>0.0</td>\n",
       "      <td>0.0</td>\n",
       "      <td>0.0</td>\n",
       "      <td>0.0</td>\n",
       "      <td>0.0</td>\n",
       "      <td>0.0</td>\n",
       "      <td>0.0</td>\n",
       "      <td>0.0</td>\n",
       "      <td>0.0</td>\n",
       "    </tr>\n",
       "    <tr>\n",
       "      <th>--PJ1FuEoTEo-3Cxf_izRg</th>\n",
       "      <td>0.0</td>\n",
       "      <td>0.000000</td>\n",
       "      <td>0.0</td>\n",
       "      <td>0.0</td>\n",
       "      <td>0.0</td>\n",
       "      <td>0.0</td>\n",
       "      <td>0.0</td>\n",
       "      <td>0.323181</td>\n",
       "      <td>0.0</td>\n",
       "      <td>0.0</td>\n",
       "      <td>...</td>\n",
       "      <td>0.0</td>\n",
       "      <td>0.0</td>\n",
       "      <td>0.0</td>\n",
       "      <td>0.0</td>\n",
       "      <td>0.0</td>\n",
       "      <td>0.0</td>\n",
       "      <td>0.0</td>\n",
       "      <td>0.0</td>\n",
       "      <td>0.0</td>\n",
       "      <td>0.0</td>\n",
       "    </tr>\n",
       "  </tbody>\n",
       "</table>\n",
       "<p>2 rows × 500 columns</p>\n",
       "</div>"
      ],
      "text/plain": [
       "                        able  absolutely  actually  add  almost  already  \\\n",
       "user_id                                                                    \n",
       "--OuPo_FoEnz41-whCm1hQ   0.0    0.250599       0.0  0.0     0.0      0.0   \n",
       "--PJ1FuEoTEo-3Cxf_izRg   0.0    0.000000       0.0  0.0     0.0      0.0   \n",
       "\n",
       "                        also  although  always  amaze  ...    worth  would  \\\n",
       "user_id                                                ...                   \n",
       "--OuPo_FoEnz41-whCm1hQ   0.0  0.000000     0.0    0.0  ...      0.0    0.0   \n",
       "--PJ1FuEoTEo-3Cxf_izRg   0.0  0.323181     0.0    0.0  ...      0.0    0.0   \n",
       "\n",
       "                        wow  wrong  year  years  yelp  yes  yet  yummy  \n",
       "user_id                                                                 \n",
       "--OuPo_FoEnz41-whCm1hQ  0.0    0.0   0.0    0.0   0.0  0.0  0.0    0.0  \n",
       "--PJ1FuEoTEo-3Cxf_izRg  0.0    0.0   0.0    0.0   0.0  0.0  0.0    0.0  \n",
       "\n",
       "[2 rows x 500 columns]"
      ]
     },
     "execution_count": 29,
     "metadata": {},
     "output_type": "execute_result"
    }
   ],
   "source": [
    "P.head(2)"
   ]
  },
  {
   "cell_type": "code",
   "execution_count": 30,
   "metadata": {},
   "outputs": [
    {
     "data": {
      "text/html": [
       "<div>\n",
       "<style scoped>\n",
       "    .dataframe tbody tr th:only-of-type {\n",
       "        vertical-align: middle;\n",
       "    }\n",
       "\n",
       "    .dataframe tbody tr th {\n",
       "        vertical-align: top;\n",
       "    }\n",
       "\n",
       "    .dataframe thead th {\n",
       "        text-align: right;\n",
       "    }\n",
       "</style>\n",
       "<table border=\"1\" class=\"dataframe\">\n",
       "  <thead>\n",
       "    <tr style=\"text-align: right;\">\n",
       "      <th></th>\n",
       "      <th>able</th>\n",
       "      <th>absolutely</th>\n",
       "      <th>actually</th>\n",
       "      <th>add</th>\n",
       "      <th>almost</th>\n",
       "      <th>already</th>\n",
       "      <th>also</th>\n",
       "      <th>although</th>\n",
       "      <th>always</th>\n",
       "      <th>amaze</th>\n",
       "      <th>...</th>\n",
       "      <th>worth</th>\n",
       "      <th>would</th>\n",
       "      <th>wow</th>\n",
       "      <th>wrong</th>\n",
       "      <th>year</th>\n",
       "      <th>years</th>\n",
       "      <th>yelp</th>\n",
       "      <th>yes</th>\n",
       "      <th>yet</th>\n",
       "      <th>yummy</th>\n",
       "    </tr>\n",
       "    <tr>\n",
       "      <th>business_id</th>\n",
       "      <th></th>\n",
       "      <th></th>\n",
       "      <th></th>\n",
       "      <th></th>\n",
       "      <th></th>\n",
       "      <th></th>\n",
       "      <th></th>\n",
       "      <th></th>\n",
       "      <th></th>\n",
       "      <th></th>\n",
       "      <th></th>\n",
       "      <th></th>\n",
       "      <th></th>\n",
       "      <th></th>\n",
       "      <th></th>\n",
       "      <th></th>\n",
       "      <th></th>\n",
       "      <th></th>\n",
       "      <th></th>\n",
       "      <th></th>\n",
       "      <th></th>\n",
       "    </tr>\n",
       "  </thead>\n",
       "  <tbody>\n",
       "    <tr>\n",
       "      <th>-ADtl9bLp8wNqYX1k3KuxA</th>\n",
       "      <td>0.003379</td>\n",
       "      <td>0.003296</td>\n",
       "      <td>0.008790</td>\n",
       "      <td>0.015536</td>\n",
       "      <td>0.003329</td>\n",
       "      <td>0.003396</td>\n",
       "      <td>0.018585</td>\n",
       "      <td>0.002310</td>\n",
       "      <td>0.018585</td>\n",
       "      <td>0.028425</td>\n",
       "      <td>...</td>\n",
       "      <td>0.015306</td>\n",
       "      <td>0.044823</td>\n",
       "      <td>0.002310</td>\n",
       "      <td>0.004461</td>\n",
       "      <td>0.003552</td>\n",
       "      <td>0.001172</td>\n",
       "      <td>0.001149</td>\n",
       "      <td>0.005717</td>\n",
       "      <td>0.002264</td>\n",
       "      <td>0.005832</td>\n",
       "    </tr>\n",
       "    <tr>\n",
       "      <th>-ed0Yc9on37RoIoG2ZgxBA</th>\n",
       "      <td>0.009579</td>\n",
       "      <td>0.020023</td>\n",
       "      <td>0.008009</td>\n",
       "      <td>0.020223</td>\n",
       "      <td>0.002696</td>\n",
       "      <td>0.006877</td>\n",
       "      <td>0.045160</td>\n",
       "      <td>0.008418</td>\n",
       "      <td>0.054457</td>\n",
       "      <td>0.055786</td>\n",
       "      <td>...</td>\n",
       "      <td>0.031878</td>\n",
       "      <td>0.092976</td>\n",
       "      <td>0.002806</td>\n",
       "      <td>0.012194</td>\n",
       "      <td>0.002877</td>\n",
       "      <td>0.009969</td>\n",
       "      <td>0.044672</td>\n",
       "      <td>0.001389</td>\n",
       "      <td>0.005501</td>\n",
       "      <td>0.005668</td>\n",
       "    </tr>\n",
       "  </tbody>\n",
       "</table>\n",
       "<p>2 rows × 500 columns</p>\n",
       "</div>"
      ],
      "text/plain": [
       "                            able  absolutely  actually       add    almost  \\\n",
       "business_id                                                                  \n",
       "-ADtl9bLp8wNqYX1k3KuxA  0.003379    0.003296  0.008790  0.015536  0.003329   \n",
       "-ed0Yc9on37RoIoG2ZgxBA  0.009579    0.020023  0.008009  0.020223  0.002696   \n",
       "\n",
       "                         already      also  although    always     amaze  \\\n",
       "business_id                                                                \n",
       "-ADtl9bLp8wNqYX1k3KuxA  0.003396  0.018585  0.002310  0.018585  0.028425   \n",
       "-ed0Yc9on37RoIoG2ZgxBA  0.006877  0.045160  0.008418  0.054457  0.055786   \n",
       "\n",
       "                          ...        worth     would       wow     wrong  \\\n",
       "business_id               ...                                              \n",
       "-ADtl9bLp8wNqYX1k3KuxA    ...     0.015306  0.044823  0.002310  0.004461   \n",
       "-ed0Yc9on37RoIoG2ZgxBA    ...     0.031878  0.092976  0.002806  0.012194   \n",
       "\n",
       "                            year     years      yelp       yes       yet  \\\n",
       "business_id                                                                \n",
       "-ADtl9bLp8wNqYX1k3KuxA  0.003552  0.001172  0.001149  0.005717  0.002264   \n",
       "-ed0Yc9on37RoIoG2ZgxBA  0.002877  0.009969  0.044672  0.001389  0.005501   \n",
       "\n",
       "                           yummy  \n",
       "business_id                       \n",
       "-ADtl9bLp8wNqYX1k3KuxA  0.005832  \n",
       "-ed0Yc9on37RoIoG2ZgxBA  0.005668  \n",
       "\n",
       "[2 rows x 500 columns]"
      ]
     },
     "execution_count": 30,
     "metadata": {},
     "output_type": "execute_result"
    }
   ],
   "source": [
    "Q.head(2)"
   ]
  },
  {
   "cell_type": "markdown",
   "metadata": {},
   "source": [
    "## Create user-restaurant average score matrix\n",
    "calculate average rating by user and restaurant, into a sparse matrix (208777 users, 4761 restaurants)"
   ]
  },
  {
   "cell_type": "code",
   "execution_count": 31,
   "metadata": {},
   "outputs": [
    {
     "data": {
      "text/plain": [
       "(30000, 200)"
      ]
     },
     "execution_count": 31,
     "metadata": {},
     "output_type": "execute_result"
    }
   ],
   "source": [
    "user_business_rating_matrix = pd.pivot_table(df_mostreviewed200_user30k, values='stars', index=['user_id'], columns=['business_id'])\n",
    "user_business_rating_matrix.shape"
   ]
  },
  {
   "cell_type": "code",
   "execution_count": 32,
   "metadata": {},
   "outputs": [
    {
     "data": {
      "text/html": [
       "<div>\n",
       "<style scoped>\n",
       "    .dataframe tbody tr th:only-of-type {\n",
       "        vertical-align: middle;\n",
       "    }\n",
       "\n",
       "    .dataframe tbody tr th {\n",
       "        vertical-align: top;\n",
       "    }\n",
       "\n",
       "    .dataframe thead th {\n",
       "        text-align: right;\n",
       "    }\n",
       "</style>\n",
       "<table border=\"1\" class=\"dataframe\">\n",
       "  <thead>\n",
       "    <tr style=\"text-align: right;\">\n",
       "      <th>business_id</th>\n",
       "      <th>-ADtl9bLp8wNqYX1k3KuxA</th>\n",
       "      <th>-ed0Yc9on37RoIoG2ZgxBA</th>\n",
       "      <th>-oUM2uISux96lMGeawHIOA</th>\n",
       "      <th>0EgYXYjt2XJL4hlsKnzrcw</th>\n",
       "      <th>0_aeYE2-VbsZts_UpILgDw</th>\n",
       "      <th>0d0i0FaJq1GIeW1rS2D-5w</th>\n",
       "      <th>2iTsRqUsPGRH1li1WVRvKQ</th>\n",
       "      <th>2sx52lDoiEtef7xgPCaoBw</th>\n",
       "      <th>2weQS-RnoOBhb1KsHKyoSQ</th>\n",
       "      <th>3BCsAgo_1i4xMuTyLKMLRQ</th>\n",
       "      <th>...</th>\n",
       "      <th>xVEtGucSRLk5pxxN0t4i6g</th>\n",
       "      <th>xfWdUmrz2ha3rcigyITV0g</th>\n",
       "      <th>xtYiHTmunjfCN2sUaQxBjA</th>\n",
       "      <th>y4ETe3DkcIjjr_eyeg5U5g</th>\n",
       "      <th>yfxDa8RFOvJPQh0rNtakHA</th>\n",
       "      <th>ygaOvp0PLBYaYeN9cZAlGg</th>\n",
       "      <th>ysv6yhVYOoH9Pf7PlMyD0g</th>\n",
       "      <th>z5J9U_HU4iVLwaCH6rdC2w</th>\n",
       "      <th>zRqi6L1u-YmmVAHjeUbGMQ</th>\n",
       "      <th>zaxK3ea92mvEBRy-jttngg</th>\n",
       "    </tr>\n",
       "    <tr>\n",
       "      <th>user_id</th>\n",
       "      <th></th>\n",
       "      <th></th>\n",
       "      <th></th>\n",
       "      <th></th>\n",
       "      <th></th>\n",
       "      <th></th>\n",
       "      <th></th>\n",
       "      <th></th>\n",
       "      <th></th>\n",
       "      <th></th>\n",
       "      <th></th>\n",
       "      <th></th>\n",
       "      <th></th>\n",
       "      <th></th>\n",
       "      <th></th>\n",
       "      <th></th>\n",
       "      <th></th>\n",
       "      <th></th>\n",
       "      <th></th>\n",
       "      <th></th>\n",
       "      <th></th>\n",
       "    </tr>\n",
       "  </thead>\n",
       "  <tbody>\n",
       "    <tr>\n",
       "      <th>--OuPo_FoEnz41-whCm1hQ</th>\n",
       "      <td>NaN</td>\n",
       "      <td>NaN</td>\n",
       "      <td>NaN</td>\n",
       "      <td>NaN</td>\n",
       "      <td>NaN</td>\n",
       "      <td>NaN</td>\n",
       "      <td>NaN</td>\n",
       "      <td>NaN</td>\n",
       "      <td>NaN</td>\n",
       "      <td>NaN</td>\n",
       "      <td>...</td>\n",
       "      <td>5.0</td>\n",
       "      <td>NaN</td>\n",
       "      <td>NaN</td>\n",
       "      <td>NaN</td>\n",
       "      <td>NaN</td>\n",
       "      <td>NaN</td>\n",
       "      <td>NaN</td>\n",
       "      <td>NaN</td>\n",
       "      <td>NaN</td>\n",
       "      <td>NaN</td>\n",
       "    </tr>\n",
       "    <tr>\n",
       "      <th>--PJ1FuEoTEo-3Cxf_izRg</th>\n",
       "      <td>NaN</td>\n",
       "      <td>NaN</td>\n",
       "      <td>NaN</td>\n",
       "      <td>NaN</td>\n",
       "      <td>NaN</td>\n",
       "      <td>NaN</td>\n",
       "      <td>NaN</td>\n",
       "      <td>NaN</td>\n",
       "      <td>2.0</td>\n",
       "      <td>NaN</td>\n",
       "      <td>...</td>\n",
       "      <td>NaN</td>\n",
       "      <td>NaN</td>\n",
       "      <td>NaN</td>\n",
       "      <td>NaN</td>\n",
       "      <td>NaN</td>\n",
       "      <td>NaN</td>\n",
       "      <td>NaN</td>\n",
       "      <td>NaN</td>\n",
       "      <td>NaN</td>\n",
       "      <td>NaN</td>\n",
       "    </tr>\n",
       "  </tbody>\n",
       "</table>\n",
       "<p>2 rows × 200 columns</p>\n",
       "</div>"
      ],
      "text/plain": [
       "business_id             -ADtl9bLp8wNqYX1k3KuxA  -ed0Yc9on37RoIoG2ZgxBA  \\\n",
       "user_id                                                                  \n",
       "--OuPo_FoEnz41-whCm1hQ                     NaN                     NaN   \n",
       "--PJ1FuEoTEo-3Cxf_izRg                     NaN                     NaN   \n",
       "\n",
       "business_id             -oUM2uISux96lMGeawHIOA  0EgYXYjt2XJL4hlsKnzrcw  \\\n",
       "user_id                                                                  \n",
       "--OuPo_FoEnz41-whCm1hQ                     NaN                     NaN   \n",
       "--PJ1FuEoTEo-3Cxf_izRg                     NaN                     NaN   \n",
       "\n",
       "business_id             0_aeYE2-VbsZts_UpILgDw  0d0i0FaJq1GIeW1rS2D-5w  \\\n",
       "user_id                                                                  \n",
       "--OuPo_FoEnz41-whCm1hQ                     NaN                     NaN   \n",
       "--PJ1FuEoTEo-3Cxf_izRg                     NaN                     NaN   \n",
       "\n",
       "business_id             2iTsRqUsPGRH1li1WVRvKQ  2sx52lDoiEtef7xgPCaoBw  \\\n",
       "user_id                                                                  \n",
       "--OuPo_FoEnz41-whCm1hQ                     NaN                     NaN   \n",
       "--PJ1FuEoTEo-3Cxf_izRg                     NaN                     NaN   \n",
       "\n",
       "business_id             2weQS-RnoOBhb1KsHKyoSQ  3BCsAgo_1i4xMuTyLKMLRQ  \\\n",
       "user_id                                                                  \n",
       "--OuPo_FoEnz41-whCm1hQ                     NaN                     NaN   \n",
       "--PJ1FuEoTEo-3Cxf_izRg                     2.0                     NaN   \n",
       "\n",
       "business_id                      ...            xVEtGucSRLk5pxxN0t4i6g  \\\n",
       "user_id                          ...                                     \n",
       "--OuPo_FoEnz41-whCm1hQ           ...                               5.0   \n",
       "--PJ1FuEoTEo-3Cxf_izRg           ...                               NaN   \n",
       "\n",
       "business_id             xfWdUmrz2ha3rcigyITV0g  xtYiHTmunjfCN2sUaQxBjA  \\\n",
       "user_id                                                                  \n",
       "--OuPo_FoEnz41-whCm1hQ                     NaN                     NaN   \n",
       "--PJ1FuEoTEo-3Cxf_izRg                     NaN                     NaN   \n",
       "\n",
       "business_id             y4ETe3DkcIjjr_eyeg5U5g  yfxDa8RFOvJPQh0rNtakHA  \\\n",
       "user_id                                                                  \n",
       "--OuPo_FoEnz41-whCm1hQ                     NaN                     NaN   \n",
       "--PJ1FuEoTEo-3Cxf_izRg                     NaN                     NaN   \n",
       "\n",
       "business_id             ygaOvp0PLBYaYeN9cZAlGg  ysv6yhVYOoH9Pf7PlMyD0g  \\\n",
       "user_id                                                                  \n",
       "--OuPo_FoEnz41-whCm1hQ                     NaN                     NaN   \n",
       "--PJ1FuEoTEo-3Cxf_izRg                     NaN                     NaN   \n",
       "\n",
       "business_id             z5J9U_HU4iVLwaCH6rdC2w  zRqi6L1u-YmmVAHjeUbGMQ  \\\n",
       "user_id                                                                  \n",
       "--OuPo_FoEnz41-whCm1hQ                     NaN                     NaN   \n",
       "--PJ1FuEoTEo-3Cxf_izRg                     NaN                     NaN   \n",
       "\n",
       "business_id             zaxK3ea92mvEBRy-jttngg  \n",
       "user_id                                         \n",
       "--OuPo_FoEnz41-whCm1hQ                     NaN  \n",
       "--PJ1FuEoTEo-3Cxf_izRg                     NaN  \n",
       "\n",
       "[2 rows x 200 columns]"
      ]
     },
     "execution_count": 32,
     "metadata": {},
     "output_type": "execute_result"
    }
   ],
   "source": [
    "user_business_rating_matrix.head(2)"
   ]
  },
  {
   "cell_type": "markdown",
   "metadata": {},
   "source": [
    "## Save the main DF to local"
   ]
  },
  {
   "cell_type": "code",
   "execution_count": 33,
   "metadata": {},
   "outputs": [],
   "source": [
    "user_business_rating_matrix.to_pickle('user_business_rating_matrix.pkl')\n",
    "P.to_pickle('P.pkl')\n",
    "Q.to_pickle('Q.pkl')"
   ]
  },
  {
   "cell_type": "code",
   "execution_count": 1,
   "metadata": {},
   "outputs": [],
   "source": [
    "import pandas as pd\n",
    "user_business_rating_matrix = pd.read_pickle('user_business_rating_matrix.pkl')\n",
    "P = pd.read_pickle('P.pkl')\n",
    "Q = pd.read_pickle('Q.pkl')"
   ]
  },
  {
   "cell_type": "markdown",
   "metadata": {},
   "source": [
    "## Matrix factorization on Ratings and Review Texts Data\n",
    "* decompose Rating matrix R into User_keyword matrix P and business_keyword matrix Q, i.e. R = P*Q, using matrix factorization and Stochastic Gradient Descent"
   ]
  },
  {
   "cell_type": "code",
   "execution_count": 2,
   "metadata": {},
   "outputs": [],
   "source": [
    "# vectorize\n",
    "import numpy as np\n",
    " \n",
    "def func_mf(R, P, Q, K, steps, alpha=0.0002, beta=0.02):\n",
    "\n",
    "    Q = Q.T\n",
    "    \n",
    "    E_step = np.zeros(steps)\n",
    "    \n",
    "    nrow_R = R.shape[0]\n",
    "    ncol_R = R.shape[1]\n",
    "    \n",
    "    for step in range(steps):\n",
    "        #print('step', step)\n",
    "        for i in range(nrow_R):\n",
    "            #print('1st', i)\n",
    "            for j in range(ncol_R):\n",
    "                #print('2nd', j)\n",
    "                if R.iloc[i,j] > 0:\n",
    "                    eij = R.iloc[i,j] - np.dot(P.iloc[i,:],Q.iloc[:,j])\n",
    "                    #for k in range(K):\n",
    "                    P.iloc[i,:] = P.iloc[i,:] + alpha * (2 * eij * Q.iloc[:,j] - beta * P.iloc[i,:])\n",
    "                    Q.iloc[:,j] = Q.iloc[:,j] + alpha * (2 * eij * P.iloc[i,:] - beta * Q.iloc[:,j])\n",
    "        \n",
    "        #eR = np.dot(P,Q)\n",
    "\n",
    "        e = 0\n",
    "\n",
    "        for i in range(nrow_R):\n",
    "            #print('3rd', i)\n",
    "            for j in range(ncol_R):\n",
    "                #print('4th', j)\n",
    "                if R.iloc[i,j] > 0:\n",
    "                    e = e + pow(R.iloc[i,j] - np.dot(P.iloc[i,:],Q.iloc[:,j]), 2) + \\\n",
    "                    (beta/2) * (pow(P.iloc[i,:],2).sum() + (pow(Q.iloc[:,j],2)).sum())\n",
    "                    \n",
    "                    #lamda*(pow(np.linalg.norm(P.loc[i]),2)+pow(np.linalg.norm(Q.loc[j]),2))\n",
    "                    \n",
    "                    #for k in range(K):\n",
    "                    #e = e + (beta/2) * (pow(P.iloc[i,:],2).sum() + (pow(Q.iloc[:,j],2)).sum())\n",
    "        \n",
    "        print('step=',step, ', e=', e)   #, 'next_step_time=', datetime.datetime.now())\n",
    "        \n",
    "        E_step[step] = e\n",
    "\n",
    "        if e < 0.1:\n",
    "            print('break time=', datetime.datetime.now(), 'step=', step, 'e=',e)\n",
    "            break\n",
    "    return P, Q.T, E_step"
   ]
  },
  {
   "cell_type": "code",
   "execution_count": 3,
   "metadata": {
    "scrolled": true
   },
   "outputs": [
    {
     "name": "stdout",
     "output_type": "stream",
     "text": [
      "2019-07-27 16:43:43.451961\n",
      "step= 0 , e= 632034.3153125633\n",
      "step= 1 , e= 610629.8403882812\n",
      "step= 2 , e= 589693.7103254948\n",
      "step= 3 , e= 569182.5366907803\n",
      "step= 4 , e= 549075.9651110553\n",
      "step= 5 , e= 529371.7496104998\n",
      "step= 6 , e= 510081.2226208578\n",
      "step= 7 , e= 491225.0955469545\n",
      "step= 8 , e= 472829.61251812597\n",
      "step= 9 , e= 454923.1314046991\n",
      "step= 10 , e= 437533.22378623957\n",
      "step= 11 , e= 420684.37365509267\n",
      "step= 12 , e= 404396.320528493\n",
      "step= 13 , e= 388683.04611503024\n",
      "step= 14 , e= 373552.3553803066\n",
      "step= 15 , e= 359005.96220024547\n",
      "step= 16 , e= 345039.9632134251\n",
      "step= 17 , e= 331645.57356441097\n",
      "step= 18 , e= 318810.0038743499\n",
      "step= 19 , e= 306517.37523043633\n",
      "step= 20 , e= 294749.5932547539\n",
      "step= 21 , e= 283487.1284789457\n",
      "step= 22 , e= 272709.6744145566\n",
      "step= 23 , e= 262396.674418216\n",
      "step= 24 , e= 252527.7226788276\n",
      "step= 25 , e= 243082.85350803117\n",
      "step= 26 , e= 234042.737416722\n",
      "step= 27 , e= 225388.8033580244\n",
      "step= 28 , e= 217103.30518376594\n",
      "step= 29 , e= 209169.34780990184\n",
      "step= 30 , e= 201570.8855854296\n",
      "step= 31 , e= 194292.70242258834\n",
      "step= 32 , e= 187320.38066749947\n",
      "step= 33 , e= 180640.26359527023\n",
      "step= 34 , e= 174239.41481438238\n",
      "step= 35 , e= 168105.57670888465\n",
      "step= 36 , e= 162227.1292507885\n",
      "step= 37 , e= 156593.04999086936\n",
      "step= 38 , e= 151192.87570414733\n",
      "step= 39 , e= 146016.66596246875\n",
      "step= 40 , e= 141054.96878257606\n",
      "step= 41 , e= 136298.7884213267\n",
      "step= 42 , e= 131739.55533903287\n",
      "step= 43 , e= 127369.09831526394\n",
      "step= 44 , e= 123179.61867258624\n",
      "step= 45 , e= 119163.66653971735\n",
      "step= 46 , e= 115314.11906570365\n",
      "step= 47 , e= 111624.16048077655\n",
      "step= 48 , e= 108087.26388772928\n",
      "step= 49 , e= 104697.17465977493\n",
      "step= 50 , e= 101447.89531701627\n",
      "step= 51 , e= 98333.67175296582\n",
      "step= 52 , e= 95348.9806851221\n",
      "step= 53 , e= 92488.51820812185\n",
      "step= 54 , e= 89747.18933452215\n",
      "step= 55 , e= 87120.09841573112\n",
      "step= 56 , e= 84602.54034398093\n",
      "step= 57 , e= 82189.99244473763\n",
      "step= 58 , e= 79878.10697767208\n",
      "step= 59 , e= 77662.70417254488\n",
      "step= 60 , e= 75539.76573461408\n",
      "step= 61 , e= 73505.42876151737\n",
      "step= 62 , e= 71555.98002075856\n",
      "step= 63 , e= 69687.85054325458\n",
      "step= 64 , e= 67897.61049436206\n",
      "step= 65 , e= 66181.96428901517\n",
      "step= 66 , e= 64537.74592240755\n",
      "step= 67 , e= 62961.91449181599\n",
      "step= 68 , e= 61451.54988896653\n",
      "step= 69 , e= 60003.84864552932\n",
      "step= 70 , e= 58616.119917268516\n",
      "step= 71 , e= 57285.781594793305\n",
      "step= 72 , e= 56010.35653101102\n",
      "step= 73 , e= 54787.468877200765\n",
      "step= 74 , e= 53614.8405211435\n",
      "step= 75 , e= 52490.28762207383\n",
      "step= 76 , e= 51411.71723824006\n",
      "step= 77 , e= 50377.12404379316\n",
      "step= 78 , e= 49384.58713238239\n",
      "step= 79 , e= 48432.26690544006\n",
      "step= 80 , e= 47518.40204357045\n",
      "step= 81 , e= 46641.30655976971\n",
      "step= 82 , e= 45799.36693348633\n",
      "step= 83 , e= 44991.0393246776\n",
      "step= 84 , e= 44214.84686712235\n",
      "step= 85 , e= 43469.37704033892\n",
      "step= 86 , e= 42753.27911943046\n",
      "step= 87 , e= 42065.261702221316\n",
      "step= 88 , e= 41404.09031295044\n",
      "step= 89 , e= 40768.58508177919\n",
      "step= 90 , e= 40157.61849929038\n",
      "step= 91 , e= 39570.11324505408\n",
      "step= 92 , e= 39005.04008929805\n",
      "step= 93 , e= 38461.41586659753\n",
      "step= 94 , e= 37938.30152044128\n",
      "step= 95 , e= 37434.800217457705\n",
      "step= 96 , e= 36950.05552997663\n",
      "step= 97 , e= 36483.24968557746\n",
      "step= 98 , e= 36033.60188218085\n",
      "step= 99 , e= 35600.36666719943\n",
      "step= 100 , e= 35182.83237921738\n",
      "step= 101 , e= 34780.31965060446\n",
      "step= 102 , e= 34392.179969483695\n",
      "step= 103 , e= 34017.79429937956\n",
      "step= 104 , e= 33656.571754932156\n",
      "step= 105 , e= 33307.948331967564\n",
      "step= 106 , e= 32971.38569028564\n",
      "step= 107 , e= 32646.369987455517\n",
      "step= 108 , e= 32332.410761978277\n",
      "step= 109 , e= 32029.039864136557\n",
      "step= 110 , e= 31735.8104328872\n",
      "step= 111 , e= 31452.29591717449\n",
      "step= 112 , e= 31178.089140053326\n",
      "step= 113 , e= 30912.801404042642\n",
      "step= 114 , e= 30656.061636162634\n",
      "step= 115 , e= 30407.515571127075\n",
      "step= 116 , e= 30166.824971206082\n",
      "step= 117 , e= 29933.666881321642\n",
      "step= 118 , e= 29707.732917932713\n",
      "step= 119 , e= 29488.72859035886\n",
      "step= 120 , e= 29276.3726531925\n",
      "step= 121 , e= 29070.396488498413\n",
      "step= 122 , e= 28870.54351654824\n",
      "step= 123 , e= 28676.568633870316\n",
      "step= 124 , e= 28488.2376774276\n",
      "step= 125 , e= 28305.326913801735\n",
      "step= 126 , e= 28127.622552266945\n",
      "step= 127 , e= 27954.92028071192\n",
      "step= 128 , e= 27787.02482337874\n",
      "step= 129 , e= 27623.749519437522\n",
      "step= 130 , e= 27464.91592146671\n",
      "step= 131 , e= 27310.353412913966\n",
      "step= 132 , e= 27159.89884368353\n",
      "step= 133 , e= 27013.39618300608\n",
      "step= 134 , e= 26870.696188794303\n",
      "step= 135 , e= 26731.65609271424\n",
      "step= 136 , e= 26596.13930024255\n",
      "step= 137 , e= 26464.015105004983\n",
      "step= 138 , e= 26335.15841671908\n",
      "step= 139 , e= 26209.449502103602\n",
      "step= 140 , e= 26086.77373813975\n",
      "step= 141 , e= 25967.021377091132\n",
      "step= 142 , e= 25850.087322727763\n",
      "step= 143 , e= 25735.870917216856\n",
      "step= 144 , e= 25624.275738168846\n",
      "step= 145 , e= 25515.209405348734\n",
      "step= 146 , e= 25408.583396592832\n",
      "step= 147 , e= 25304.312872484155\n",
      "step= 148 , e= 25202.3165093657\n",
      "step= 149 , e= 25102.516340283208\n",
      "step= 150 , e= 25004.837603489457\n",
      "step= 151 , e= 24909.208598120007\n",
      "step= 152 , e= 24815.560546715507\n",
      "step= 153 , e= 24723.827464245514\n",
      "step= 154 , e= 24633.94603332519\n",
      "step= 155 , e= 24545.85548532017\n",
      "step= 156 , e= 24459.497487055454\n",
      "step= 157 , e= 24374.81603285786\n",
      "step= 158 , e= 24291.75734167172\n",
      "step= 159 , e= 24210.269758998977\n",
      "step= 160 , e= 24130.303663439092\n",
      "step= 161 , e= 24051.81137759106\n",
      "step= 162 , e= 23974.74708312497\n",
      "step= 163 , e= 23899.0667397952\n",
      "step= 164 , e= 23824.728008236863\n",
      "step= 165 , e= 23751.690176333865\n",
      "step= 166 , e= 23679.91408900119\n",
      "step= 167 , e= 23609.36208121283\n",
      "step= 168 , e= 23539.99791411946\n",
      "step= 169 , e= 23471.786714104728\n",
      "step= 170 , e= 23404.694914641226\n",
      "step= 171 , e= 23338.690200811812\n",
      "step= 172 , e= 23273.741456363252\n",
      "step= 173 , e= 23209.818713179713\n",
      "step= 174 , e= 23146.8931030531\n",
      "step= 175 , e= 23084.936811638818\n",
      "step= 176 , e= 23023.923034502193\n",
      "step= 177 , e= 22963.825935146833\n",
      "step= 178 , e= 22904.62060493155\n",
      "step= 179 , e= 22846.283024796743\n",
      "step= 180 , e= 22788.79002869323\n",
      "step= 181 , e= 22732.11926865577\n",
      "step= 182 , e= 22676.249181429674\n",
      "step= 183 , e= 22621.15895658116\n",
      "step= 184 , e= 22566.82850602285\n",
      "step= 185 , e= 22513.23843488291\n",
      "step= 186 , e= 22460.37001366149\n",
      "step= 187 , e= 22408.205151612547\n",
      "step= 188 , e= 22356.7263712855\n",
      "step= 189 , e= 22305.91678418944\n",
      "step= 190 , e= 22255.76006750858\n",
      "step= 191 , e= 22206.240441835293\n",
      "step= 192 , e= 22157.342649864033\n",
      "step= 193 , e= 22109.051936008782\n",
      "step= 194 , e= 22061.354026895453\n",
      "step= 195 , e= 22014.235112690953\n",
      "step= 196 , e= 21967.681829235822\n",
      "step= 197 , e= 21921.681240933547\n",
      "step= 198 , e= 21876.220824369273\n",
      "step= 199 , e= 21831.288452625715\n",
      "step= 200 , e= 21786.872380257162\n",
      "step= 201 , e= 21742.961228899738\n",
      "step= 202 , e= 21699.54397348316\n",
      "step= 203 , e= 21656.609929023816\n",
      "step= 204 , e= 21614.148737960793\n",
      "step= 205 , e= 21572.150358028524\n",
      "step= 206 , e= 21530.60505062172\n",
      "step= 207 , e= 21489.503369648988\n",
      "step= 208 , e= 21448.836150839288\n",
      "step= 209 , e= 21408.5945014899\n",
      "step= 210 , e= 21368.769790632217\n",
      "step= 211 , e= 21329.353639600053\n",
      "step= 212 , e= 21290.337912977713\n",
      "step= 213 , e= 21251.714709915123\n",
      "step= 214 , e= 21213.47635579582\n",
      "step= 215 , e= 21175.61539423602\n",
      "step= 216 , e= 21138.12457940378\n",
      "step= 217 , e= 21100.996868648403\n",
      "step= 218 , e= 21064.225415418667\n",
      "step= 219 , e= 21027.803562462985\n",
      "step= 220 , e= 20991.724835298734\n",
      "step= 221 , e= 20955.98293593427\n",
      "step= 222 , e= 20920.571736843947\n",
      "step= 223 , e= 20885.48527516997\n",
      "step= 224 , e= 20850.717747156996\n",
      "step= 225 , e= 20816.26350279694\n",
      "step= 226 , e= 20782.117040681565\n",
      "step= 227 , e= 20748.273003056584\n",
      "step= 228 , e= 20714.72617105897\n",
      "step= 229 , e= 20681.471460140274\n",
      "step= 230 , e= 20648.503915664118\n",
      "step= 231 , e= 20615.81870866768\n",
      "step= 232 , e= 20583.411131782686\n",
      "step= 233 , e= 20551.276595315387\n",
      "step= 234 , e= 20519.410623464115\n",
      "step= 235 , e= 20487.808850685484\n",
      "step= 236 , e= 20456.46701819184\n",
      "step= 237 , e= 20425.38097057989\n",
      "step= 238 , e= 20394.54665258063\n",
      "step= 239 , e= 20363.960105931346\n",
      "step= 240 , e= 20333.617466361713\n",
      "step= 241 , e= 20303.514960687717\n",
      "step= 242 , e= 20273.648904011803\n",
      "step= 243 , e= 20244.0156970256\n",
      "step= 244 , e= 20214.61182340545\n",
      "step= 245 , e= 20185.433847307486\n",
      "step= 246 , e= 20156.478410944666\n",
      "step= 247 , e= 20127.742232255667\n"
     ]
    },
    {
     "name": "stdout",
     "output_type": "stream",
     "text": [
      "step= 248 , e= 20099.22210265369\n",
      "step= 249 , e= 20070.914884855083\n",
      "step= 250 , e= 20042.817510781777\n",
      "step= 251 , e= 20014.92697954251\n",
      "step= 252 , e= 19987.240355477268\n",
      "step= 253 , e= 19959.75476627491\n",
      "step= 254 , e= 19932.467401152935\n",
      "step= 255 , e= 19905.375509099547\n",
      "step= 256 , e= 19878.476397177885\n",
      "step= 257 , e= 19851.76742888668\n",
      "step= 258 , e= 19825.24602257431\n",
      "step= 259 , e= 19798.909649911067\n",
      "step= 260 , e= 19772.755834407686\n",
      "step= 261 , e= 19746.782149988427\n",
      "step= 262 , e= 19720.986219605173\n",
      "step= 263 , e= 19695.365713905885\n",
      "step= 264 , e= 19669.918349937594\n",
      "step= 265 , e= 19644.64188990112\n",
      "step= 266 , e= 19619.53413993891\n",
      "step= 267 , e= 19594.592948966507\n",
      "step= 268 , e= 19569.816207540745\n",
      "step= 269 , e= 19545.201846766387\n",
      "step= 270 , e= 19520.747837233193\n",
      "step= 271 , e= 19496.452187991283\n",
      "step= 272 , e= 19472.312945557365\n",
      "step= 273 , e= 19448.328192953228\n",
      "step= 274 , e= 19424.4960487735\n",
      "step= 275 , e= 19400.814666282255\n",
      "step= 276 , e= 19377.282232542137\n",
      "step= 277 , e= 19353.896967562116\n",
      "step= 278 , e= 19330.657123479956\n",
      "step= 279 , e= 19307.560983767635\n",
      "step= 280 , e= 19284.606862455767\n",
      "step= 281 , e= 19261.793103390304\n",
      "step= 282 , e= 19239.118079503598\n",
      "step= 283 , e= 19216.58019211562\n",
      "step= 284 , e= 19194.17787024805\n",
      "step= 285 , e= 19171.90956996512\n",
      "step= 286 , e= 19149.773773729918\n",
      "step= 287 , e= 19127.76898978339\n",
      "step= 288 , e= 19105.893751539137\n",
      "step= 289 , e= 19084.146616995786\n",
      "step= 290 , e= 19062.526168169337\n",
      "step= 291 , e= 19041.031010538183\n",
      "step= 292 , e= 19019.659772506944\n",
      "step= 293 , e= 18998.41110488553\n",
      "step= 294 , e= 18977.28368038119\n",
      "step= 295 , e= 18956.27619310789\n",
      "step= 296 , e= 18935.38735810757\n",
      "step= 297 , e= 18914.61591088375\n",
      "step= 298 , e= 18893.96060695292\n",
      "step= 299 , e= 18873.42022140284\n",
      "step= 300 , e= 18852.99354846812\n",
      "step= 301 , e= 18832.679401112655\n",
      "step= 302 , e= 18812.47661062869\n",
      "step= 303 , e= 18792.38402624254\n",
      "step= 304 , e= 18772.400514733406\n",
      "step= 305 , e= 18752.52496006187\n",
      "step= 306 , e= 18732.75626300863\n",
      "step= 307 , e= 18713.093340823034\n",
      "step= 308 , e= 18693.53512687982\n",
      "step= 309 , e= 18674.080570348295\n",
      "step= 310 , e= 18654.72863586396\n",
      "step= 311 , e= 18635.478303217413\n",
      "step= 312 , e= 18616.328567043107\n",
      "step= 313 , e= 18597.27843652176\n",
      "step= 314 , e= 18578.32693508766\n",
      "step= 315 , e= 18559.473100145668\n",
      "step= 316 , e= 18540.715982793103\n",
      "step= 317 , e= 18522.054647549696\n",
      "step= 318 , e= 18503.48817209699\n",
      "step= 319 , e= 18485.015647018303\n",
      "step= 320 , e= 18466.63617555194\n",
      "step= 321 , e= 18448.348873346265\n",
      "step= 322 , e= 18430.152868222158\n",
      "step= 323 , e= 18412.04729994176\n",
      "step= 324 , e= 18394.03131998265\n",
      "step= 325 , e= 18376.104091315607\n",
      "step= 326 , e= 18358.264788193148\n",
      "step= 327 , e= 18340.512595936016\n",
      "step= 328 , e= 18322.84671073127\n",
      "step= 329 , e= 18305.26633943056\n",
      "step= 330 , e= 18287.770699356483\n",
      "step= 331 , e= 18270.359018110415\n",
      "step= 332 , e= 18253.03053338898\n",
      "step= 333 , e= 18235.784492800805\n",
      "step= 334 , e= 18218.620153689957\n",
      "step= 335 , e= 18201.536782962987\n",
      "step= 336 , e= 18184.533656919117\n",
      "step= 337 , e= 18167.610061085248\n",
      "step= 338 , e= 18150.76529005573\n",
      "step= 339 , e= 18133.998647333672\n",
      "step= 340 , e= 18117.309445175313\n",
      "step= 341 , e= 18100.69700444338\n",
      "step= 342 , e= 18084.16065445579\n",
      "step= 343 , e= 18067.699732843408\n",
      "step= 344 , e= 18051.313585410164\n",
      "step= 345 , e= 18035.00156599434\n",
      "step= 346 , e= 18018.76303633345\n",
      "step= 347 , e= 18002.597365934747\n",
      "step= 348 , e= 17986.503931943582\n",
      "step= 349 , e= 17970.482119020173\n",
      "step= 350 , e= 17954.53131921408\n",
      "step= 351 , e= 17938.650931846187\n",
      "step= 352 , e= 17922.840363388485\n",
      "step= 353 , e= 17907.099027348795\n",
      "step= 354 , e= 17891.426344159914\n",
      "step= 355 , e= 17875.821741065687\n",
      "step= 356 , e= 17860.284652015318\n",
      "step= 357 , e= 17844.814517556537\n",
      "step= 358 , e= 17829.41078473104\n",
      "step= 359 , e= 17814.07290697333\n",
      "step= 360 , e= 17798.800344011823\n",
      "step= 361 , e= 17783.59256176987\n",
      "step= 362 , e= 17768.449032270757\n",
      "step= 363 , e= 17753.369233545043\n",
      "step= 364 , e= 17738.352649537093\n",
      "step= 365 , e= 17723.398770015665\n",
      "step= 366 , e= 17708.5070904874\n",
      "step= 367 , e= 17693.677112107573\n",
      "step= 368 , e= 17678.908341598628\n",
      "step= 369 , e= 17664.200291164034\n",
      "step= 370 , e= 17649.55247840974\n",
      "step= 371 , e= 17634.96442626265\n",
      "step= 372 , e= 17620.435662891312\n",
      "step= 373 , e= 17605.965721634326\n",
      "step= 374 , e= 17591.55414091814\n",
      "step= 375 , e= 17577.20046418795\n",
      "step= 376 , e= 17562.904239833813\n",
      "step= 377 , e= 17548.66502112019\n",
      "step= 378 , e= 17534.482366115273\n",
      "step= 379 , e= 17520.355837623287\n",
      "step= 380 , e= 17506.28500311759\n",
      "step= 381 , e= 17492.269434674054\n",
      "step= 382 , e= 17478.30870890749\n",
      "step= 383 , e= 17464.402406906367\n",
      "step= 384 , e= 17450.55011417318\n",
      "step= 385 , e= 17436.75142056137\n",
      "step= 386 , e= 17423.00592021544\n",
      "step= 387 , e= 17409.31321151213\n",
      "step= 388 , e= 17395.67289700384\n",
      "step= 389 , e= 17382.084583360083\n",
      "step= 390 , e= 17368.54788131162\n",
      "step= 391 , e= 17355.062405597233\n",
      "step= 392 , e= 17341.627774908342\n",
      "step= 393 , e= 17328.24361183656\n",
      "step= 394 , e= 17314.909542821875\n",
      "step= 395 , e= 17301.62519810112\n",
      "step= 396 , e= 17288.39021165862\n",
      "step= 397 , e= 17275.204221175805\n",
      "step= 398 , e= 17262.066867982918\n",
      "step= 399 , e= 17248.97779701175\n",
      "2019-07-28 13:22:47.130443\n"
     ]
    }
   ],
   "source": [
    "import datetime\n",
    "print(datetime.datetime.now())\n",
    "P_mf, Q_mf, E_step = func_mf(R=user_business_rating_matrix, P=P, Q=Q, K=500, steps=400, alpha=0.0002, beta=0.02)\n",
    "print(datetime.datetime.now())"
   ]
  },
  {
   "cell_type": "markdown",
   "metadata": {},
   "source": [
    "* take a long time to run. An interation is about 3 minutes."
   ]
  },
  {
   "cell_type": "markdown",
   "metadata": {},
   "source": [
    "## Save the converged matries to local"
   ]
  },
  {
   "cell_type": "code",
   "execution_count": null,
   "metadata": {},
   "outputs": [],
   "source": [
    "P_mf.to_pickle('P_mf.pkl')\n",
    "Q_mf.to_pickle('Q_mf.pkl')\n",
    "pd.DataFrame(E_step).to_pickle('E_step.pkl')"
   ]
  },
  {
   "cell_type": "code",
   "execution_count": 5,
   "metadata": {},
   "outputs": [],
   "source": [
    "P_mf = pd.read_pickle('P_mf.pkl')\n",
    "Q_mf = pd.read_pickle('Q_mf.pkl')\n",
    "E_step = pd.read_pickle('E_step.pkl')"
   ]
  },
  {
   "cell_type": "markdown",
   "metadata": {},
   "source": [
    "## Check Stochastic Gradient Descent Convergence"
   ]
  },
  {
   "cell_type": "code",
   "execution_count": 10,
   "metadata": {
    "scrolled": true
   },
   "outputs": [
    {
     "data": {
      "text/plain": [
       "Text(0.5, 1.0, 'Error Convergence with SGD')"
      ]
     },
     "execution_count": 10,
     "metadata": {},
     "output_type": "execute_result"
    },
    {
     "data": {
      "image/png": "[encoded data removed]",
      "text/plain": [
       "<Figure size 432x288 with 1 Axes>"
      ]
     },
     "metadata": {
      "needs_background": "light"
     },
     "output_type": "display_data"
    }
   ],
   "source": [
    "df_E_step = E_step.rename(columns={0:'Error'})\n",
    "df_E_step.plot()\n",
    "plt.xlabel('iteration')\n",
    "plt.ylabel('Error + Regularized Term')\n",
    "plt.title('Error Convergence with SGD')"
   ]
  },
  {
   "cell_type": "markdown",
   "metadata": {},
   "source": [
    "* The Stochastic Gradient Descent converged after 400 iterations"
   ]
  },
  {
   "cell_type": "markdown",
   "metadata": {},
   "source": [
    "## Restaurant Recommendation using Text"
   ]
  },
  {
   "cell_type": "markdown",
   "metadata": {},
   "source": [
    "### input new text for prediction"
   ]
  },
  {
   "cell_type": "code",
   "execution_count": 79,
   "metadata": {},
   "outputs": [],
   "source": [
    "sentence = \"I love thai food a lot a lot!\""
   ]
  },
  {
   "cell_type": "code",
   "execution_count": 80,
   "metadata": {},
   "outputs": [],
   "source": [
    "test_df = pd.DataFrame([sentence], columns=['text'])"
   ]
  },
  {
   "cell_type": "code",
   "execution_count": 81,
   "metadata": {},
   "outputs": [
    {
     "data": {
      "text/plain": [
       "array([['I love thai food a lot a lot!']], dtype=object)"
      ]
     },
     "execution_count": 81,
     "metadata": {},
     "output_type": "execute_result"
    }
   ],
   "source": [
    "test_df.values"
   ]
  },
  {
   "cell_type": "code",
   "execution_count": 82,
   "metadata": {},
   "outputs": [],
   "source": [
    "test_df['text'] = test_df['text'].map(lambda x: nlp_func(x, lowercase = True, word_negation = True, \\\n",
    "                                                remove_stopword = True, stemming = False, lemmatization = True))"
   ]
  },
  {
   "cell_type": "code",
   "execution_count": 83,
   "metadata": {
    "scrolled": true
   },
   "outputs": [
    {
     "data": {
      "text/plain": [
       "array([['love thai food lot lot']], dtype=object)"
      ]
     },
     "execution_count": 83,
     "metadata": {},
     "output_type": "execute_result"
    }
   ],
   "source": [
    "test_df.values"
   ]
  },
  {
   "cell_type": "code",
   "execution_count": 84,
   "metadata": {},
   "outputs": [],
   "source": [
    "test_tfidf = user_tfidf_vectorizer.transform(test_df['text']).toarray()"
   ]
  },
  {
   "cell_type": "code",
   "execution_count": 85,
   "metadata": {},
   "outputs": [
    {
     "data": {
      "text/plain": [
       "(1, 500)"
      ]
     },
     "execution_count": 85,
     "metadata": {},
     "output_type": "execute_result"
    }
   ],
   "source": [
    "test_tfidf.shape"
   ]
  },
  {
   "cell_type": "code",
   "execution_count": 86,
   "metadata": {},
   "outputs": [
    {
     "data": {
      "text/html": [
       "<div>\n",
       "<style scoped>\n",
       "    .dataframe tbody tr th:only-of-type {\n",
       "        vertical-align: middle;\n",
       "    }\n",
       "\n",
       "    .dataframe tbody tr th {\n",
       "        vertical-align: top;\n",
       "    }\n",
       "\n",
       "    .dataframe thead th {\n",
       "        text-align: right;\n",
       "    }\n",
       "</style>\n",
       "<table border=\"1\" class=\"dataframe\">\n",
       "  <thead>\n",
       "    <tr style=\"text-align: right;\">\n",
       "      <th></th>\n",
       "      <th>able</th>\n",
       "      <th>absolutely</th>\n",
       "      <th>actually</th>\n",
       "      <th>add</th>\n",
       "      <th>almost</th>\n",
       "      <th>already</th>\n",
       "      <th>also</th>\n",
       "      <th>although</th>\n",
       "      <th>always</th>\n",
       "      <th>amaze</th>\n",
       "      <th>ambiance</th>\n",
       "      <th>amount</th>\n",
       "      <th>another</th>\n",
       "      <th>anyone</th>\n",
       "      <th>anything</th>\n",
       "      <th>appetizer</th>\n",
       "      <th>appetizers</th>\n",
       "      <th>area</th>\n",
       "      <th>around</th>\n",
       "      <th>arrive</th>\n",
       "      <th>ask</th>\n",
       "      <th>atmosphere</th>\n",
       "      <th>attentive</th>\n",
       "      <th>average</th>\n",
       "      <th>away</th>\n",
       "      <th>awesome</th>\n",
       "      <th>back</th>\n",
       "      <th>bacon</th>\n",
       "      <th>bad</th>\n",
       "      <th>bar</th>\n",
       "      <th>base</th>\n",
       "      <th>bbq</th>\n",
       "      <th>bean</th>\n",
       "      <th>beautiful</th>\n",
       "      <th>bed</th>\n",
       "      <th>beef</th>\n",
       "      <th>beer</th>\n",
       "      <th>belly</th>\n",
       "      <th>best</th>\n",
       "      <th>better</th>\n",
       "      <th>big</th>\n",
       "      <th>bill</th>\n",
       "      <th>birthday</th>\n",
       "      <th>bite</th>\n",
       "      <th>book</th>\n",
       "      <th>bowl</th>\n",
       "      <th>boyfriend</th>\n",
       "      <th>bread</th>\n",
       "      <th>breakfast</th>\n",
       "      <th>bring</th>\n",
       "      <th>broth</th>\n",
       "      <th>brunch</th>\n",
       "      <th>buffet</th>\n",
       "      <th>bun</th>\n",
       "      <th>burger</th>\n",
       "      <th>burgers</th>\n",
       "      <th>busy</th>\n",
       "      <th>butter</th>\n",
       "      <th>cake</th>\n",
       "      <th>call</th>\n",
       "      <th>cannot</th>\n",
       "      <th>care</th>\n",
       "      <th>casino</th>\n",
       "      <th>change</th>\n",
       "      <th>charge</th>\n",
       "      <th>check</th>\n",
       "      <th>cheese</th>\n",
       "      <th>chef</th>\n",
       "      <th>chicken</th>\n",
       "      <th>chip</th>\n",
       "      <th>chocolate</th>\n",
       "      <th>choice</th>\n",
       "      <th>choices</th>\n",
       "      <th>choose</th>\n",
       "      <th>clean</th>\n",
       "      <th>close</th>\n",
       "      <th>coffee</th>\n",
       "      <th>cold</th>\n",
       "      <th>come</th>\n",
       "      <th>cook</th>\n",
       "      <th>cool</th>\n",
       "      <th>corn</th>\n",
       "      <th>could</th>\n",
       "      <th>couple</th>\n",
       "      <th>course</th>\n",
       "      <th>crab</th>\n",
       "      <th>cream</th>\n",
       "      <th>crispy</th>\n",
       "      <th>crowd</th>\n",
       "      <th>customer</th>\n",
       "      <th>cut</th>\n",
       "      <th>day</th>\n",
       "      <th>days</th>\n",
       "      <th>deal</th>\n",
       "      <th>decent</th>\n",
       "      <th>decide</th>\n",
       "      <th>decor</th>\n",
       "      <th>definitely</th>\n",
       "      <th>delicious</th>\n",
       "      <th>desk</th>\n",
       "      <th>dessert</th>\n",
       "      <th>desserts</th>\n",
       "      <th>different</th>\n",
       "      <th>din</th>\n",
       "      <th>dinner</th>\n",
       "      <th>disappoint</th>\n",
       "      <th>dish</th>\n",
       "      <th>dog</th>\n",
       "      <th>door</th>\n",
       "      <th>drink</th>\n",
       "      <th>drive</th>\n",
       "      <th>dry</th>\n",
       "      <th>early</th>\n",
       "      <th>easy</th>\n",
       "      <th>eat</th>\n",
       "      <th>egg</th>\n",
       "      <th>either</th>\n",
       "      <th>else</th>\n",
       "      <th>end</th>\n",
       "      <th>enjoy</th>\n",
       "      <th>enough</th>\n",
       "      <th>entire</th>\n",
       "      <th>especially</th>\n",
       "      <th>even</th>\n",
       "      <th>ever</th>\n",
       "      <th>every</th>\n",
       "      <th>everyone</th>\n",
       "      <th>everything</th>\n",
       "      <th>excellent</th>\n",
       "      <th>excite</th>\n",
       "      <th>expect</th>\n",
       "      <th>expensive</th>\n",
       "      <th>experience</th>\n",
       "      <th>extra</th>\n",
       "      <th>extremely</th>\n",
       "      <th>family</th>\n",
       "      <th>fan</th>\n",
       "      <th>fantastic</th>\n",
       "      <th>far</th>\n",
       "      <th>fast</th>\n",
       "      <th>favorite</th>\n",
       "      <th>fee</th>\n",
       "      <th>feel</th>\n",
       "      <th>felt</th>\n",
       "      <th>fill</th>\n",
       "      <th>finally</th>\n",
       "      <th>find</th>\n",
       "      <th>fine</th>\n",
       "      <th>finish</th>\n",
       "      <th>first</th>\n",
       "      <th>fish</th>\n",
       "      <th>flavor</th>\n",
       "      <th>flavorful</th>\n",
       "      <th>floor</th>\n",
       "      <th>food</th>\n",
       "      <th>forget</th>\n",
       "      <th>free</th>\n",
       "      <th>french</th>\n",
       "      <th>fresh</th>\n",
       "      <th>friend</th>\n",
       "      <th>friendly</th>\n",
       "      <th>friends</th>\n",
       "      <th>front</th>\n",
       "      <th>fry</th>\n",
       "      <th>full</th>\n",
       "      <th>fun</th>\n",
       "      <th>garlic</th>\n",
       "      <th>get</th>\n",
       "      <th>give</th>\n",
       "      <th>glad</th>\n",
       "      <th>glass</th>\n",
       "      <th>go</th>\n",
       "      <th>good</th>\n",
       "      <th>gordon</th>\n",
       "      <th>great</th>\n",
       "      <th>green</th>\n",
       "      <th>greet</th>\n",
       "      <th>grill</th>\n",
       "      <th>group</th>\n",
       "      <th>guess</th>\n",
       "      <th>guy</th>\n",
       "      <th>half</th>\n",
       "      <th>hand</th>\n",
       "      <th>happen</th>\n",
       "      <th>happy</th>\n",
       "      <th>hard</th>\n",
       "      <th>hear</th>\n",
       "      <th>help</th>\n",
       "      <th>helpful</th>\n",
       "      <th>high</th>\n",
       "      <th>highly</th>\n",
       "      <th>hit</th>\n",
       "      <th>home</th>\n",
       "      <th>honestly</th>\n",
       "      <th>horrible</th>\n",
       "      <th>host</th>\n",
       "      <th>hot</th>\n",
       "      <th>hotel</th>\n",
       "      <th>hour</th>\n",
       "      <th>hours</th>\n",
       "      <th>house</th>\n",
       "      <th>however</th>\n",
       "      <th>huge</th>\n",
       "      <th>hungry</th>\n",
       "      <th>husband</th>\n",
       "      <th>ice</th>\n",
       "      <th>include</th>\n",
       "      <th>inside</th>\n",
       "      <th>instead</th>\n",
       "      <th>issue</th>\n",
       "      <th>items</th>\n",
       "      <th>keep</th>\n",
       "      <th>kid</th>\n",
       "      <th>kind</th>\n",
       "      <th>kitchen</th>\n",
       "      <th>know</th>\n",
       "      <th>lack</th>\n",
       "      <th>large</th>\n",
       "      <th>las</th>\n",
       "      <th>last</th>\n",
       "      <th>late</th>\n",
       "      <th>later</th>\n",
       "      <th>least</th>\n",
       "      <th>leave</th>\n",
       "      <th>less</th>\n",
       "      <th>let</th>\n",
       "      <th>light</th>\n",
       "      <th>like</th>\n",
       "      <th>line</th>\n",
       "      <th>list</th>\n",
       "      <th>literally</th>\n",
       "      <th>little</th>\n",
       "      <th>live</th>\n",
       "      <th>lobster</th>\n",
       "      <th>locate</th>\n",
       "      <th>location</th>\n",
       "      <th>lol</th>\n",
       "      <th>long</th>\n",
       "      <th>look</th>\n",
       "      <th>lot</th>\n",
       "      <th>loud</th>\n",
       "      <th>love</th>\n",
       "      <th>lunch</th>\n",
       "      <th>mac</th>\n",
       "      <th>main</th>\n",
       "      <th>make</th>\n",
       "      <th>manager</th>\n",
       "      <th>many</th>\n",
       "      <th>may</th>\n",
       "      <th>maybe</th>\n",
       "      <th>meal</th>\n",
       "      <th>mean</th>\n",
       "      <th>meat</th>\n",
       "      <th>meats</th>\n",
       "      <th>mention</th>\n",
       "      <th>menu</th>\n",
       "      <th>mexican</th>\n",
       "      <th>might</th>\n",
       "      <th>minutes</th>\n",
       "      <th>miss</th>\n",
       "      <th>mix</th>\n",
       "      <th>money</th>\n",
       "      <th>morning</th>\n",
       "      <th>mouth</th>\n",
       "      <th>move</th>\n",
       "      <th>much</th>\n",
       "      <th>mushroom</th>\n",
       "      <th>music</th>\n",
       "      <th>must</th>\n",
       "      <th>nachos</th>\n",
       "      <th>name</th>\n",
       "      <th>need</th>\n",
       "      <th>never</th>\n",
       "      <th>new</th>\n",
       "      <th>next</th>\n",
       "      <th>nice</th>\n",
       "      <th>night</th>\n",
       "      <th>noodle</th>\n",
       "      <th>noodles</th>\n",
       "      <th>not_a</th>\n",
       "      <th>not_be</th>\n",
       "      <th>not_even</th>\n",
       "      <th>not_get</th>\n",
       "      <th>not_have</th>\n",
       "      <th>not_know</th>\n",
       "      <th>not_like</th>\n",
       "      <th>not_sure</th>\n",
       "      <th>not_the</th>\n",
       "      <th>not_too</th>\n",
       "      <th>not_want</th>\n",
       "      <th>nothing</th>\n",
       "      <th>offer</th>\n",
       "      <th>oh</th>\n",
       "      <th>ok</th>\n",
       "      <th>okay</th>\n",
       "      <th>old</th>\n",
       "      <th>one</th>\n",
       "      <th>onion</th>\n",
       "      <th>open</th>\n",
       "      <th>options</th>\n",
       "      <th>order</th>\n",
       "      <th>outside</th>\n",
       "      <th>overall</th>\n",
       "      <th>oyster</th>\n",
       "      <th>pack</th>\n",
       "      <th>pancakes</th>\n",
       "      <th>park</th>\n",
       "      <th>part</th>\n",
       "      <th>party</th>\n",
       "      <th>pasta</th>\n",
       "      <th>pay</th>\n",
       "      <th>people</th>\n",
       "      <th>per</th>\n",
       "      <th>perfect</th>\n",
       "      <th>perfectly</th>\n",
       "      <th>person</th>\n",
       "      <th>pho</th>\n",
       "      <th>piece</th>\n",
       "      <th>pizza</th>\n",
       "      <th>place</th>\n",
       "      <th>plat</th>\n",
       "      <th>plate</th>\n",
       "      <th>play</th>\n",
       "      <th>please</th>\n",
       "      <th>plenty</th>\n",
       "      <th>plus</th>\n",
       "      <th>pm</th>\n",
       "      <th>point</th>\n",
       "      <th>pool</th>\n",
       "      <th>pork</th>\n",
       "      <th>portion</th>\n",
       "      <th>potato</th>\n",
       "      <th>potatoes</th>\n",
       "      <th>prepare</th>\n",
       "      <th>pretty</th>\n",
       "      <th>price</th>\n",
       "      <th>pricey</th>\n",
       "      <th>probably</th>\n",
       "      <th>put</th>\n",
       "      <th>quality</th>\n",
       "      <th>quick</th>\n",
       "      <th>quickly</th>\n",
       "      <th>quite</th>\n",
       "      <th>ramen</th>\n",
       "      <th>ready</th>\n",
       "      <th>real</th>\n",
       "      <th>really</th>\n",
       "      <th>reason</th>\n",
       "      <th>receive</th>\n",
       "      <th>recommend</th>\n",
       "      <th>red</th>\n",
       "      <th>refill</th>\n",
       "      <th>regular</th>\n",
       "      <th>reservation</th>\n",
       "      <th>reservations</th>\n",
       "      <th>resort</th>\n",
       "      <th>restaurant</th>\n",
       "      <th>restaurants</th>\n",
       "      <th>return</th>\n",
       "      <th>review</th>\n",
       "      <th>rib</th>\n",
       "      <th>rice</th>\n",
       "      <th>right</th>\n",
       "      <th>roll</th>\n",
       "      <th>room</th>\n",
       "      <th>rude</th>\n",
       "      <th>run</th>\n",
       "      <th>salad</th>\n",
       "      <th>salmon</th>\n",
       "      <th>salty</th>\n",
       "      <th>sandwich</th>\n",
       "      <th>sauce</th>\n",
       "      <th>saw</th>\n",
       "      <th>say</th>\n",
       "      <th>seafood</th>\n",
       "      <th>season</th>\n",
       "      <th>seat</th>\n",
       "      <th>second</th>\n",
       "      <th>see</th>\n",
       "      <th>seem</th>\n",
       "      <th>selection</th>\n",
       "      <th>serve</th>\n",
       "      <th>server</th>\n",
       "      <th>servers</th>\n",
       "      <th>service</th>\n",
       "      <th>set</th>\n",
       "      <th>several</th>\n",
       "      <th>shake</th>\n",
       "      <th>share</th>\n",
       "      <th>shop</th>\n",
       "      <th>short</th>\n",
       "      <th>show</th>\n",
       "      <th>shrimp</th>\n",
       "      <th>side</th>\n",
       "      <th>since</th>\n",
       "      <th>sit</th>\n",
       "      <th>size</th>\n",
       "      <th>slice</th>\n",
       "      <th>slow</th>\n",
       "      <th>small</th>\n",
       "      <th>smoke</th>\n",
       "      <th>soft</th>\n",
       "      <th>someone</th>\n",
       "      <th>something</th>\n",
       "      <th>soo</th>\n",
       "      <th>soon</th>\n",
       "      <th>soup</th>\n",
       "      <th>special</th>\n",
       "      <th>spend</th>\n",
       "      <th>spicturey</th>\n",
       "      <th>spot</th>\n",
       "      <th>staff</th>\n",
       "      <th>stand</th>\n",
       "      <th>star</th>\n",
       "      <th>start</th>\n",
       "      <th>station</th>\n",
       "      <th>stay</th>\n",
       "      <th>steak</th>\n",
       "      <th>still</th>\n",
       "      <th>stop</th>\n",
       "      <th>street</th>\n",
       "      <th>strip</th>\n",
       "      <th>stuff</th>\n",
       "      <th>style</th>\n",
       "      <th>super</th>\n",
       "      <th>sure</th>\n",
       "      <th>surprise</th>\n",
       "      <th>sushi</th>\n",
       "      <th>sweet</th>\n",
       "      <th>table</th>\n",
       "      <th>tacos</th>\n",
       "      <th>take</th>\n",
       "      <th>talk</th>\n",
       "      <th>taste</th>\n",
       "      <th>tasty</th>\n",
       "      <th>tea</th>\n",
       "      <th>tell</th>\n",
       "      <th>tender</th>\n",
       "      <th>thai</th>\n",
       "      <th>thank</th>\n",
       "      <th>thing</th>\n",
       "      <th>things</th>\n",
       "      <th>think</th>\n",
       "      <th>though</th>\n",
       "      <th>three</th>\n",
       "      <th>time</th>\n",
       "      <th>tip</th>\n",
       "      <th>toast</th>\n",
       "      <th>today</th>\n",
       "      <th>top</th>\n",
       "      <th>totally</th>\n",
       "      <th>town</th>\n",
       "      <th>trip</th>\n",
       "      <th>truffle</th>\n",
       "      <th>try</th>\n",
       "      <th>turn</th>\n",
       "      <th>twice</th>\n",
       "      <th>two</th>\n",
       "      <th>type</th>\n",
       "      <th>us</th>\n",
       "      <th>use</th>\n",
       "      <th>usually</th>\n",
       "      <th>variety</th>\n",
       "      <th>vegan</th>\n",
       "      <th>vegas</th>\n",
       "      <th>view</th>\n",
       "      <th>visit</th>\n",
       "      <th>waffle</th>\n",
       "      <th>wait</th>\n",
       "      <th>waiter</th>\n",
       "      <th>waitress</th>\n",
       "      <th>walk</th>\n",
       "      <th>want</th>\n",
       "      <th>warm</th>\n",
       "      <th>watch</th>\n",
       "      <th>water</th>\n",
       "      <th>way</th>\n",
       "      <th>week</th>\n",
       "      <th>weekend</th>\n",
       "      <th>well</th>\n",
       "      <th>white</th>\n",
       "      <th>whole</th>\n",
       "      <th>wife</th>\n",
       "      <th>wine</th>\n",
       "      <th>wing</th>\n",
       "      <th>wish</th>\n",
       "      <th>without</th>\n",
       "      <th>wonderful</th>\n",
       "      <th>work</th>\n",
       "      <th>worst</th>\n",
       "      <th>worth</th>\n",
       "      <th>would</th>\n",
       "      <th>wow</th>\n",
       "      <th>wrong</th>\n",
       "      <th>year</th>\n",
       "      <th>years</th>\n",
       "      <th>yelp</th>\n",
       "      <th>yes</th>\n",
       "      <th>yet</th>\n",
       "      <th>yummy</th>\n",
       "    </tr>\n",
       "  </thead>\n",
       "  <tbody>\n",
       "    <tr>\n",
       "      <th>0</th>\n",
       "      <td>0.0</td>\n",
       "      <td>0.0</td>\n",
       "      <td>0.0</td>\n",
       "      <td>0.0</td>\n",
       "      <td>0.0</td>\n",
       "      <td>0.0</td>\n",
       "      <td>0.0</td>\n",
       "      <td>0.0</td>\n",
       "      <td>0.0</td>\n",
       "      <td>0.0</td>\n",
       "      <td>0.0</td>\n",
       "      <td>0.0</td>\n",
       "      <td>0.0</td>\n",
       "      <td>0.0</td>\n",
       "      <td>0.0</td>\n",
       "      <td>0.0</td>\n",
       "      <td>0.0</td>\n",
       "      <td>0.0</td>\n",
       "      <td>0.0</td>\n",
       "      <td>0.0</td>\n",
       "      <td>0.0</td>\n",
       "      <td>0.0</td>\n",
       "      <td>0.0</td>\n",
       "      <td>0.0</td>\n",
       "      <td>0.0</td>\n",
       "      <td>0.0</td>\n",
       "      <td>0.0</td>\n",
       "      <td>0.0</td>\n",
       "      <td>0.0</td>\n",
       "      <td>0.0</td>\n",
       "      <td>0.0</td>\n",
       "      <td>0.0</td>\n",
       "      <td>0.0</td>\n",
       "      <td>0.0</td>\n",
       "      <td>0.0</td>\n",
       "      <td>0.0</td>\n",
       "      <td>0.0</td>\n",
       "      <td>0.0</td>\n",
       "      <td>0.0</td>\n",
       "      <td>0.0</td>\n",
       "      <td>0.0</td>\n",
       "      <td>0.0</td>\n",
       "      <td>0.0</td>\n",
       "      <td>0.0</td>\n",
       "      <td>0.0</td>\n",
       "      <td>0.0</td>\n",
       "      <td>0.0</td>\n",
       "      <td>0.0</td>\n",
       "      <td>0.0</td>\n",
       "      <td>0.0</td>\n",
       "      <td>0.0</td>\n",
       "      <td>0.0</td>\n",
       "      <td>0.0</td>\n",
       "      <td>0.0</td>\n",
       "      <td>0.0</td>\n",
       "      <td>0.0</td>\n",
       "      <td>0.0</td>\n",
       "      <td>0.0</td>\n",
       "      <td>0.0</td>\n",
       "      <td>0.0</td>\n",
       "      <td>0.0</td>\n",
       "      <td>0.0</td>\n",
       "      <td>0.0</td>\n",
       "      <td>0.0</td>\n",
       "      <td>0.0</td>\n",
       "      <td>0.0</td>\n",
       "      <td>0.0</td>\n",
       "      <td>0.0</td>\n",
       "      <td>0.0</td>\n",
       "      <td>0.0</td>\n",
       "      <td>0.0</td>\n",
       "      <td>0.0</td>\n",
       "      <td>0.0</td>\n",
       "      <td>0.0</td>\n",
       "      <td>0.0</td>\n",
       "      <td>0.0</td>\n",
       "      <td>0.0</td>\n",
       "      <td>0.0</td>\n",
       "      <td>0.0</td>\n",
       "      <td>0.0</td>\n",
       "      <td>0.0</td>\n",
       "      <td>0.0</td>\n",
       "      <td>0.0</td>\n",
       "      <td>0.0</td>\n",
       "      <td>0.0</td>\n",
       "      <td>0.0</td>\n",
       "      <td>0.0</td>\n",
       "      <td>0.0</td>\n",
       "      <td>0.0</td>\n",
       "      <td>0.0</td>\n",
       "      <td>0.0</td>\n",
       "      <td>0.0</td>\n",
       "      <td>0.0</td>\n",
       "      <td>0.0</td>\n",
       "      <td>0.0</td>\n",
       "      <td>0.0</td>\n",
       "      <td>0.0</td>\n",
       "      <td>0.0</td>\n",
       "      <td>0.0</td>\n",
       "      <td>0.0</td>\n",
       "      <td>0.0</td>\n",
       "      <td>0.0</td>\n",
       "      <td>0.0</td>\n",
       "      <td>0.0</td>\n",
       "      <td>0.0</td>\n",
       "      <td>0.0</td>\n",
       "      <td>0.0</td>\n",
       "      <td>0.0</td>\n",
       "      <td>0.0</td>\n",
       "      <td>0.0</td>\n",
       "      <td>0.0</td>\n",
       "      <td>0.0</td>\n",
       "      <td>0.0</td>\n",
       "      <td>0.0</td>\n",
       "      <td>0.0</td>\n",
       "      <td>0.0</td>\n",
       "      <td>0.0</td>\n",
       "      <td>0.0</td>\n",
       "      <td>0.0</td>\n",
       "      <td>0.0</td>\n",
       "      <td>0.0</td>\n",
       "      <td>0.0</td>\n",
       "      <td>0.0</td>\n",
       "      <td>0.0</td>\n",
       "      <td>0.0</td>\n",
       "      <td>0.0</td>\n",
       "      <td>0.0</td>\n",
       "      <td>0.0</td>\n",
       "      <td>0.0</td>\n",
       "      <td>0.0</td>\n",
       "      <td>0.0</td>\n",
       "      <td>0.0</td>\n",
       "      <td>0.0</td>\n",
       "      <td>0.0</td>\n",
       "      <td>0.0</td>\n",
       "      <td>0.0</td>\n",
       "      <td>0.0</td>\n",
       "      <td>0.0</td>\n",
       "      <td>0.0</td>\n",
       "      <td>0.0</td>\n",
       "      <td>0.0</td>\n",
       "      <td>0.0</td>\n",
       "      <td>0.0</td>\n",
       "      <td>0.0</td>\n",
       "      <td>0.0</td>\n",
       "      <td>0.0</td>\n",
       "      <td>0.0</td>\n",
       "      <td>0.0</td>\n",
       "      <td>0.0</td>\n",
       "      <td>0.0</td>\n",
       "      <td>0.0</td>\n",
       "      <td>0.0</td>\n",
       "      <td>0.0</td>\n",
       "      <td>0.0</td>\n",
       "      <td>0.185458</td>\n",
       "      <td>0.0</td>\n",
       "      <td>0.0</td>\n",
       "      <td>0.0</td>\n",
       "      <td>0.0</td>\n",
       "      <td>0.0</td>\n",
       "      <td>0.0</td>\n",
       "      <td>0.0</td>\n",
       "      <td>0.0</td>\n",
       "      <td>0.0</td>\n",
       "      <td>0.0</td>\n",
       "      <td>0.0</td>\n",
       "      <td>0.0</td>\n",
       "      <td>0.0</td>\n",
       "      <td>0.0</td>\n",
       "      <td>0.0</td>\n",
       "      <td>0.0</td>\n",
       "      <td>0.0</td>\n",
       "      <td>0.0</td>\n",
       "      <td>0.0</td>\n",
       "      <td>0.0</td>\n",
       "      <td>0.0</td>\n",
       "      <td>0.0</td>\n",
       "      <td>0.0</td>\n",
       "      <td>0.0</td>\n",
       "      <td>0.0</td>\n",
       "      <td>0.0</td>\n",
       "      <td>0.0</td>\n",
       "      <td>0.0</td>\n",
       "      <td>0.0</td>\n",
       "      <td>0.0</td>\n",
       "      <td>0.0</td>\n",
       "      <td>0.0</td>\n",
       "      <td>0.0</td>\n",
       "      <td>0.0</td>\n",
       "      <td>0.0</td>\n",
       "      <td>0.0</td>\n",
       "      <td>0.0</td>\n",
       "      <td>0.0</td>\n",
       "      <td>0.0</td>\n",
       "      <td>0.0</td>\n",
       "      <td>0.0</td>\n",
       "      <td>0.0</td>\n",
       "      <td>0.0</td>\n",
       "      <td>0.0</td>\n",
       "      <td>0.0</td>\n",
       "      <td>0.0</td>\n",
       "      <td>0.0</td>\n",
       "      <td>0.0</td>\n",
       "      <td>0.0</td>\n",
       "      <td>0.0</td>\n",
       "      <td>0.0</td>\n",
       "      <td>0.0</td>\n",
       "      <td>0.0</td>\n",
       "      <td>0.0</td>\n",
       "      <td>0.0</td>\n",
       "      <td>0.0</td>\n",
       "      <td>0.0</td>\n",
       "      <td>0.0</td>\n",
       "      <td>0.0</td>\n",
       "      <td>0.0</td>\n",
       "      <td>0.0</td>\n",
       "      <td>0.0</td>\n",
       "      <td>0.0</td>\n",
       "      <td>0.0</td>\n",
       "      <td>0.0</td>\n",
       "      <td>0.0</td>\n",
       "      <td>0.0</td>\n",
       "      <td>0.0</td>\n",
       "      <td>0.0</td>\n",
       "      <td>0.0</td>\n",
       "      <td>0.0</td>\n",
       "      <td>0.0</td>\n",
       "      <td>0.0</td>\n",
       "      <td>0.0</td>\n",
       "      <td>0.0</td>\n",
       "      <td>0.0</td>\n",
       "      <td>0.0</td>\n",
       "      <td>0.0</td>\n",
       "      <td>0.0</td>\n",
       "      <td>0.0</td>\n",
       "      <td>0.0</td>\n",
       "      <td>0.0</td>\n",
       "      <td>0.0</td>\n",
       "      <td>0.0</td>\n",
       "      <td>0.766344</td>\n",
       "      <td>0.0</td>\n",
       "      <td>0.299623</td>\n",
       "      <td>0.0</td>\n",
       "      <td>0.0</td>\n",
       "      <td>0.0</td>\n",
       "      <td>0.0</td>\n",
       "      <td>0.0</td>\n",
       "      <td>0.0</td>\n",
       "      <td>0.0</td>\n",
       "      <td>0.0</td>\n",
       "      <td>0.0</td>\n",
       "      <td>0.0</td>\n",
       "      <td>0.0</td>\n",
       "      <td>0.0</td>\n",
       "      <td>0.0</td>\n",
       "      <td>0.0</td>\n",
       "      <td>0.0</td>\n",
       "      <td>0.0</td>\n",
       "      <td>0.0</td>\n",
       "      <td>0.0</td>\n",
       "      <td>0.0</td>\n",
       "      <td>0.0</td>\n",
       "      <td>0.0</td>\n",
       "      <td>0.0</td>\n",
       "      <td>0.0</td>\n",
       "      <td>0.0</td>\n",
       "      <td>0.0</td>\n",
       "      <td>0.0</td>\n",
       "      <td>0.0</td>\n",
       "      <td>0.0</td>\n",
       "      <td>0.0</td>\n",
       "      <td>0.0</td>\n",
       "      <td>0.0</td>\n",
       "      <td>0.0</td>\n",
       "      <td>0.0</td>\n",
       "      <td>0.0</td>\n",
       "      <td>0.0</td>\n",
       "      <td>0.0</td>\n",
       "      <td>0.0</td>\n",
       "      <td>0.0</td>\n",
       "      <td>0.0</td>\n",
       "      <td>0.0</td>\n",
       "      <td>0.0</td>\n",
       "      <td>0.0</td>\n",
       "      <td>0.0</td>\n",
       "      <td>0.0</td>\n",
       "      <td>0.0</td>\n",
       "      <td>0.0</td>\n",
       "      <td>0.0</td>\n",
       "      <td>0.0</td>\n",
       "      <td>0.0</td>\n",
       "      <td>0.0</td>\n",
       "      <td>0.0</td>\n",
       "      <td>0.0</td>\n",
       "      <td>0.0</td>\n",
       "      <td>0.0</td>\n",
       "      <td>0.0</td>\n",
       "      <td>0.0</td>\n",
       "      <td>0.0</td>\n",
       "      <td>0.0</td>\n",
       "      <td>0.0</td>\n",
       "      <td>0.0</td>\n",
       "      <td>0.0</td>\n",
       "      <td>0.0</td>\n",
       "      <td>0.0</td>\n",
       "      <td>0.0</td>\n",
       "      <td>0.0</td>\n",
       "      <td>0.0</td>\n",
       "      <td>0.0</td>\n",
       "      <td>0.0</td>\n",
       "      <td>0.0</td>\n",
       "      <td>0.0</td>\n",
       "      <td>0.0</td>\n",
       "      <td>0.0</td>\n",
       "      <td>0.0</td>\n",
       "      <td>0.0</td>\n",
       "      <td>0.0</td>\n",
       "      <td>0.0</td>\n",
       "      <td>0.0</td>\n",
       "      <td>0.0</td>\n",
       "      <td>0.0</td>\n",
       "      <td>0.0</td>\n",
       "      <td>0.0</td>\n",
       "      <td>0.0</td>\n",
       "      <td>0.0</td>\n",
       "      <td>0.0</td>\n",
       "      <td>0.0</td>\n",
       "      <td>0.0</td>\n",
       "      <td>0.0</td>\n",
       "      <td>0.0</td>\n",
       "      <td>0.0</td>\n",
       "      <td>0.0</td>\n",
       "      <td>0.0</td>\n",
       "      <td>0.0</td>\n",
       "      <td>0.0</td>\n",
       "      <td>0.0</td>\n",
       "      <td>0.0</td>\n",
       "      <td>0.0</td>\n",
       "      <td>0.0</td>\n",
       "      <td>0.0</td>\n",
       "      <td>0.0</td>\n",
       "      <td>0.0</td>\n",
       "      <td>0.0</td>\n",
       "      <td>0.0</td>\n",
       "      <td>0.0</td>\n",
       "      <td>0.0</td>\n",
       "      <td>0.0</td>\n",
       "      <td>0.0</td>\n",
       "      <td>0.0</td>\n",
       "      <td>0.0</td>\n",
       "      <td>0.0</td>\n",
       "      <td>0.0</td>\n",
       "      <td>0.0</td>\n",
       "      <td>0.0</td>\n",
       "      <td>0.0</td>\n",
       "      <td>0.0</td>\n",
       "      <td>0.0</td>\n",
       "      <td>0.0</td>\n",
       "      <td>0.0</td>\n",
       "      <td>0.0</td>\n",
       "      <td>0.0</td>\n",
       "      <td>0.0</td>\n",
       "      <td>0.0</td>\n",
       "      <td>0.0</td>\n",
       "      <td>0.0</td>\n",
       "      <td>0.0</td>\n",
       "      <td>0.0</td>\n",
       "      <td>0.0</td>\n",
       "      <td>0.0</td>\n",
       "      <td>0.0</td>\n",
       "      <td>0.0</td>\n",
       "      <td>0.0</td>\n",
       "      <td>0.0</td>\n",
       "      <td>0.0</td>\n",
       "      <td>0.0</td>\n",
       "      <td>0.0</td>\n",
       "      <td>0.0</td>\n",
       "      <td>0.0</td>\n",
       "      <td>0.0</td>\n",
       "      <td>0.0</td>\n",
       "      <td>0.0</td>\n",
       "      <td>0.0</td>\n",
       "      <td>0.0</td>\n",
       "      <td>0.0</td>\n",
       "      <td>0.0</td>\n",
       "      <td>0.0</td>\n",
       "      <td>0.0</td>\n",
       "      <td>0.0</td>\n",
       "      <td>0.0</td>\n",
       "      <td>0.0</td>\n",
       "      <td>0.0</td>\n",
       "      <td>0.0</td>\n",
       "      <td>0.0</td>\n",
       "      <td>0.0</td>\n",
       "      <td>0.0</td>\n",
       "      <td>0.0</td>\n",
       "      <td>0.0</td>\n",
       "      <td>0.0</td>\n",
       "      <td>0.0</td>\n",
       "      <td>0.0</td>\n",
       "      <td>0.0</td>\n",
       "      <td>0.0</td>\n",
       "      <td>0.0</td>\n",
       "      <td>0.0</td>\n",
       "      <td>0.0</td>\n",
       "      <td>0.0</td>\n",
       "      <td>0.0</td>\n",
       "      <td>0.0</td>\n",
       "      <td>0.0</td>\n",
       "      <td>0.0</td>\n",
       "      <td>0.0</td>\n",
       "      <td>0.0</td>\n",
       "      <td>0.0</td>\n",
       "      <td>0.0</td>\n",
       "      <td>0.0</td>\n",
       "      <td>0.0</td>\n",
       "      <td>0.0</td>\n",
       "      <td>0.0</td>\n",
       "      <td>0.0</td>\n",
       "      <td>0.0</td>\n",
       "      <td>0.0</td>\n",
       "      <td>0.0</td>\n",
       "      <td>0.0</td>\n",
       "      <td>0.0</td>\n",
       "      <td>0.0</td>\n",
       "      <td>0.0</td>\n",
       "      <td>0.0</td>\n",
       "      <td>0.0</td>\n",
       "      <td>0.0</td>\n",
       "      <td>0.0</td>\n",
       "      <td>0.0</td>\n",
       "      <td>0.0</td>\n",
       "      <td>0.0</td>\n",
       "      <td>0.0</td>\n",
       "      <td>0.0</td>\n",
       "      <td>0.0</td>\n",
       "      <td>0.0</td>\n",
       "      <td>0.0</td>\n",
       "      <td>0.537167</td>\n",
       "      <td>0.0</td>\n",
       "      <td>0.0</td>\n",
       "      <td>0.0</td>\n",
       "      <td>0.0</td>\n",
       "      <td>0.0</td>\n",
       "      <td>0.0</td>\n",
       "      <td>0.0</td>\n",
       "      <td>0.0</td>\n",
       "      <td>0.0</td>\n",
       "      <td>0.0</td>\n",
       "      <td>0.0</td>\n",
       "      <td>0.0</td>\n",
       "      <td>0.0</td>\n",
       "      <td>0.0</td>\n",
       "      <td>0.0</td>\n",
       "      <td>0.0</td>\n",
       "      <td>0.0</td>\n",
       "      <td>0.0</td>\n",
       "      <td>0.0</td>\n",
       "      <td>0.0</td>\n",
       "      <td>0.0</td>\n",
       "      <td>0.0</td>\n",
       "      <td>0.0</td>\n",
       "      <td>0.0</td>\n",
       "      <td>0.0</td>\n",
       "      <td>0.0</td>\n",
       "      <td>0.0</td>\n",
       "      <td>0.0</td>\n",
       "      <td>0.0</td>\n",
       "      <td>0.0</td>\n",
       "      <td>0.0</td>\n",
       "      <td>0.0</td>\n",
       "      <td>0.0</td>\n",
       "      <td>0.0</td>\n",
       "      <td>0.0</td>\n",
       "      <td>0.0</td>\n",
       "      <td>0.0</td>\n",
       "      <td>0.0</td>\n",
       "      <td>0.0</td>\n",
       "      <td>0.0</td>\n",
       "      <td>0.0</td>\n",
       "      <td>0.0</td>\n",
       "      <td>0.0</td>\n",
       "      <td>0.0</td>\n",
       "      <td>0.0</td>\n",
       "      <td>0.0</td>\n",
       "      <td>0.0</td>\n",
       "      <td>0.0</td>\n",
       "      <td>0.0</td>\n",
       "      <td>0.0</td>\n",
       "      <td>0.0</td>\n",
       "      <td>0.0</td>\n",
       "      <td>0.0</td>\n",
       "      <td>0.0</td>\n",
       "      <td>0.0</td>\n",
       "      <td>0.0</td>\n",
       "      <td>0.0</td>\n",
       "      <td>0.0</td>\n",
       "      <td>0.0</td>\n",
       "      <td>0.0</td>\n",
       "      <td>0.0</td>\n",
       "    </tr>\n",
       "  </tbody>\n",
       "</table>\n",
       "</div>"
      ],
      "text/plain": [
       "   able  absolutely  actually  add  almost  already  also  although  always  \\\n",
       "0   0.0         0.0       0.0  0.0     0.0      0.0   0.0       0.0     0.0   \n",
       "\n",
       "   amaze  ambiance  amount  another  anyone  anything  appetizer  appetizers  \\\n",
       "0    0.0       0.0     0.0      0.0     0.0       0.0        0.0         0.0   \n",
       "\n",
       "   area  around  arrive  ask  atmosphere  attentive  average  away  awesome  \\\n",
       "0   0.0     0.0     0.0  0.0         0.0        0.0      0.0   0.0      0.0   \n",
       "\n",
       "   back  bacon  bad  bar  base  bbq  bean  beautiful  bed  beef  beer  belly  \\\n",
       "0   0.0    0.0  0.0  0.0   0.0  0.0   0.0        0.0  0.0   0.0   0.0    0.0   \n",
       "\n",
       "   best  better  big  bill  birthday  bite  book  bowl  boyfriend  bread  \\\n",
       "0   0.0     0.0  0.0   0.0       0.0   0.0   0.0   0.0        0.0    0.0   \n",
       "\n",
       "   breakfast  bring  broth  brunch  buffet  bun  burger  burgers  busy  \\\n",
       "0        0.0    0.0    0.0     0.0     0.0  0.0     0.0      0.0   0.0   \n",
       "\n",
       "   butter  cake  call  cannot  care  casino  change  charge  check  cheese  \\\n",
       "0     0.0   0.0   0.0     0.0   0.0     0.0     0.0     0.0    0.0     0.0   \n",
       "\n",
       "   chef  chicken  chip  chocolate  choice  choices  choose  clean  close  \\\n",
       "0   0.0      0.0   0.0        0.0     0.0      0.0     0.0    0.0    0.0   \n",
       "\n",
       "   coffee  cold  come  cook  cool  corn  could  couple  course  crab  cream  \\\n",
       "0     0.0   0.0   0.0   0.0   0.0   0.0    0.0     0.0     0.0   0.0    0.0   \n",
       "\n",
       "   crispy  crowd  customer  cut  day  days  deal  decent  decide  decor  \\\n",
       "0     0.0    0.0       0.0  0.0  0.0   0.0   0.0     0.0     0.0    0.0   \n",
       "\n",
       "   definitely  delicious  desk  dessert  desserts  different  din  dinner  \\\n",
       "0         0.0        0.0   0.0      0.0       0.0        0.0  0.0     0.0   \n",
       "\n",
       "   disappoint  dish  dog  door  drink  drive  dry  early  easy  eat  egg  \\\n",
       "0         0.0   0.0  0.0   0.0    0.0    0.0  0.0    0.0   0.0  0.0  0.0   \n",
       "\n",
       "   either  else  end  enjoy  enough  entire  especially  even  ever  every  \\\n",
       "0     0.0   0.0  0.0    0.0     0.0     0.0         0.0   0.0   0.0    0.0   \n",
       "\n",
       "   everyone  everything  excellent  excite  expect  expensive  experience  \\\n",
       "0       0.0         0.0        0.0     0.0     0.0        0.0         0.0   \n",
       "\n",
       "   extra  extremely  family  fan  fantastic  far  fast  favorite  fee  feel  \\\n",
       "0    0.0        0.0     0.0  0.0        0.0  0.0   0.0       0.0  0.0   0.0   \n",
       "\n",
       "   felt  fill  finally  find  fine  finish  first  fish  flavor  flavorful  \\\n",
       "0   0.0   0.0      0.0   0.0   0.0     0.0    0.0   0.0     0.0        0.0   \n",
       "\n",
       "   floor      food  forget  free  french  fresh  friend  friendly  friends  \\\n",
       "0    0.0  0.185458     0.0   0.0     0.0    0.0     0.0       0.0      0.0   \n",
       "\n",
       "   front  fry  full  fun  garlic  get  give  glad  glass   go  good  gordon  \\\n",
       "0    0.0  0.0   0.0  0.0     0.0  0.0   0.0   0.0    0.0  0.0   0.0     0.0   \n",
       "\n",
       "   great  green  greet  grill  group  guess  guy  half  hand  happen  happy  \\\n",
       "0    0.0    0.0    0.0    0.0    0.0    0.0  0.0   0.0   0.0     0.0    0.0   \n",
       "\n",
       "   hard  hear  help  helpful  high  highly  hit  home  honestly  horrible  \\\n",
       "0   0.0   0.0   0.0      0.0   0.0     0.0  0.0   0.0       0.0       0.0   \n",
       "\n",
       "   host  hot  hotel  hour  hours  house  however  huge  hungry  husband  ice  \\\n",
       "0   0.0  0.0    0.0   0.0    0.0    0.0      0.0   0.0     0.0      0.0  0.0   \n",
       "\n",
       "   include  inside  instead  issue  items  keep  kid  kind  kitchen  know  \\\n",
       "0      0.0     0.0      0.0    0.0    0.0   0.0  0.0   0.0      0.0   0.0   \n",
       "\n",
       "   lack  large  las  last  late  later  least  leave  less  let  light  like  \\\n",
       "0   0.0    0.0  0.0   0.0   0.0    0.0    0.0    0.0   0.0  0.0    0.0   0.0   \n",
       "\n",
       "   line  list  literally  little  live  lobster  locate  location  lol  long  \\\n",
       "0   0.0   0.0        0.0     0.0   0.0      0.0     0.0       0.0  0.0   0.0   \n",
       "\n",
       "   look       lot  loud      love  lunch  mac  main  make  manager  many  may  \\\n",
       "0   0.0  0.766344   0.0  0.299623    0.0  0.0   0.0   0.0      0.0   0.0  0.0   \n",
       "\n",
       "   maybe  meal  mean  meat  meats  mention  menu  mexican  might  minutes  \\\n",
       "0    0.0   0.0   0.0   0.0    0.0      0.0   0.0      0.0    0.0      0.0   \n",
       "\n",
       "   miss  mix  money  morning  mouth  move  much  mushroom  music  must  \\\n",
       "0   0.0  0.0    0.0      0.0    0.0   0.0   0.0       0.0    0.0   0.0   \n",
       "\n",
       "   nachos  name  need  never  new  next  nice  night  noodle  noodles  not_a  \\\n",
       "0     0.0   0.0   0.0    0.0  0.0   0.0   0.0    0.0     0.0      0.0    0.0   \n",
       "\n",
       "   not_be  not_even  not_get  not_have  not_know  not_like  not_sure  not_the  \\\n",
       "0     0.0       0.0      0.0       0.0       0.0       0.0       0.0      0.0   \n",
       "\n",
       "   not_too  not_want  nothing  offer   oh   ok  okay  old  one  onion  open  \\\n",
       "0      0.0       0.0      0.0    0.0  0.0  0.0   0.0  0.0  0.0    0.0   0.0   \n",
       "\n",
       "   options  order  outside  overall  oyster  pack  pancakes  park  part  \\\n",
       "0      0.0    0.0      0.0      0.0     0.0   0.0       0.0   0.0   0.0   \n",
       "\n",
       "   party  pasta  pay  people  per  perfect  perfectly  person  pho  piece  \\\n",
       "0    0.0    0.0  0.0     0.0  0.0      0.0        0.0     0.0  0.0    0.0   \n",
       "\n",
       "   pizza  place  plat  plate  play  please  plenty  plus   pm  point  pool  \\\n",
       "0    0.0    0.0   0.0    0.0   0.0     0.0     0.0   0.0  0.0    0.0   0.0   \n",
       "\n",
       "   pork  portion  potato  potatoes  prepare  pretty  price  pricey  probably  \\\n",
       "0   0.0      0.0     0.0       0.0      0.0     0.0    0.0     0.0       0.0   \n",
       "\n",
       "   put  quality  quick  quickly  quite  ramen  ready  real  really  reason  \\\n",
       "0  0.0      0.0    0.0      0.0    0.0    0.0    0.0   0.0     0.0     0.0   \n",
       "\n",
       "   receive  recommend  red  refill  regular  reservation  reservations  \\\n",
       "0      0.0        0.0  0.0     0.0      0.0          0.0           0.0   \n",
       "\n",
       "   resort  restaurant  restaurants  return  review  rib  rice  right  roll  \\\n",
       "0     0.0         0.0          0.0     0.0     0.0  0.0   0.0    0.0   0.0   \n",
       "\n",
       "   room  rude  run  salad  salmon  salty  sandwich  sauce  saw  say  seafood  \\\n",
       "0   0.0   0.0  0.0    0.0     0.0    0.0       0.0    0.0  0.0  0.0      0.0   \n",
       "\n",
       "   season  seat  second  see  seem  selection  serve  server  servers  \\\n",
       "0     0.0   0.0     0.0  0.0   0.0        0.0    0.0     0.0      0.0   \n",
       "\n",
       "   service  set  several  shake  share  shop  short  show  shrimp  side  \\\n",
       "0      0.0  0.0      0.0    0.0    0.0   0.0    0.0   0.0     0.0   0.0   \n",
       "\n",
       "   since  sit  size  slice  slow  small  smoke  soft  someone  something  soo  \\\n",
       "0    0.0  0.0   0.0    0.0   0.0    0.0    0.0   0.0      0.0        0.0  0.0   \n",
       "\n",
       "   soon  soup  special  spend  spicturey  spot  staff  stand  star  start  \\\n",
       "0   0.0   0.0      0.0    0.0        0.0   0.0    0.0    0.0   0.0    0.0   \n",
       "\n",
       "   station  stay  steak  still  stop  street  strip  stuff  style  super  \\\n",
       "0      0.0   0.0    0.0    0.0   0.0     0.0    0.0    0.0    0.0    0.0   \n",
       "\n",
       "   sure  surprise  sushi  sweet  table  tacos  take  talk  taste  tasty  tea  \\\n",
       "0   0.0       0.0    0.0    0.0    0.0    0.0   0.0   0.0    0.0    0.0  0.0   \n",
       "\n",
       "   tell  tender      thai  thank  thing  things  think  though  three  time  \\\n",
       "0   0.0     0.0  0.537167    0.0    0.0     0.0    0.0     0.0    0.0   0.0   \n",
       "\n",
       "   tip  toast  today  top  totally  town  trip  truffle  try  turn  twice  \\\n",
       "0  0.0    0.0    0.0  0.0      0.0   0.0   0.0      0.0  0.0   0.0    0.0   \n",
       "\n",
       "   two  type   us  use  usually  variety  vegan  vegas  view  visit  waffle  \\\n",
       "0  0.0   0.0  0.0  0.0      0.0      0.0    0.0    0.0   0.0    0.0     0.0   \n",
       "\n",
       "   wait  waiter  waitress  walk  want  warm  watch  water  way  week  weekend  \\\n",
       "0   0.0     0.0       0.0   0.0   0.0   0.0    0.0    0.0  0.0   0.0      0.0   \n",
       "\n",
       "   well  white  whole  wife  wine  wing  wish  without  wonderful  work  \\\n",
       "0   0.0    0.0    0.0   0.0   0.0   0.0   0.0      0.0        0.0   0.0   \n",
       "\n",
       "   worst  worth  would  wow  wrong  year  years  yelp  yes  yet  yummy  \n",
       "0    0.0    0.0    0.0  0.0    0.0   0.0    0.0   0.0  0.0  0.0    0.0  "
      ]
     },
     "execution_count": 86,
     "metadata": {},
     "output_type": "execute_result"
    }
   ],
   "source": [
    "test_tfidf_df = pd.DataFrame(test_tfidf, index=test_df.index, columns=user_tfidf_vectorizer.get_feature_names())\n",
    "test_tfidf_df"
   ]
  },
  {
   "cell_type": "markdown",
   "metadata": {},
   "source": [
    "### Make prediction\n",
    "* predict rating = p x Q \n",
    "* choose top 10 restaurants"
   ]
  },
  {
   "cell_type": "code",
   "execution_count": 87,
   "metadata": {
    "scrolled": false
   },
   "outputs": [
    {
     "data": {
      "text/html": [
       "<div>\n",
       "<style scoped>\n",
       "    .dataframe tbody tr th:only-of-type {\n",
       "        vertical-align: middle;\n",
       "    }\n",
       "\n",
       "    .dataframe tbody tr th {\n",
       "        vertical-align: top;\n",
       "    }\n",
       "\n",
       "    .dataframe thead th {\n",
       "        text-align: right;\n",
       "    }\n",
       "</style>\n",
       "<table border=\"1\" class=\"dataframe\">\n",
       "  <thead>\n",
       "    <tr style=\"text-align: right;\">\n",
       "      <th></th>\n",
       "      <th>Rating</th>\n",
       "    </tr>\n",
       "    <tr>\n",
       "      <th>business_id</th>\n",
       "      <th></th>\n",
       "    </tr>\n",
       "  </thead>\n",
       "  <tbody>\n",
       "    <tr>\n",
       "      <th>-ADtl9bLp8wNqYX1k3KuxA</th>\n",
       "      <td>0.444722</td>\n",
       "    </tr>\n",
       "    <tr>\n",
       "      <th>-ed0Yc9on37RoIoG2ZgxBA</th>\n",
       "      <td>2.175284</td>\n",
       "    </tr>\n",
       "    <tr>\n",
       "      <th>-oUM2uISux96lMGeawHIOA</th>\n",
       "      <td>0.451916</td>\n",
       "    </tr>\n",
       "    <tr>\n",
       "      <th>0EgYXYjt2XJL4hlsKnzrcw</th>\n",
       "      <td>0.652854</td>\n",
       "    </tr>\n",
       "    <tr>\n",
       "      <th>0_aeYE2-VbsZts_UpILgDw</th>\n",
       "      <td>0.715279</td>\n",
       "    </tr>\n",
       "  </tbody>\n",
       "</table>\n",
       "</div>"
      ],
      "text/plain": [
       "                          Rating\n",
       "business_id                     \n",
       "-ADtl9bLp8wNqYX1k3KuxA  0.444722\n",
       "-ed0Yc9on37RoIoG2ZgxBA  2.175284\n",
       "-oUM2uISux96lMGeawHIOA  0.451916\n",
       "0EgYXYjt2XJL4hlsKnzrcw  0.652854\n",
       "0_aeYE2-VbsZts_UpILgDw  0.715279"
      ]
     },
     "execution_count": 87,
     "metadata": {},
     "output_type": "execute_result"
    }
   ],
   "source": [
    "predict_item_rating=pd.DataFrame(np.dot(test_tfidf_df.loc[0], Q_mf.T), index=Q_mf.index, columns=['Rating'])\n",
    "predict_item_rating[:5]"
   ]
  },
  {
   "cell_type": "markdown",
   "metadata": {},
   "source": [
    "### give top 10 recommendation"
   ]
  },
  {
   "cell_type": "code",
   "execution_count": 97,
   "metadata": {},
   "outputs": [
    {
     "data": {
      "text/html": [
       "<div>\n",
       "<style scoped>\n",
       "    .dataframe tbody tr th:only-of-type {\n",
       "        vertical-align: middle;\n",
       "    }\n",
       "\n",
       "    .dataframe tbody tr th {\n",
       "        vertical-align: top;\n",
       "    }\n",
       "\n",
       "    .dataframe thead th {\n",
       "        text-align: right;\n",
       "    }\n",
       "</style>\n",
       "<table border=\"1\" class=\"dataframe\">\n",
       "  <thead>\n",
       "    <tr style=\"text-align: right;\">\n",
       "      <th></th>\n",
       "      <th>Rating</th>\n",
       "    </tr>\n",
       "    <tr>\n",
       "      <th>business_id</th>\n",
       "      <th></th>\n",
       "    </tr>\n",
       "  </thead>\n",
       "  <tbody>\n",
       "    <tr>\n",
       "      <th>cyzOijFJ82cae6qH6L8vuw</th>\n",
       "      <td>2.328419</td>\n",
       "    </tr>\n",
       "    <tr>\n",
       "      <th>FNe5PPA9pyj8FjcDefCBpg</th>\n",
       "      <td>2.197946</td>\n",
       "    </tr>\n",
       "    <tr>\n",
       "      <th>-ed0Yc9on37RoIoG2ZgxBA</th>\n",
       "      <td>2.175284</td>\n",
       "    </tr>\n",
       "    <tr>\n",
       "      <th>N0CoaG3cBrTGm2ecLYSzqA</th>\n",
       "      <td>2.160811</td>\n",
       "    </tr>\n",
       "    <tr>\n",
       "      <th>w5CSi-An5meLnxjKSFn0wQ</th>\n",
       "      <td>2.049345</td>\n",
       "    </tr>\n",
       "  </tbody>\n",
       "</table>\n",
       "</div>"
      ],
      "text/plain": [
       "                          Rating\n",
       "business_id                     \n",
       "cyzOijFJ82cae6qH6L8vuw  2.328419\n",
       "FNe5PPA9pyj8FjcDefCBpg  2.197946\n",
       "-ed0Yc9on37RoIoG2ZgxBA  2.175284\n",
       "N0CoaG3cBrTGm2ecLYSzqA  2.160811\n",
       "w5CSi-An5meLnxjKSFn0wQ  2.049345"
      ]
     },
     "execution_count": 97,
     "metadata": {},
     "output_type": "execute_result"
    }
   ],
   "source": [
    "top_recommendations = predict_item_rating.sort_values(by=['Rating'], ascending=[0])[:5]\n",
    "top_recommendations"
   ]
  },
  {
   "cell_type": "markdown",
   "metadata": {},
   "source": [
    "### check detailed business info"
   ]
  },
  {
   "cell_type": "code",
   "execution_count": 101,
   "metadata": {},
   "outputs": [
    {
     "data": {
      "text/html": [
       "<div>\n",
       "<style scoped>\n",
       "    .dataframe tbody tr th:only-of-type {\n",
       "        vertical-align: middle;\n",
       "    }\n",
       "\n",
       "    .dataframe tbody tr th {\n",
       "        vertical-align: top;\n",
       "    }\n",
       "\n",
       "    .dataframe thead th {\n",
       "        text-align: right;\n",
       "    }\n",
       "</style>\n",
       "<table border=\"1\" class=\"dataframe\">\n",
       "  <thead>\n",
       "    <tr style=\"text-align: right;\">\n",
       "      <th></th>\n",
       "      <th>Rating</th>\n",
       "      <th>address</th>\n",
       "      <th>attributes</th>\n",
       "      <th>business_id</th>\n",
       "      <th>categories</th>\n",
       "      <th>city</th>\n",
       "      <th>hours</th>\n",
       "      <th>is_open</th>\n",
       "      <th>latitude</th>\n",
       "      <th>longitude</th>\n",
       "      <th>name</th>\n",
       "      <th>postal_code</th>\n",
       "      <th>review_count</th>\n",
       "      <th>stars</th>\n",
       "      <th>state</th>\n",
       "    </tr>\n",
       "  </thead>\n",
       "  <tbody>\n",
       "    <tr>\n",
       "      <th>174226</th>\n",
       "      <td>2.328419</td>\n",
       "      <td>953 E Sahara Ave, Ste E-14</td>\n",
       "      <td>{'RestaurantsTableService': 'True', 'Caters': ...</td>\n",
       "      <td>cyzOijFJ82cae6qH6L8vuw</td>\n",
       "      <td>Food, Restaurants, Thai, Seafood, Desserts</td>\n",
       "      <td>Las Vegas</td>\n",
       "      <td>{'Monday': '17:0-22:0', 'Tuesday': '17:0-22:0'...</td>\n",
       "      <td>1</td>\n",
       "      <td>36.142286</td>\n",
       "      <td>-115.142521</td>\n",
       "      <td>Arawan Thai Bistro and Dessert</td>\n",
       "      <td>89109</td>\n",
       "      <td>835</td>\n",
       "      <td>4.5</td>\n",
       "      <td>NV</td>\n",
       "    </tr>\n",
       "    <tr>\n",
       "      <th>122007</th>\n",
       "      <td>2.197946</td>\n",
       "      <td>3839 W Sahara Ave, Ste 7-9</td>\n",
       "      <td>{'Ambience': '{'romantic': False, 'intimate': ...</td>\n",
       "      <td>FNe5PPA9pyj8FjcDefCBpg</td>\n",
       "      <td>Food, Bars, Noodles, Beer Bar, Thai, Nightlife...</td>\n",
       "      <td>Las Vegas</td>\n",
       "      <td>{'Monday': '0:0-0:0', 'Tuesday': '11:0-22:0', ...</td>\n",
       "      <td>1</td>\n",
       "      <td>36.143956</td>\n",
       "      <td>-115.193089</td>\n",
       "      <td>Weera Thai</td>\n",
       "      <td>89102</td>\n",
       "      <td>900</td>\n",
       "      <td>4.5</td>\n",
       "      <td>NV</td>\n",
       "    </tr>\n",
       "    <tr>\n",
       "      <th>110619</th>\n",
       "      <td>2.175284</td>\n",
       "      <td>523 Fremont St</td>\n",
       "      <td>{'BusinessAcceptsCreditCards': 'True', 'WiFi':...</td>\n",
       "      <td>-ed0Yc9on37RoIoG2ZgxBA</td>\n",
       "      <td>Beer Gardens, Nightlife, Restaurants, Thai</td>\n",
       "      <td>Las Vegas</td>\n",
       "      <td>{'Monday': '11:0-22:0', 'Tuesday': '11:0-23:0'...</td>\n",
       "      <td>1</td>\n",
       "      <td>36.168802</td>\n",
       "      <td>-115.139880</td>\n",
       "      <td>Le Thai</td>\n",
       "      <td>89101</td>\n",
       "      <td>1638</td>\n",
       "      <td>4.0</td>\n",
       "      <td>NV</td>\n",
       "    </tr>\n",
       "    <tr>\n",
       "      <th>101320</th>\n",
       "      <td>2.160811</td>\n",
       "      <td>620 E Flamingo Rd</td>\n",
       "      <td>{'GoodForDancing': 'False', 'RestaurantsGoodFo...</td>\n",
       "      <td>N0CoaG3cBrTGm2ecLYSzqA</td>\n",
       "      <td>Restaurants, Thai, Bars, Seafood, Nightlife, W...</td>\n",
       "      <td>Las Vegas</td>\n",
       "      <td>{'Monday': '17:30-22:0', 'Tuesday': '17:30-22:...</td>\n",
       "      <td>1</td>\n",
       "      <td>36.115154</td>\n",
       "      <td>-115.149706</td>\n",
       "      <td>Lotus of Siam</td>\n",
       "      <td>89119</td>\n",
       "      <td>649</td>\n",
       "      <td>4.5</td>\n",
       "      <td>NV</td>\n",
       "    </tr>\n",
       "    <tr>\n",
       "      <th>99932</th>\n",
       "      <td>2.049345</td>\n",
       "      <td>3137 S Industrial Rd</td>\n",
       "      <td>{'Ambience': '{'romantic': False, 'intimate': ...</td>\n",
       "      <td>w5CSi-An5meLnxjKSFn0wQ</td>\n",
       "      <td>Seafood, Asian Fusion, Restaurants, Thai</td>\n",
       "      <td>Las Vegas</td>\n",
       "      <td>{'Monday': '11:0-4:0', 'Tuesday': '11:0-4:0', ...</td>\n",
       "      <td>1</td>\n",
       "      <td>36.132775</td>\n",
       "      <td>-115.172881</td>\n",
       "      <td>Thai St Cafe</td>\n",
       "      <td>89109</td>\n",
       "      <td>836</td>\n",
       "      <td>4.0</td>\n",
       "      <td>NV</td>\n",
       "    </tr>\n",
       "  </tbody>\n",
       "</table>\n",
       "</div>"
      ],
      "text/plain": [
       "          Rating                     address  \\\n",
       "174226  2.328419  953 E Sahara Ave, Ste E-14   \n",
       "122007  2.197946  3839 W Sahara Ave, Ste 7-9   \n",
       "110619  2.175284              523 Fremont St   \n",
       "101320  2.160811           620 E Flamingo Rd   \n",
       "99932   2.049345        3137 S Industrial Rd   \n",
       "\n",
       "                                               attributes  \\\n",
       "174226  {'RestaurantsTableService': 'True', 'Caters': ...   \n",
       "122007  {'Ambience': '{'romantic': False, 'intimate': ...   \n",
       "110619  {'BusinessAcceptsCreditCards': 'True', 'WiFi':...   \n",
       "101320  {'GoodForDancing': 'False', 'RestaurantsGoodFo...   \n",
       "99932   {'Ambience': '{'romantic': False, 'intimate': ...   \n",
       "\n",
       "                   business_id  \\\n",
       "174226  cyzOijFJ82cae6qH6L8vuw   \n",
       "122007  FNe5PPA9pyj8FjcDefCBpg   \n",
       "110619  -ed0Yc9on37RoIoG2ZgxBA   \n",
       "101320  N0CoaG3cBrTGm2ecLYSzqA   \n",
       "99932   w5CSi-An5meLnxjKSFn0wQ   \n",
       "\n",
       "                                               categories       city  \\\n",
       "174226         Food, Restaurants, Thai, Seafood, Desserts  Las Vegas   \n",
       "122007  Food, Bars, Noodles, Beer Bar, Thai, Nightlife...  Las Vegas   \n",
       "110619         Beer Gardens, Nightlife, Restaurants, Thai  Las Vegas   \n",
       "101320  Restaurants, Thai, Bars, Seafood, Nightlife, W...  Las Vegas   \n",
       "99932            Seafood, Asian Fusion, Restaurants, Thai  Las Vegas   \n",
       "\n",
       "                                                    hours  is_open   latitude  \\\n",
       "174226  {'Monday': '17:0-22:0', 'Tuesday': '17:0-22:0'...        1  36.142286   \n",
       "122007  {'Monday': '0:0-0:0', 'Tuesday': '11:0-22:0', ...        1  36.143956   \n",
       "110619  {'Monday': '11:0-22:0', 'Tuesday': '11:0-23:0'...        1  36.168802   \n",
       "101320  {'Monday': '17:30-22:0', 'Tuesday': '17:30-22:...        1  36.115154   \n",
       "99932   {'Monday': '11:0-4:0', 'Tuesday': '11:0-4:0', ...        1  36.132775   \n",
       "\n",
       "         longitude                            name postal_code  review_count  \\\n",
       "174226 -115.142521  Arawan Thai Bistro and Dessert       89109           835   \n",
       "122007 -115.193089                      Weera Thai       89102           900   \n",
       "110619 -115.139880                         Le Thai       89101          1638   \n",
       "101320 -115.149706                   Lotus of Siam       89119           649   \n",
       "99932  -115.172881                    Thai St Cafe       89109           836   \n",
       "\n",
       "        stars state  \n",
       "174226    4.5    NV  \n",
       "122007    4.5    NV  \n",
       "110619    4.0    NV  \n",
       "101320    4.5    NV  \n",
       "99932     4.0    NV  "
      ]
     },
     "execution_count": 101,
     "metadata": {},
     "output_type": "execute_result"
    }
   ],
   "source": [
    "top_recommendations_df = top_recommendations.merge(df_business, how ='inner', left_index=True, right_on = 'business_id')\n",
    "top_recommendations_df"
   ]
  },
  {
   "cell_type": "code",
   "execution_count": 100,
   "metadata": {},
   "outputs": [
    {
     "data": {
      "text/plain": [
       "array(['Food, Restaurants, Thai, Seafood, Desserts',\n",
       "       'Food, Bars, Noodles, Beer Bar, Thai, Nightlife, Food Delivery Services, Laotian, Restaurants, Wine Bars, Beer, Wine & Spirits, Vegetarian',\n",
       "       'Beer Gardens, Nightlife, Restaurants, Thai',\n",
       "       'Restaurants, Thai, Bars, Seafood, Nightlife, Wine Bars',\n",
       "       'Seafood, Asian Fusion, Restaurants, Thai'], dtype=object)"
      ]
     },
     "execution_count": 100,
     "metadata": {},
     "output_type": "execute_result"
    }
   ],
   "source": [
    "top_recommendations_df['categories'].values"
   ]
  },
  {
   "cell_type": "markdown",
   "metadata": {},
   "source": [
    "* these top 5 recommendations are high rating and have thai food. Good! "
   ]
  },
  {
   "cell_type": "markdown",
   "metadata": {},
   "source": [
    "## Part 2 Summary\n",
    "\n",
    "* The Lantent Factor Collaborative Filtering using Matrix Factorization on review ratings and texting achieved good recommendation outcome"
   ]
  }
 ],
 "metadata": {
  "anaconda-cloud": {},
  "kernelspec": {
   "display_name": "Python [default]",
   "language": "python",
   "name": "python3"
  },
  "language_info": {
   "codemirror_mode": {
    "name": "ipython",
    "version": 3
   },
   "file_extension": ".py",
   "mimetype": "text/x-python",
   "name": "python",
   "nbconvert_exporter": "python",
   "pygments_lexer": "ipython3",
   "version": "3.6.6"
  },
  "varInspector": {
   "cols": {
    "lenName": 16,
    "lenType": 16,
    "lenVar": 40
   },
   "kernels_config": {
    "python": {
     "delete_cmd_postfix": "",
     "delete_cmd_prefix": "del ",
     "library": "var_list.py",
     "varRefreshCmd": "print(var_dic_list())"
    },
    "r": {
     "delete_cmd_postfix": ") ",
     "delete_cmd_prefix": "rm(",
     "library": "var_list.r",
     "varRefreshCmd": "cat(var_dic_list()) "
    }
   },
   "oldHeight": 414.79999999999995,
   "position": {
    "height": "436.125px",
    "left": "847px",
    "right": "20px",
    "top": "91px",
    "width": "350px"
   },
   "types_to_exclude": [
    "module",
    "function",
    "builtin_function_or_method",
    "instance",
    "_Feature"
   ],
   "varInspector_section_display": "block",
   "window_display": false
  }
 },
 "nbformat": 4,
 "nbformat_minor": 1
}
